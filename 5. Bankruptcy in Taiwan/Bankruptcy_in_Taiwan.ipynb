{
 "cells": [
  {
   "cell_type": "markdown",
   "id": "c3c36479-76ec-42d9-accc-c248bee98ec7",
   "metadata": {},
   "source": [
    "<font size=\"+3\"><strong>5.5. Bankruptcy in Taiwan 🇹🇼</strong></font>"
   ]
  },
  {
   "cell_type": "markdown",
   "id": "60b76180-c42b-43c8-8573-41240f1d2f44",
   "metadata": {},
   "source": [
    "Congratulations on reaching the final assignment!\n",
    "\n",
    "You’ve learned how to build and evaluate models for bankruptcy prediction—now it’s time to put it all into practice using Taiwan company data.\n",
    "\n",
    "In this assignment, you'll follow a full ML workflow  to Predict Bankruptcy in Taiwan."
   ]
  },
  {
   "cell_type": "code",
   "execution_count": 46,
   "id": "af44ab8a-4012-46ca-8e2a-93537e40dbf8",
   "metadata": {},
   "outputs": [],
   "source": [
    "# Import libraries \n",
    "import gzip\n",
    "import json\n",
    "import pickle\n",
    "\n",
    "import pandas as pd\n",
    "import matplotlib.pyplot as plt\n",
    "\n",
    "from imblearn.over_sampling import RandomOverSampler\n",
    "from sklearn.ensemble import RandomForestClassifier\n",
    "from sklearn.model_selection import GridSearchCV, train_test_split, cross_val_score\n",
    "from sklearn.metrics import classification_report, ConfusionMatrixDisplay\n",
    "\n",
    "import warnings\n",
    "warnings.simplefilter(action=\"ignore\", category=FutureWarning)"
   ]
  },
  {
   "cell_type": "markdown",
   "id": "3d3f1942-d8aa-4d5f-8094-7eee14ea9805",
   "metadata": {},
   "source": [
    "# Prepare Data"
   ]
  },
  {
   "cell_type": "markdown",
   "id": "b900ac1a-3f52-482b-9a8b-7da14669a251",
   "metadata": {},
   "source": [
    "## Import"
   ]
  },
  {
   "cell_type": "markdown",
   "id": "c3cc5eca-1689-4317-ba8f-41c5eede6220",
   "metadata": {},
   "source": [
    "**Task 5.5.1** Load the contents of the \"taiwan-bankruptcy-data.json.gz\" and assign it to the variable taiwan_data\n",
    "\n",
    "Note that taiwan_data should be a dictionary. You'll create a DataFrame in a later task."
   ]
  },
  {
   "cell_type": "code",
   "execution_count": 2,
   "id": "2ed3913f-5c74-4e5e-bab2-e308697647b4",
   "metadata": {},
   "outputs": [
    {
     "name": "stdout",
     "output_type": "stream",
     "text": [
      "<class 'dict'>\n"
     ]
    }
   ],
   "source": [
    "# Load data file\n",
    "with gzip.open(\"data/taiwan-bankruptcy-data.json.gz\", \"r\") as f:\n",
    "    taiwan_data = json.load(f)\n",
    "\n",
    "print(type(taiwan_data))"
   ]
  },
  {
   "cell_type": "markdown",
   "id": "f52e6576-ccbb-41f1-bfb4-0bac32acf192",
   "metadata": {},
   "source": [
    "**Task 5.5.2** Now extract the key names from taiwan_data and assign them to the variable taiwan_data_keys."
   ]
  },
  {
   "cell_type": "code",
   "execution_count": 3,
   "id": "b6f87127-18cc-40c0-b566-b0c9c7bc79d1",
   "metadata": {},
   "outputs": [
    {
     "name": "stdout",
     "output_type": "stream",
     "text": [
      "dict_keys(['schema', 'observations', 'metadata'])\n"
     ]
    }
   ],
   "source": [
    "taiwan_data_keys = taiwan_data.keys()\n",
    "print(taiwan_data_keys)"
   ]
  },
  {
   "cell_type": "markdown",
   "id": "ad64848b-418d-4f29-8c2d-0c97936f99e3",
   "metadata": {},
   "source": [
    "**Task 5.5.3** Calculate how many companies are in taiwan_data and assign the result to n_companies. Then Check Activity to verify your results."
   ]
  },
  {
   "cell_type": "code",
   "execution_count": 4,
   "id": "371ae9f8-2852-4b59-a89a-05b78da521bd",
   "metadata": {},
   "outputs": [
    {
     "name": "stdout",
     "output_type": "stream",
     "text": [
      "6137\n"
     ]
    }
   ],
   "source": [
    "n_companies = len(taiwan_data[\"observations\"])\n",
    "print(n_companies)"
   ]
  },
  {
   "cell_type": "markdown",
   "id": "f69f5067-1da1-4a6c-b114-4dc7f9081ff9",
   "metadata": {},
   "source": [
    "**Task 5.5.4** Calculate the number of features associated with each company and assign the result to n_features. Check Activity to verify your results."
   ]
  },
  {
   "cell_type": "code",
   "execution_count": 5,
   "id": "2ab4711f-81ce-4a4a-904f-6cafb5cb2772",
   "metadata": {},
   "outputs": [
    {
     "name": "stdout",
     "output_type": "stream",
     "text": [
      "97\n"
     ]
    }
   ],
   "source": [
    "n_features = len(taiwan_data[\"observations\"][0])  \n",
    "print(n_features)"
   ]
  },
  {
   "cell_type": "markdown",
   "id": "a836b048-7302-43f3-aaa4-7569763d115a",
   "metadata": {},
   "source": [
    "**Task 5.5.5** Create a function named wrangle that takes the path to a compressed JSON file (in .gz format) as input. The function should read and parse the file, extract the data under the \"observations\" key, and return it as a pandas DataFrame."
   ]
  },
  {
   "cell_type": "code",
   "execution_count": 6,
   "id": "faa1bacb-4467-4074-a1ae-915df4d5c1c4",
   "metadata": {},
   "outputs": [],
   "source": [
    "# Create wrangle function\n",
    "def wrangle(filename):\n",
    "    \n",
    "    # unzip and load the json file\n",
    "    with gzip.open(filename) as f:\n",
    "        data = json.load(f)\n",
    "\n",
    "    # read the data to dataframe\n",
    "    df = pd.DataFrame().from_dict(data[\"observations\"]).set_index(\"id\")\n",
    "\n",
    "    return df\n"
   ]
  },
  {
   "cell_type": "code",
   "execution_count": 7,
   "id": "85952194-bb67-49e8-abb9-35e56988b8be",
   "metadata": {},
   "outputs": [
    {
     "name": "stdout",
     "output_type": "stream",
     "text": [
      "df shape: (6137, 96)\n"
     ]
    },
    {
     "data": {
      "text/html": [
       "<div>\n",
       "<style scoped>\n",
       "    .dataframe tbody tr th:only-of-type {\n",
       "        vertical-align: middle;\n",
       "    }\n",
       "\n",
       "    .dataframe tbody tr th {\n",
       "        vertical-align: top;\n",
       "    }\n",
       "\n",
       "    .dataframe thead th {\n",
       "        text-align: right;\n",
       "    }\n",
       "</style>\n",
       "<table border=\"1\" class=\"dataframe\">\n",
       "  <thead>\n",
       "    <tr style=\"text-align: right;\">\n",
       "      <th></th>\n",
       "      <th>bankrupt</th>\n",
       "      <th>Attr_1</th>\n",
       "      <th>Attr_2</th>\n",
       "      <th>Attr_3</th>\n",
       "      <th>Attr_4</th>\n",
       "      <th>Attr_5</th>\n",
       "      <th>Attr_6</th>\n",
       "      <th>Attr_7</th>\n",
       "      <th>Attr_8</th>\n",
       "      <th>Attr_9</th>\n",
       "      <th>...</th>\n",
       "      <th>Attr_86</th>\n",
       "      <th>Attr_87</th>\n",
       "      <th>Attr_88</th>\n",
       "      <th>Attr_89</th>\n",
       "      <th>Attr_90</th>\n",
       "      <th>Attr_91</th>\n",
       "      <th>Attr_92</th>\n",
       "      <th>Attr_93</th>\n",
       "      <th>Attr_94</th>\n",
       "      <th>Attr_95</th>\n",
       "    </tr>\n",
       "    <tr>\n",
       "      <th>id</th>\n",
       "      <th></th>\n",
       "      <th></th>\n",
       "      <th></th>\n",
       "      <th></th>\n",
       "      <th></th>\n",
       "      <th></th>\n",
       "      <th></th>\n",
       "      <th></th>\n",
       "      <th></th>\n",
       "      <th></th>\n",
       "      <th></th>\n",
       "      <th></th>\n",
       "      <th></th>\n",
       "      <th></th>\n",
       "      <th></th>\n",
       "      <th></th>\n",
       "      <th></th>\n",
       "      <th></th>\n",
       "      <th></th>\n",
       "      <th></th>\n",
       "      <th></th>\n",
       "    </tr>\n",
       "  </thead>\n",
       "  <tbody>\n",
       "    <tr>\n",
       "      <th>1</th>\n",
       "      <td>True</td>\n",
       "      <td>0.370594</td>\n",
       "      <td>0.424389</td>\n",
       "      <td>0.405750</td>\n",
       "      <td>0.601457</td>\n",
       "      <td>0.601457</td>\n",
       "      <td>0.998969</td>\n",
       "      <td>0.796887</td>\n",
       "      <td>0.808809</td>\n",
       "      <td>0.302646</td>\n",
       "      <td>...</td>\n",
       "      <td>0.716845</td>\n",
       "      <td>0.009219</td>\n",
       "      <td>0.622879</td>\n",
       "      <td>0.601453</td>\n",
       "      <td>0.827890</td>\n",
       "      <td>0.290202</td>\n",
       "      <td>0.026601</td>\n",
       "      <td>0.564050</td>\n",
       "      <td>1</td>\n",
       "      <td>0.016469</td>\n",
       "    </tr>\n",
       "    <tr>\n",
       "      <th>2</th>\n",
       "      <td>True</td>\n",
       "      <td>0.464291</td>\n",
       "      <td>0.538214</td>\n",
       "      <td>0.516730</td>\n",
       "      <td>0.610235</td>\n",
       "      <td>0.610235</td>\n",
       "      <td>0.998946</td>\n",
       "      <td>0.797380</td>\n",
       "      <td>0.809301</td>\n",
       "      <td>0.303556</td>\n",
       "      <td>...</td>\n",
       "      <td>0.795297</td>\n",
       "      <td>0.008323</td>\n",
       "      <td>0.623652</td>\n",
       "      <td>0.610237</td>\n",
       "      <td>0.839969</td>\n",
       "      <td>0.283846</td>\n",
       "      <td>0.264577</td>\n",
       "      <td>0.570175</td>\n",
       "      <td>1</td>\n",
       "      <td>0.020794</td>\n",
       "    </tr>\n",
       "    <tr>\n",
       "      <th>3</th>\n",
       "      <td>True</td>\n",
       "      <td>0.426071</td>\n",
       "      <td>0.499019</td>\n",
       "      <td>0.472295</td>\n",
       "      <td>0.601450</td>\n",
       "      <td>0.601364</td>\n",
       "      <td>0.998857</td>\n",
       "      <td>0.796403</td>\n",
       "      <td>0.808388</td>\n",
       "      <td>0.302035</td>\n",
       "      <td>...</td>\n",
       "      <td>0.774670</td>\n",
       "      <td>0.040003</td>\n",
       "      <td>0.623841</td>\n",
       "      <td>0.601449</td>\n",
       "      <td>0.836774</td>\n",
       "      <td>0.290189</td>\n",
       "      <td>0.026555</td>\n",
       "      <td>0.563706</td>\n",
       "      <td>1</td>\n",
       "      <td>0.016474</td>\n",
       "    </tr>\n",
       "    <tr>\n",
       "      <th>4</th>\n",
       "      <td>True</td>\n",
       "      <td>0.399844</td>\n",
       "      <td>0.451265</td>\n",
       "      <td>0.457733</td>\n",
       "      <td>0.583541</td>\n",
       "      <td>0.583541</td>\n",
       "      <td>0.998700</td>\n",
       "      <td>0.796967</td>\n",
       "      <td>0.808966</td>\n",
       "      <td>0.303350</td>\n",
       "      <td>...</td>\n",
       "      <td>0.739555</td>\n",
       "      <td>0.003252</td>\n",
       "      <td>0.622929</td>\n",
       "      <td>0.583538</td>\n",
       "      <td>0.834697</td>\n",
       "      <td>0.281721</td>\n",
       "      <td>0.026697</td>\n",
       "      <td>0.564663</td>\n",
       "      <td>1</td>\n",
       "      <td>0.023982</td>\n",
       "    </tr>\n",
       "    <tr>\n",
       "      <th>5</th>\n",
       "      <td>True</td>\n",
       "      <td>0.465022</td>\n",
       "      <td>0.538432</td>\n",
       "      <td>0.522298</td>\n",
       "      <td>0.598783</td>\n",
       "      <td>0.598783</td>\n",
       "      <td>0.998973</td>\n",
       "      <td>0.797366</td>\n",
       "      <td>0.809304</td>\n",
       "      <td>0.303475</td>\n",
       "      <td>...</td>\n",
       "      <td>0.795016</td>\n",
       "      <td>0.003878</td>\n",
       "      <td>0.623521</td>\n",
       "      <td>0.598782</td>\n",
       "      <td>0.839973</td>\n",
       "      <td>0.278514</td>\n",
       "      <td>0.024752</td>\n",
       "      <td>0.575617</td>\n",
       "      <td>1</td>\n",
       "      <td>0.035490</td>\n",
       "    </tr>\n",
       "  </tbody>\n",
       "</table>\n",
       "<p>5 rows × 96 columns</p>\n",
       "</div>"
      ],
      "text/plain": [
       "    bankrupt    Attr_1    Attr_2    Attr_3    Attr_4    Attr_5    Attr_6  \\\n",
       "id                                                                         \n",
       "1       True  0.370594  0.424389  0.405750  0.601457  0.601457  0.998969   \n",
       "2       True  0.464291  0.538214  0.516730  0.610235  0.610235  0.998946   \n",
       "3       True  0.426071  0.499019  0.472295  0.601450  0.601364  0.998857   \n",
       "4       True  0.399844  0.451265  0.457733  0.583541  0.583541  0.998700   \n",
       "5       True  0.465022  0.538432  0.522298  0.598783  0.598783  0.998973   \n",
       "\n",
       "      Attr_7    Attr_8    Attr_9  ...   Attr_86   Attr_87   Attr_88   Attr_89  \\\n",
       "id                                ...                                           \n",
       "1   0.796887  0.808809  0.302646  ...  0.716845  0.009219  0.622879  0.601453   \n",
       "2   0.797380  0.809301  0.303556  ...  0.795297  0.008323  0.623652  0.610237   \n",
       "3   0.796403  0.808388  0.302035  ...  0.774670  0.040003  0.623841  0.601449   \n",
       "4   0.796967  0.808966  0.303350  ...  0.739555  0.003252  0.622929  0.583538   \n",
       "5   0.797366  0.809304  0.303475  ...  0.795016  0.003878  0.623521  0.598782   \n",
       "\n",
       "     Attr_90   Attr_91   Attr_92   Attr_93  Attr_94   Attr_95  \n",
       "id                                                             \n",
       "1   0.827890  0.290202  0.026601  0.564050        1  0.016469  \n",
       "2   0.839969  0.283846  0.264577  0.570175        1  0.020794  \n",
       "3   0.836774  0.290189  0.026555  0.563706        1  0.016474  \n",
       "4   0.834697  0.281721  0.026697  0.564663        1  0.023982  \n",
       "5   0.839973  0.278514  0.024752  0.575617        1  0.035490  \n",
       "\n",
       "[5 rows x 96 columns]"
      ]
     },
     "execution_count": 7,
     "metadata": {},
     "output_type": "execute_result"
    }
   ],
   "source": [
    "df = wrangle(\"data/taiwan-bankruptcy-data.json.gz\")  \n",
    "print(\"df shape:\", df.shape)\n",
    "df.head()"
   ]
  },
  {
   "cell_type": "markdown",
   "id": "4514a2bd-3f70-40f9-8f2c-aba28cb05681",
   "metadata": {},
   "source": [
    "## Explore"
   ]
  },
  {
   "cell_type": "markdown",
   "id": "c6ab7b0f-ad4b-42d7-8113-921a9c618d90",
   "metadata": {},
   "source": [
    "**Task 5.5.6** Is there any missing data in the dataset? Create a Series where the index contains the name of the columns in df and the values are the number of NaNs in each column."
   ]
  },
  {
   "cell_type": "code",
   "execution_count": 8,
   "id": "4f2491e6-2b78-492d-952d-4ebd9b57052c",
   "metadata": {},
   "outputs": [
    {
     "name": "stdout",
     "output_type": "stream",
     "text": [
      "nans_by_col shape: (96,)\n"
     ]
    },
    {
     "data": {
      "text/plain": [
       "bankrupt    0\n",
       "Attr_1      0\n",
       "Attr_2      0\n",
       "Attr_3      0\n",
       "Attr_4      0\n",
       "dtype: int64"
      ]
     },
     "execution_count": 8,
     "metadata": {},
     "output_type": "execute_result"
    }
   ],
   "source": [
    "nans_by_col = df.isna().sum()\n",
    "print(\"nans_by_col shape:\", nans_by_col.shape)\n",
    "nans_by_col.head()"
   ]
  },
  {
   "cell_type": "markdown",
   "id": "6042d8b6-d9bd-4a89-9d32-a3a5aad8e083",
   "metadata": {},
   "source": [
    "**Task 5.5.7** Is the data imbalanced? Create a bar chart that shows the normalized value counts for the column df[\"bankrupt\"]. Use fig, ax = plt.subplots() to define the plot. Add title and label your axes. "
   ]
  },
  {
   "cell_type": "code",
   "execution_count": 9,
   "id": "7b783428-0130-4989-9c3f-9f1fc6fa6ef5",
   "metadata": {},
   "outputs": [
    {
     "data": {
      "image/png": "[encoded data removed]",
      "text/plain": [
       "<Figure size 640x480 with 1 Axes>"
      ]
     },
     "metadata": {},
     "output_type": "display_data"
    }
   ],
   "source": [
    "# Plot class balance\n",
    "fig, ax = plt.subplots()\n",
    "df[\"bankrupt\"].value_counts(normalize=True).plot(kind=\"bar\", \n",
    "                                                 xlabel=\"Bankrupt\",\n",
    "                                                 ylabel=\"Frequency\",\n",
    "                                                 title=\"Class balance\",\n",
    "                                                 ax=ax);"
   ]
  },
  {
   "cell_type": "markdown",
   "id": "e1476d99-abfc-480a-a89a-af45a2d1843b",
   "metadata": {},
   "source": [
    "## Split"
   ]
  },
  {
   "cell_type": "markdown",
   "id": "b80d8434-2287-434c-a752-4a71f2d6d00e",
   "metadata": {},
   "source": [
    "**Task 5.5.8** Create a feature matrix X and a target vector y , using the target column bankrupt."
   ]
  },
  {
   "cell_type": "code",
   "execution_count": 10,
   "id": "daa7e071-f7c6-46fd-ac72-93670f6b3901",
   "metadata": {},
   "outputs": [
    {
     "name": "stdout",
     "output_type": "stream",
     "text": [
      "X shape: (6137, 95)\n",
      "y shape: (6137,)\n"
     ]
    }
   ],
   "source": [
    "target = \"bankrupt\"\n",
    "X = df.drop(columns=target)\n",
    "y = df[target]\n",
    "print(\"X shape:\", X.shape)\n",
    "print(\"y shape:\", y.shape)"
   ]
  },
  {
   "cell_type": "markdown",
   "id": "e1509ebd-2281-4c8a-85b3-3d5ca79bb616",
   "metadata": {},
   "source": [
    "**Task 5.5.9** Divide your dataset into training and test sets using a randomized split. Your test set should be 20% of your data. Keep random_state to 42."
   ]
  },
  {
   "cell_type": "code",
   "execution_count": 11,
   "id": "cebb1dcf-dca2-4fd9-a72c-f993bacb119c",
   "metadata": {},
   "outputs": [
    {
     "name": "stdout",
     "output_type": "stream",
     "text": [
      "X_train shape: (4909, 95)\n",
      "y_train shape: (4909,)\n",
      "X_test shape: (1228, 95)\n",
      "y_test shape: (1228,)\n"
     ]
    }
   ],
   "source": [
    "X_train, X_test, y_train, y_test = train_test_split(X, y, test_size=0.2, random_state=42)\n",
    "print(\"X_train shape:\", X_train.shape)\n",
    "print(\"y_train shape:\", y_train.shape)\n",
    "print(\"X_test shape:\", X_test.shape)\n",
    "print(\"y_test shape:\", y_test.shape)"
   ]
  },
  {
   "cell_type": "markdown",
   "id": "0b0972cc-4ff4-4773-88fe-06217ae2de3e",
   "metadata": {},
   "source": [
    "## Resample"
   ]
  },
  {
   "cell_type": "markdown",
   "id": "71b6f0c9-4a5f-4299-a711-9ab1fd73284c",
   "metadata": {},
   "source": [
    "**Task 5.5.10** Create a new feature matrix X_train_over and target vector y_train_over by performing random over-sampling on the training data. Keep the random_state to 42."
   ]
  },
  {
   "cell_type": "code",
   "execution_count": 12,
   "id": "20bfa903-4d02-4555-97ff-a96941f17bf4",
   "metadata": {},
   "outputs": [
    {
     "name": "stdout",
     "output_type": "stream",
     "text": [
      "X_train_over shape: (9506, 95)\n"
     ]
    },
    {
     "data": {
      "text/html": [
       "<div>\n",
       "<style scoped>\n",
       "    .dataframe tbody tr th:only-of-type {\n",
       "        vertical-align: middle;\n",
       "    }\n",
       "\n",
       "    .dataframe tbody tr th {\n",
       "        vertical-align: top;\n",
       "    }\n",
       "\n",
       "    .dataframe thead th {\n",
       "        text-align: right;\n",
       "    }\n",
       "</style>\n",
       "<table border=\"1\" class=\"dataframe\">\n",
       "  <thead>\n",
       "    <tr style=\"text-align: right;\">\n",
       "      <th></th>\n",
       "      <th>Attr_1</th>\n",
       "      <th>Attr_2</th>\n",
       "      <th>Attr_3</th>\n",
       "      <th>Attr_4</th>\n",
       "      <th>Attr_5</th>\n",
       "      <th>Attr_6</th>\n",
       "      <th>Attr_7</th>\n",
       "      <th>Attr_8</th>\n",
       "      <th>Attr_9</th>\n",
       "      <th>Attr_10</th>\n",
       "      <th>...</th>\n",
       "      <th>Attr_86</th>\n",
       "      <th>Attr_87</th>\n",
       "      <th>Attr_88</th>\n",
       "      <th>Attr_89</th>\n",
       "      <th>Attr_90</th>\n",
       "      <th>Attr_91</th>\n",
       "      <th>Attr_92</th>\n",
       "      <th>Attr_93</th>\n",
       "      <th>Attr_94</th>\n",
       "      <th>Attr_95</th>\n",
       "    </tr>\n",
       "  </thead>\n",
       "  <tbody>\n",
       "    <tr>\n",
       "      <th>0</th>\n",
       "      <td>0.506167</td>\n",
       "      <td>0.568360</td>\n",
       "      <td>0.553563</td>\n",
       "      <td>0.595158</td>\n",
       "      <td>0.595187</td>\n",
       "      <td>0.998984</td>\n",
       "      <td>0.797402</td>\n",
       "      <td>0.809323</td>\n",
       "      <td>0.303514</td>\n",
       "      <td>0.781581</td>\n",
       "      <td>...</td>\n",
       "      <td>0.811337</td>\n",
       "      <td>0.001729</td>\n",
       "      <td>0.623492</td>\n",
       "      <td>0.595156</td>\n",
       "      <td>0.841980</td>\n",
       "      <td>0.286225</td>\n",
       "      <td>0.026981</td>\n",
       "      <td>0.565927</td>\n",
       "      <td>1</td>\n",
       "      <td>0.018617</td>\n",
       "    </tr>\n",
       "    <tr>\n",
       "      <th>1</th>\n",
       "      <td>0.468678</td>\n",
       "      <td>0.497928</td>\n",
       "      <td>0.521548</td>\n",
       "      <td>0.587714</td>\n",
       "      <td>0.587714</td>\n",
       "      <td>0.998757</td>\n",
       "      <td>0.797179</td>\n",
       "      <td>0.809117</td>\n",
       "      <td>0.303599</td>\n",
       "      <td>0.781363</td>\n",
       "      <td>...</td>\n",
       "      <td>0.774070</td>\n",
       "      <td>0.006710</td>\n",
       "      <td>0.624140</td>\n",
       "      <td>0.587714</td>\n",
       "      <td>0.838442</td>\n",
       "      <td>0.278596</td>\n",
       "      <td>0.026640</td>\n",
       "      <td>0.564319</td>\n",
       "      <td>1</td>\n",
       "      <td>0.034963</td>\n",
       "    </tr>\n",
       "    <tr>\n",
       "      <th>2</th>\n",
       "      <td>0.543265</td>\n",
       "      <td>0.589730</td>\n",
       "      <td>0.602923</td>\n",
       "      <td>0.611049</td>\n",
       "      <td>0.611049</td>\n",
       "      <td>0.999169</td>\n",
       "      <td>0.797580</td>\n",
       "      <td>0.809493</td>\n",
       "      <td>0.303438</td>\n",
       "      <td>0.781776</td>\n",
       "      <td>...</td>\n",
       "      <td>0.818833</td>\n",
       "      <td>0.004115</td>\n",
       "      <td>0.624494</td>\n",
       "      <td>0.611049</td>\n",
       "      <td>0.842961</td>\n",
       "      <td>0.286459</td>\n",
       "      <td>0.026950</td>\n",
       "      <td>0.565816</td>\n",
       "      <td>1</td>\n",
       "      <td>0.018451</td>\n",
       "    </tr>\n",
       "    <tr>\n",
       "      <th>3</th>\n",
       "      <td>0.494759</td>\n",
       "      <td>0.557948</td>\n",
       "      <td>0.541571</td>\n",
       "      <td>0.597666</td>\n",
       "      <td>0.597666</td>\n",
       "      <td>0.998992</td>\n",
       "      <td>0.797439</td>\n",
       "      <td>0.809350</td>\n",
       "      <td>0.303564</td>\n",
       "      <td>0.781611</td>\n",
       "      <td>...</td>\n",
       "      <td>0.811436</td>\n",
       "      <td>0.002108</td>\n",
       "      <td>0.623788</td>\n",
       "      <td>0.597663</td>\n",
       "      <td>0.841389</td>\n",
       "      <td>0.280616</td>\n",
       "      <td>0.026833</td>\n",
       "      <td>0.565351</td>\n",
       "      <td>1</td>\n",
       "      <td>0.026543</td>\n",
       "    </tr>\n",
       "    <tr>\n",
       "      <th>4</th>\n",
       "      <td>0.529177</td>\n",
       "      <td>0.600360</td>\n",
       "      <td>0.584346</td>\n",
       "      <td>0.603843</td>\n",
       "      <td>0.603713</td>\n",
       "      <td>0.999014</td>\n",
       "      <td>0.797568</td>\n",
       "      <td>0.809475</td>\n",
       "      <td>0.303743</td>\n",
       "      <td>0.781746</td>\n",
       "      <td>...</td>\n",
       "      <td>0.834857</td>\n",
       "      <td>0.009962</td>\n",
       "      <td>0.623576</td>\n",
       "      <td>0.603844</td>\n",
       "      <td>0.842959</td>\n",
       "      <td>0.278878</td>\n",
       "      <td>0.026799</td>\n",
       "      <td>0.565197</td>\n",
       "      <td>1</td>\n",
       "      <td>0.033299</td>\n",
       "    </tr>\n",
       "  </tbody>\n",
       "</table>\n",
       "<p>5 rows × 95 columns</p>\n",
       "</div>"
      ],
      "text/plain": [
       "     Attr_1    Attr_2    Attr_3    Attr_4    Attr_5    Attr_6    Attr_7  \\\n",
       "0  0.506167  0.568360  0.553563  0.595158  0.595187  0.998984  0.797402   \n",
       "1  0.468678  0.497928  0.521548  0.587714  0.587714  0.998757  0.797179   \n",
       "2  0.543265  0.589730  0.602923  0.611049  0.611049  0.999169  0.797580   \n",
       "3  0.494759  0.557948  0.541571  0.597666  0.597666  0.998992  0.797439   \n",
       "4  0.529177  0.600360  0.584346  0.603843  0.603713  0.999014  0.797568   \n",
       "\n",
       "     Attr_8    Attr_9   Attr_10  ...   Attr_86   Attr_87   Attr_88   Attr_89  \\\n",
       "0  0.809323  0.303514  0.781581  ...  0.811337  0.001729  0.623492  0.595156   \n",
       "1  0.809117  0.303599  0.781363  ...  0.774070  0.006710  0.624140  0.587714   \n",
       "2  0.809493  0.303438  0.781776  ...  0.818833  0.004115  0.624494  0.611049   \n",
       "3  0.809350  0.303564  0.781611  ...  0.811436  0.002108  0.623788  0.597663   \n",
       "4  0.809475  0.303743  0.781746  ...  0.834857  0.009962  0.623576  0.603844   \n",
       "\n",
       "    Attr_90   Attr_91   Attr_92   Attr_93  Attr_94   Attr_95  \n",
       "0  0.841980  0.286225  0.026981  0.565927        1  0.018617  \n",
       "1  0.838442  0.278596  0.026640  0.564319        1  0.034963  \n",
       "2  0.842961  0.286459  0.026950  0.565816        1  0.018451  \n",
       "3  0.841389  0.280616  0.026833  0.565351        1  0.026543  \n",
       "4  0.842959  0.278878  0.026799  0.565197        1  0.033299  \n",
       "\n",
       "[5 rows x 95 columns]"
      ]
     },
     "execution_count": 12,
     "metadata": {},
     "output_type": "execute_result"
    }
   ],
   "source": [
    "over_sampler = RandomOverSampler(random_state=42)\n",
    "X_train_over, y_train_over = over_sampler.fit_resample(X_train, y_train)\n",
    "print(\"X_train_over shape:\", X_train_over.shape)\n",
    "X_train_over.head()"
   ]
  },
  {
   "cell_type": "markdown",
   "id": "cc90ef20-0371-4975-9186-d0330c0744a4",
   "metadata": {},
   "source": [
    "# Build Model"
   ]
  },
  {
   "cell_type": "markdown",
   "id": "ebf6a3cb-1709-4a0e-ad54-f507b564bfb8",
   "metadata": {},
   "source": [
    "## Iterate"
   ]
  },
  {
   "cell_type": "markdown",
   "id": "5eea22f1-6552-4156-9f6b-360e75fe2f6b",
   "metadata": {},
   "source": [
    "**Task 5.5.11** Create a classifier clf that can be trained on the over-sampled training data. Use RandomForestClassifier with a random_state of 42."
   ]
  },
  {
   "cell_type": "code",
   "execution_count": 13,
   "id": "7d9821ab-daed-4c97-b71f-aa2270446d94",
   "metadata": {},
   "outputs": [],
   "source": [
    "clf = RandomForestClassifier(random_state=42)"
   ]
  },
  {
   "cell_type": "markdown",
   "id": "badb7445-e936-4e9f-b058-09c47be75d2c",
   "metadata": {},
   "source": [
    "<div class=\"alert alert-info\" role=\"alert\">\n",
    "    <p><b>Tip:</b> Use your CV scores to evaluate different classifiers. Choose the one that gives you the best scores.</p>\n",
    "</div>"
   ]
  },
  {
   "cell_type": "markdown",
   "id": "4f60a70b-f413-4dd9-a835-e1a00cf1f7d5",
   "metadata": {},
   "source": [
    "**Task 5.5.12** Perform cross-validation with your classifier using the over-sampled training data, and assign your results to cv_scores. Keep cv set to 5 and n_jobs to -1 ."
   ]
  },
  {
   "cell_type": "code",
   "execution_count": 14,
   "id": "80d967d7-677d-4ccb-9a8f-8038d44d8d97",
   "metadata": {},
   "outputs": [
    {
     "name": "stdout",
     "output_type": "stream",
     "text": [
      "[0.99421661 0.99368753 0.99631773 0.99368753 0.99684377]\n"
     ]
    }
   ],
   "source": [
    "cv_scores = cross_val_score(clf, X_train_over, y_train_over, cv=5, n_jobs=-1)\n",
    "print(cv_scores)"
   ]
  },
  {
   "cell_type": "markdown",
   "id": "9124b44d-8221-42d2-a1cd-8868735ab71f",
   "metadata": {},
   "source": [
    "**Task 5.5.13** Create a GridSearchCV named model that includes classifier and hyperparameter grid. Keep cv set to 5, n_jobs to -1, and verbose to 1.  Try `max_depth` of 30 , 40 and 50, and `n_estimators` of upto 100. And lastly, fit your over_sampled training data to the model."
   ]
  },
  {
   "cell_type": "code",
   "execution_count": 36,
   "id": "f4221e7e-6010-43f4-862b-0a762d593410",
   "metadata": {},
   "outputs": [
    {
     "data": {
      "text/plain": [
       "{'max_depth': range(30, 51, 10), 'n_estimators': range(25, 101, 25)}"
      ]
     },
     "execution_count": 36,
     "metadata": {},
     "output_type": "execute_result"
    }
   ],
   "source": [
    "# identify the hyperparameters\n",
    "params = {\n",
    "    \"max_depth\": range(30, 51, 10),\n",
    "    \"n_estimators\": range(25, 101, 25),\n",
    "}\n",
    "params"
   ]
  },
  {
   "cell_type": "code",
   "execution_count": 37,
   "id": "b2ee6931-5405-403c-b99e-0c2db1459355",
   "metadata": {},
   "outputs": [
    {
     "name": "stdout",
     "output_type": "stream",
     "text": [
      "Fitting 5 folds for each of 12 candidates, totalling 60 fits\n"
     ]
    },
    {
     "data": {
      "text/html": [
       "<style>#sk-container-id-3 {\n",
       "  /* Definition of color scheme common for light and dark mode */\n",
       "  --sklearn-color-text: #000;\n",
       "  --sklearn-color-text-muted: #666;\n",
       "  --sklearn-color-line: gray;\n",
       "  /* Definition of color scheme for unfitted estimators */\n",
       "  --sklearn-color-unfitted-level-0: #fff5e6;\n",
       "  --sklearn-color-unfitted-level-1: #f6e4d2;\n",
       "  --sklearn-color-unfitted-level-2: #ffe0b3;\n",
       "  --sklearn-color-unfitted-level-3: chocolate;\n",
       "  /* Definition of color scheme for fitted estimators */\n",
       "  --sklearn-color-fitted-level-0: #f0f8ff;\n",
       "  --sklearn-color-fitted-level-1: #d4ebff;\n",
       "  --sklearn-color-fitted-level-2: #b3dbfd;\n",
       "  --sklearn-color-fitted-level-3: cornflowerblue;\n",
       "\n",
       "  /* Specific color for light theme */\n",
       "  --sklearn-color-text-on-default-background: var(--sg-text-color, var(--theme-code-foreground, var(--jp-content-font-color1, black)));\n",
       "  --sklearn-color-background: var(--sg-background-color, var(--theme-background, var(--jp-layout-color0, white)));\n",
       "  --sklearn-color-border-box: var(--sg-text-color, var(--theme-code-foreground, var(--jp-content-font-color1, black)));\n",
       "  --sklearn-color-icon: #696969;\n",
       "\n",
       "  @media (prefers-color-scheme: dark) {\n",
       "    /* Redefinition of color scheme for dark theme */\n",
       "    --sklearn-color-text-on-default-background: var(--sg-text-color, var(--theme-code-foreground, var(--jp-content-font-color1, white)));\n",
       "    --sklearn-color-background: var(--sg-background-color, var(--theme-background, var(--jp-layout-color0, #111)));\n",
       "    --sklearn-color-border-box: var(--sg-text-color, var(--theme-code-foreground, var(--jp-content-font-color1, white)));\n",
       "    --sklearn-color-icon: #878787;\n",
       "  }\n",
       "}\n",
       "\n",
       "#sk-container-id-3 {\n",
       "  color: var(--sklearn-color-text);\n",
       "}\n",
       "\n",
       "#sk-container-id-3 pre {\n",
       "  padding: 0;\n",
       "}\n",
       "\n",
       "#sk-container-id-3 input.sk-hidden--visually {\n",
       "  border: 0;\n",
       "  clip: rect(1px 1px 1px 1px);\n",
       "  clip: rect(1px, 1px, 1px, 1px);\n",
       "  height: 1px;\n",
       "  margin: -1px;\n",
       "  overflow: hidden;\n",
       "  padding: 0;\n",
       "  position: absolute;\n",
       "  width: 1px;\n",
       "}\n",
       "\n",
       "#sk-container-id-3 div.sk-dashed-wrapped {\n",
       "  border: 1px dashed var(--sklearn-color-line);\n",
       "  margin: 0 0.4em 0.5em 0.4em;\n",
       "  box-sizing: border-box;\n",
       "  padding-bottom: 0.4em;\n",
       "  background-color: var(--sklearn-color-background);\n",
       "}\n",
       "\n",
       "#sk-container-id-3 div.sk-container {\n",
       "  /* jupyter's `normalize.less` sets `[hidden] { display: none; }`\n",
       "     but bootstrap.min.css set `[hidden] { display: none !important; }`\n",
       "     so we also need the `!important` here to be able to override the\n",
       "     default hidden behavior on the sphinx rendered scikit-learn.org.\n",
       "     See: https://github.com/scikit-learn/scikit-learn/issues/21755 */\n",
       "  display: inline-block !important;\n",
       "  position: relative;\n",
       "}\n",
       "\n",
       "#sk-container-id-3 div.sk-text-repr-fallback {\n",
       "  display: none;\n",
       "}\n",
       "\n",
       "div.sk-parallel-item,\n",
       "div.sk-serial,\n",
       "div.sk-item {\n",
       "  /* draw centered vertical line to link estimators */\n",
       "  background-image: linear-gradient(var(--sklearn-color-text-on-default-background), var(--sklearn-color-text-on-default-background));\n",
       "  background-size: 2px 100%;\n",
       "  background-repeat: no-repeat;\n",
       "  background-position: center center;\n",
       "}\n",
       "\n",
       "/* Parallel-specific style estimator block */\n",
       "\n",
       "#sk-container-id-3 div.sk-parallel-item::after {\n",
       "  content: \"\";\n",
       "  width: 100%;\n",
       "  border-bottom: 2px solid var(--sklearn-color-text-on-default-background);\n",
       "  flex-grow: 1;\n",
       "}\n",
       "\n",
       "#sk-container-id-3 div.sk-parallel {\n",
       "  display: flex;\n",
       "  align-items: stretch;\n",
       "  justify-content: center;\n",
       "  background-color: var(--sklearn-color-background);\n",
       "  position: relative;\n",
       "}\n",
       "\n",
       "#sk-container-id-3 div.sk-parallel-item {\n",
       "  display: flex;\n",
       "  flex-direction: column;\n",
       "}\n",
       "\n",
       "#sk-container-id-3 div.sk-parallel-item:first-child::after {\n",
       "  align-self: flex-end;\n",
       "  width: 50%;\n",
       "}\n",
       "\n",
       "#sk-container-id-3 div.sk-parallel-item:last-child::after {\n",
       "  align-self: flex-start;\n",
       "  width: 50%;\n",
       "}\n",
       "\n",
       "#sk-container-id-3 div.sk-parallel-item:only-child::after {\n",
       "  width: 0;\n",
       "}\n",
       "\n",
       "/* Serial-specific style estimator block */\n",
       "\n",
       "#sk-container-id-3 div.sk-serial {\n",
       "  display: flex;\n",
       "  flex-direction: column;\n",
       "  align-items: center;\n",
       "  background-color: var(--sklearn-color-background);\n",
       "  padding-right: 1em;\n",
       "  padding-left: 1em;\n",
       "}\n",
       "\n",
       "\n",
       "/* Toggleable style: style used for estimator/Pipeline/ColumnTransformer box that is\n",
       "clickable and can be expanded/collapsed.\n",
       "- Pipeline and ColumnTransformer use this feature and define the default style\n",
       "- Estimators will overwrite some part of the style using the `sk-estimator` class\n",
       "*/\n",
       "\n",
       "/* Pipeline and ColumnTransformer style (default) */\n",
       "\n",
       "#sk-container-id-3 div.sk-toggleable {\n",
       "  /* Default theme specific background. It is overwritten whether we have a\n",
       "  specific estimator or a Pipeline/ColumnTransformer */\n",
       "  background-color: var(--sklearn-color-background);\n",
       "}\n",
       "\n",
       "/* Toggleable label */\n",
       "#sk-container-id-3 label.sk-toggleable__label {\n",
       "  cursor: pointer;\n",
       "  display: flex;\n",
       "  width: 100%;\n",
       "  margin-bottom: 0;\n",
       "  padding: 0.5em;\n",
       "  box-sizing: border-box;\n",
       "  text-align: center;\n",
       "  align-items: start;\n",
       "  justify-content: space-between;\n",
       "  gap: 0.5em;\n",
       "}\n",
       "\n",
       "#sk-container-id-3 label.sk-toggleable__label .caption {\n",
       "  font-size: 0.6rem;\n",
       "  font-weight: lighter;\n",
       "  color: var(--sklearn-color-text-muted);\n",
       "}\n",
       "\n",
       "#sk-container-id-3 label.sk-toggleable__label-arrow:before {\n",
       "  /* Arrow on the left of the label */\n",
       "  content: \"▸\";\n",
       "  float: left;\n",
       "  margin-right: 0.25em;\n",
       "  color: var(--sklearn-color-icon);\n",
       "}\n",
       "\n",
       "#sk-container-id-3 label.sk-toggleable__label-arrow:hover:before {\n",
       "  color: var(--sklearn-color-text);\n",
       "}\n",
       "\n",
       "/* Toggleable content - dropdown */\n",
       "\n",
       "#sk-container-id-3 div.sk-toggleable__content {\n",
       "  max-height: 0;\n",
       "  max-width: 0;\n",
       "  overflow: hidden;\n",
       "  text-align: left;\n",
       "  /* unfitted */\n",
       "  background-color: var(--sklearn-color-unfitted-level-0);\n",
       "}\n",
       "\n",
       "#sk-container-id-3 div.sk-toggleable__content.fitted {\n",
       "  /* fitted */\n",
       "  background-color: var(--sklearn-color-fitted-level-0);\n",
       "}\n",
       "\n",
       "#sk-container-id-3 div.sk-toggleable__content pre {\n",
       "  margin: 0.2em;\n",
       "  border-radius: 0.25em;\n",
       "  color: var(--sklearn-color-text);\n",
       "  /* unfitted */\n",
       "  background-color: var(--sklearn-color-unfitted-level-0);\n",
       "}\n",
       "\n",
       "#sk-container-id-3 div.sk-toggleable__content.fitted pre {\n",
       "  /* unfitted */\n",
       "  background-color: var(--sklearn-color-fitted-level-0);\n",
       "}\n",
       "\n",
       "#sk-container-id-3 input.sk-toggleable__control:checked~div.sk-toggleable__content {\n",
       "  /* Expand drop-down */\n",
       "  max-height: 200px;\n",
       "  max-width: 100%;\n",
       "  overflow: auto;\n",
       "}\n",
       "\n",
       "#sk-container-id-3 input.sk-toggleable__control:checked~label.sk-toggleable__label-arrow:before {\n",
       "  content: \"▾\";\n",
       "}\n",
       "\n",
       "/* Pipeline/ColumnTransformer-specific style */\n",
       "\n",
       "#sk-container-id-3 div.sk-label input.sk-toggleable__control:checked~label.sk-toggleable__label {\n",
       "  color: var(--sklearn-color-text);\n",
       "  background-color: var(--sklearn-color-unfitted-level-2);\n",
       "}\n",
       "\n",
       "#sk-container-id-3 div.sk-label.fitted input.sk-toggleable__control:checked~label.sk-toggleable__label {\n",
       "  background-color: var(--sklearn-color-fitted-level-2);\n",
       "}\n",
       "\n",
       "/* Estimator-specific style */\n",
       "\n",
       "/* Colorize estimator box */\n",
       "#sk-container-id-3 div.sk-estimator input.sk-toggleable__control:checked~label.sk-toggleable__label {\n",
       "  /* unfitted */\n",
       "  background-color: var(--sklearn-color-unfitted-level-2);\n",
       "}\n",
       "\n",
       "#sk-container-id-3 div.sk-estimator.fitted input.sk-toggleable__control:checked~label.sk-toggleable__label {\n",
       "  /* fitted */\n",
       "  background-color: var(--sklearn-color-fitted-level-2);\n",
       "}\n",
       "\n",
       "#sk-container-id-3 div.sk-label label.sk-toggleable__label,\n",
       "#sk-container-id-3 div.sk-label label {\n",
       "  /* The background is the default theme color */\n",
       "  color: var(--sklearn-color-text-on-default-background);\n",
       "}\n",
       "\n",
       "/* On hover, darken the color of the background */\n",
       "#sk-container-id-3 div.sk-label:hover label.sk-toggleable__label {\n",
       "  color: var(--sklearn-color-text);\n",
       "  background-color: var(--sklearn-color-unfitted-level-2);\n",
       "}\n",
       "\n",
       "/* Label box, darken color on hover, fitted */\n",
       "#sk-container-id-3 div.sk-label.fitted:hover label.sk-toggleable__label.fitted {\n",
       "  color: var(--sklearn-color-text);\n",
       "  background-color: var(--sklearn-color-fitted-level-2);\n",
       "}\n",
       "\n",
       "/* Estimator label */\n",
       "\n",
       "#sk-container-id-3 div.sk-label label {\n",
       "  font-family: monospace;\n",
       "  font-weight: bold;\n",
       "  display: inline-block;\n",
       "  line-height: 1.2em;\n",
       "}\n",
       "\n",
       "#sk-container-id-3 div.sk-label-container {\n",
       "  text-align: center;\n",
       "}\n",
       "\n",
       "/* Estimator-specific */\n",
       "#sk-container-id-3 div.sk-estimator {\n",
       "  font-family: monospace;\n",
       "  border: 1px dotted var(--sklearn-color-border-box);\n",
       "  border-radius: 0.25em;\n",
       "  box-sizing: border-box;\n",
       "  margin-bottom: 0.5em;\n",
       "  /* unfitted */\n",
       "  background-color: var(--sklearn-color-unfitted-level-0);\n",
       "}\n",
       "\n",
       "#sk-container-id-3 div.sk-estimator.fitted {\n",
       "  /* fitted */\n",
       "  background-color: var(--sklearn-color-fitted-level-0);\n",
       "}\n",
       "\n",
       "/* on hover */\n",
       "#sk-container-id-3 div.sk-estimator:hover {\n",
       "  /* unfitted */\n",
       "  background-color: var(--sklearn-color-unfitted-level-2);\n",
       "}\n",
       "\n",
       "#sk-container-id-3 div.sk-estimator.fitted:hover {\n",
       "  /* fitted */\n",
       "  background-color: var(--sklearn-color-fitted-level-2);\n",
       "}\n",
       "\n",
       "/* Specification for estimator info (e.g. \"i\" and \"?\") */\n",
       "\n",
       "/* Common style for \"i\" and \"?\" */\n",
       "\n",
       ".sk-estimator-doc-link,\n",
       "a:link.sk-estimator-doc-link,\n",
       "a:visited.sk-estimator-doc-link {\n",
       "  float: right;\n",
       "  font-size: smaller;\n",
       "  line-height: 1em;\n",
       "  font-family: monospace;\n",
       "  background-color: var(--sklearn-color-background);\n",
       "  border-radius: 1em;\n",
       "  height: 1em;\n",
       "  width: 1em;\n",
       "  text-decoration: none !important;\n",
       "  margin-left: 0.5em;\n",
       "  text-align: center;\n",
       "  /* unfitted */\n",
       "  border: var(--sklearn-color-unfitted-level-1) 1pt solid;\n",
       "  color: var(--sklearn-color-unfitted-level-1);\n",
       "}\n",
       "\n",
       ".sk-estimator-doc-link.fitted,\n",
       "a:link.sk-estimator-doc-link.fitted,\n",
       "a:visited.sk-estimator-doc-link.fitted {\n",
       "  /* fitted */\n",
       "  border: var(--sklearn-color-fitted-level-1) 1pt solid;\n",
       "  color: var(--sklearn-color-fitted-level-1);\n",
       "}\n",
       "\n",
       "/* On hover */\n",
       "div.sk-estimator:hover .sk-estimator-doc-link:hover,\n",
       ".sk-estimator-doc-link:hover,\n",
       "div.sk-label-container:hover .sk-estimator-doc-link:hover,\n",
       ".sk-estimator-doc-link:hover {\n",
       "  /* unfitted */\n",
       "  background-color: var(--sklearn-color-unfitted-level-3);\n",
       "  color: var(--sklearn-color-background);\n",
       "  text-decoration: none;\n",
       "}\n",
       "\n",
       "div.sk-estimator.fitted:hover .sk-estimator-doc-link.fitted:hover,\n",
       ".sk-estimator-doc-link.fitted:hover,\n",
       "div.sk-label-container:hover .sk-estimator-doc-link.fitted:hover,\n",
       ".sk-estimator-doc-link.fitted:hover {\n",
       "  /* fitted */\n",
       "  background-color: var(--sklearn-color-fitted-level-3);\n",
       "  color: var(--sklearn-color-background);\n",
       "  text-decoration: none;\n",
       "}\n",
       "\n",
       "/* Span, style for the box shown on hovering the info icon */\n",
       ".sk-estimator-doc-link span {\n",
       "  display: none;\n",
       "  z-index: 9999;\n",
       "  position: relative;\n",
       "  font-weight: normal;\n",
       "  right: .2ex;\n",
       "  padding: .5ex;\n",
       "  margin: .5ex;\n",
       "  width: min-content;\n",
       "  min-width: 20ex;\n",
       "  max-width: 50ex;\n",
       "  color: var(--sklearn-color-text);\n",
       "  box-shadow: 2pt 2pt 4pt #999;\n",
       "  /* unfitted */\n",
       "  background: var(--sklearn-color-unfitted-level-0);\n",
       "  border: .5pt solid var(--sklearn-color-unfitted-level-3);\n",
       "}\n",
       "\n",
       ".sk-estimator-doc-link.fitted span {\n",
       "  /* fitted */\n",
       "  background: var(--sklearn-color-fitted-level-0);\n",
       "  border: var(--sklearn-color-fitted-level-3);\n",
       "}\n",
       "\n",
       ".sk-estimator-doc-link:hover span {\n",
       "  display: block;\n",
       "}\n",
       "\n",
       "/* \"?\"-specific style due to the `<a>` HTML tag */\n",
       "\n",
       "#sk-container-id-3 a.estimator_doc_link {\n",
       "  float: right;\n",
       "  font-size: 1rem;\n",
       "  line-height: 1em;\n",
       "  font-family: monospace;\n",
       "  background-color: var(--sklearn-color-background);\n",
       "  border-radius: 1rem;\n",
       "  height: 1rem;\n",
       "  width: 1rem;\n",
       "  text-decoration: none;\n",
       "  /* unfitted */\n",
       "  color: var(--sklearn-color-unfitted-level-1);\n",
       "  border: var(--sklearn-color-unfitted-level-1) 1pt solid;\n",
       "}\n",
       "\n",
       "#sk-container-id-3 a.estimator_doc_link.fitted {\n",
       "  /* fitted */\n",
       "  border: var(--sklearn-color-fitted-level-1) 1pt solid;\n",
       "  color: var(--sklearn-color-fitted-level-1);\n",
       "}\n",
       "\n",
       "/* On hover */\n",
       "#sk-container-id-3 a.estimator_doc_link:hover {\n",
       "  /* unfitted */\n",
       "  background-color: var(--sklearn-color-unfitted-level-3);\n",
       "  color: var(--sklearn-color-background);\n",
       "  text-decoration: none;\n",
       "}\n",
       "\n",
       "#sk-container-id-3 a.estimator_doc_link.fitted:hover {\n",
       "  /* fitted */\n",
       "  background-color: var(--sklearn-color-fitted-level-3);\n",
       "}\n",
       "</style><div id=\"sk-container-id-3\" class=\"sk-top-container\"><div class=\"sk-text-repr-fallback\"><pre>GridSearchCV(cv=5, estimator=RandomForestClassifier(random_state=42), n_jobs=-1,\n",
       "             param_grid={&#x27;max_depth&#x27;: range(30, 51, 10),\n",
       "                         &#x27;n_estimators&#x27;: range(25, 101, 25)},\n",
       "             verbose=1)</pre><b>In a Jupyter environment, please rerun this cell to show the HTML representation or trust the notebook. <br />On GitHub, the HTML representation is unable to render, please try loading this page with nbviewer.org.</b></div><div class=\"sk-container\" hidden><div class=\"sk-item sk-dashed-wrapped\"><div class=\"sk-label-container\"><div class=\"sk-label fitted sk-toggleable\"><input class=\"sk-toggleable__control sk-hidden--visually\" id=\"sk-estimator-id-7\" type=\"checkbox\" ><label for=\"sk-estimator-id-7\" class=\"sk-toggleable__label fitted sk-toggleable__label-arrow\"><div><div>GridSearchCV</div></div><div><a class=\"sk-estimator-doc-link fitted\" rel=\"noreferrer\" target=\"_blank\" href=\"https://scikit-learn.org/1.6/modules/generated/sklearn.model_selection.GridSearchCV.html\">?<span>Documentation for GridSearchCV</span></a><span class=\"sk-estimator-doc-link fitted\">i<span>Fitted</span></span></div></label><div class=\"sk-toggleable__content fitted\"><pre>GridSearchCV(cv=5, estimator=RandomForestClassifier(random_state=42), n_jobs=-1,\n",
       "             param_grid={&#x27;max_depth&#x27;: range(30, 51, 10),\n",
       "                         &#x27;n_estimators&#x27;: range(25, 101, 25)},\n",
       "             verbose=1)</pre></div> </div></div><div class=\"sk-parallel\"><div class=\"sk-parallel-item\"><div class=\"sk-item\"><div class=\"sk-label-container\"><div class=\"sk-label fitted sk-toggleable\"><input class=\"sk-toggleable__control sk-hidden--visually\" id=\"sk-estimator-id-8\" type=\"checkbox\" ><label for=\"sk-estimator-id-8\" class=\"sk-toggleable__label fitted sk-toggleable__label-arrow\"><div><div>best_estimator_: RandomForestClassifier</div></div></label><div class=\"sk-toggleable__content fitted\"><pre>RandomForestClassifier(max_depth=40, random_state=42)</pre></div> </div></div><div class=\"sk-serial\"><div class=\"sk-item\"><div class=\"sk-estimator fitted sk-toggleable\"><input class=\"sk-toggleable__control sk-hidden--visually\" id=\"sk-estimator-id-9\" type=\"checkbox\" ><label for=\"sk-estimator-id-9\" class=\"sk-toggleable__label fitted sk-toggleable__label-arrow\"><div><div>RandomForestClassifier</div></div><div><a class=\"sk-estimator-doc-link fitted\" rel=\"noreferrer\" target=\"_blank\" href=\"https://scikit-learn.org/1.6/modules/generated/sklearn.ensemble.RandomForestClassifier.html\">?<span>Documentation for RandomForestClassifier</span></a></div></label><div class=\"sk-toggleable__content fitted\"><pre>RandomForestClassifier(max_depth=40, random_state=42)</pre></div> </div></div></div></div></div></div></div></div></div>"
      ],
      "text/plain": [
       "GridSearchCV(cv=5, estimator=RandomForestClassifier(random_state=42), n_jobs=-1,\n",
       "             param_grid={'max_depth': range(30, 51, 10),\n",
       "                         'n_estimators': range(25, 101, 25)},\n",
       "             verbose=1)"
      ]
     },
     "execution_count": 37,
     "metadata": {},
     "output_type": "execute_result"
    }
   ],
   "source": [
    "model = GridSearchCV(clf, param_grid=params, cv=5, n_jobs=-1, verbose=1)\n",
    "\n",
    "model.fit(X_train_over, y_train_over)"
   ]
  },
  {
   "cell_type": "markdown",
   "id": "db77d925-17aa-42da-94e2-230f3bcc4aad",
   "metadata": {},
   "source": [
    "**Task 5.5.14** Extract the cross-validation results from your model, and load them into a DataFrame named cv_results. Use these results, to determine which set of hyperparameters led to the best performance."
   ]
  },
  {
   "cell_type": "code",
   "execution_count": 38,
   "id": "b93c4553-3851-4718-b4f7-e709ec5627a5",
   "metadata": {},
   "outputs": [
    {
     "data": {
      "text/html": [
       "<div>\n",
       "<style scoped>\n",
       "    .dataframe tbody tr th:only-of-type {\n",
       "        vertical-align: middle;\n",
       "    }\n",
       "\n",
       "    .dataframe tbody tr th {\n",
       "        vertical-align: top;\n",
       "    }\n",
       "\n",
       "    .dataframe thead th {\n",
       "        text-align: right;\n",
       "    }\n",
       "</style>\n",
       "<table border=\"1\" class=\"dataframe\">\n",
       "  <thead>\n",
       "    <tr style=\"text-align: right;\">\n",
       "      <th></th>\n",
       "      <th>mean_fit_time</th>\n",
       "      <th>std_fit_time</th>\n",
       "      <th>mean_score_time</th>\n",
       "      <th>std_score_time</th>\n",
       "      <th>param_max_depth</th>\n",
       "      <th>param_n_estimators</th>\n",
       "      <th>params</th>\n",
       "      <th>split0_test_score</th>\n",
       "      <th>split1_test_score</th>\n",
       "      <th>split2_test_score</th>\n",
       "      <th>split3_test_score</th>\n",
       "      <th>split4_test_score</th>\n",
       "      <th>mean_test_score</th>\n",
       "      <th>std_test_score</th>\n",
       "      <th>rank_test_score</th>\n",
       "    </tr>\n",
       "  </thead>\n",
       "  <tbody>\n",
       "    <tr>\n",
       "      <th>0</th>\n",
       "      <td>2.800458</td>\n",
       "      <td>0.052246</td>\n",
       "      <td>0.067967</td>\n",
       "      <td>0.010694</td>\n",
       "      <td>30</td>\n",
       "      <td>25</td>\n",
       "      <td>{'max_depth': 30, 'n_estimators': 25}</td>\n",
       "      <td>0.991588</td>\n",
       "      <td>0.992109</td>\n",
       "      <td>0.994214</td>\n",
       "      <td>0.993161</td>\n",
       "      <td>0.994740</td>\n",
       "      <td>0.993162</td>\n",
       "      <td>0.001198</td>\n",
       "      <td>12</td>\n",
       "    </tr>\n",
       "    <tr>\n",
       "      <th>1</th>\n",
       "      <td>5.549346</td>\n",
       "      <td>0.103805</td>\n",
       "      <td>0.102421</td>\n",
       "      <td>0.013795</td>\n",
       "      <td>30</td>\n",
       "      <td>50</td>\n",
       "      <td>{'max_depth': 30, 'n_estimators': 50}</td>\n",
       "      <td>0.993165</td>\n",
       "      <td>0.991583</td>\n",
       "      <td>0.994214</td>\n",
       "      <td>0.993161</td>\n",
       "      <td>0.995792</td>\n",
       "      <td>0.993583</td>\n",
       "      <td>0.001388</td>\n",
       "      <td>11</td>\n",
       "    </tr>\n",
       "    <tr>\n",
       "      <th>2</th>\n",
       "      <td>8.037367</td>\n",
       "      <td>0.098695</td>\n",
       "      <td>0.133539</td>\n",
       "      <td>0.034453</td>\n",
       "      <td>30</td>\n",
       "      <td>75</td>\n",
       "      <td>{'max_depth': 30, 'n_estimators': 75}</td>\n",
       "      <td>0.994217</td>\n",
       "      <td>0.993688</td>\n",
       "      <td>0.995266</td>\n",
       "      <td>0.993688</td>\n",
       "      <td>0.995266</td>\n",
       "      <td>0.994425</td>\n",
       "      <td>0.000713</td>\n",
       "      <td>6</td>\n",
       "    </tr>\n",
       "    <tr>\n",
       "      <th>3</th>\n",
       "      <td>11.018060</td>\n",
       "      <td>0.253342</td>\n",
       "      <td>0.149029</td>\n",
       "      <td>0.006303</td>\n",
       "      <td>30</td>\n",
       "      <td>100</td>\n",
       "      <td>{'max_depth': 30, 'n_estimators': 100}</td>\n",
       "      <td>0.994217</td>\n",
       "      <td>0.993688</td>\n",
       "      <td>0.995792</td>\n",
       "      <td>0.993688</td>\n",
       "      <td>0.996844</td>\n",
       "      <td>0.994845</td>\n",
       "      <td>0.001262</td>\n",
       "      <td>3</td>\n",
       "    </tr>\n",
       "    <tr>\n",
       "      <th>4</th>\n",
       "      <td>2.988028</td>\n",
       "      <td>0.092504</td>\n",
       "      <td>0.072169</td>\n",
       "      <td>0.015757</td>\n",
       "      <td>40</td>\n",
       "      <td>25</td>\n",
       "      <td>{'max_depth': 40, 'n_estimators': 25}</td>\n",
       "      <td>0.992639</td>\n",
       "      <td>0.992635</td>\n",
       "      <td>0.994740</td>\n",
       "      <td>0.993161</td>\n",
       "      <td>0.994740</td>\n",
       "      <td>0.993583</td>\n",
       "      <td>0.000963</td>\n",
       "      <td>9</td>\n",
       "    </tr>\n",
       "    <tr>\n",
       "      <th>5</th>\n",
       "      <td>5.550464</td>\n",
       "      <td>0.103171</td>\n",
       "      <td>0.105080</td>\n",
       "      <td>0.023045</td>\n",
       "      <td>40</td>\n",
       "      <td>50</td>\n",
       "      <td>{'max_depth': 40, 'n_estimators': 50}</td>\n",
       "      <td>0.993165</td>\n",
       "      <td>0.993161</td>\n",
       "      <td>0.995792</td>\n",
       "      <td>0.993161</td>\n",
       "      <td>0.995792</td>\n",
       "      <td>0.994214</td>\n",
       "      <td>0.001288</td>\n",
       "      <td>7</td>\n",
       "    </tr>\n",
       "    <tr>\n",
       "      <th>6</th>\n",
       "      <td>8.268209</td>\n",
       "      <td>0.178745</td>\n",
       "      <td>0.166062</td>\n",
       "      <td>0.055871</td>\n",
       "      <td>40</td>\n",
       "      <td>75</td>\n",
       "      <td>{'max_depth': 40, 'n_estimators': 75}</td>\n",
       "      <td>0.994217</td>\n",
       "      <td>0.993688</td>\n",
       "      <td>0.996318</td>\n",
       "      <td>0.993688</td>\n",
       "      <td>0.996318</td>\n",
       "      <td>0.994845</td>\n",
       "      <td>0.001218</td>\n",
       "      <td>3</td>\n",
       "    </tr>\n",
       "    <tr>\n",
       "      <th>7</th>\n",
       "      <td>11.879041</td>\n",
       "      <td>0.674017</td>\n",
       "      <td>0.193256</td>\n",
       "      <td>0.036498</td>\n",
       "      <td>40</td>\n",
       "      <td>100</td>\n",
       "      <td>{'max_depth': 40, 'n_estimators': 100}</td>\n",
       "      <td>0.994217</td>\n",
       "      <td>0.993688</td>\n",
       "      <td>0.996318</td>\n",
       "      <td>0.993688</td>\n",
       "      <td>0.996844</td>\n",
       "      <td>0.994951</td>\n",
       "      <td>0.001355</td>\n",
       "      <td>1</td>\n",
       "    </tr>\n",
       "    <tr>\n",
       "      <th>8</th>\n",
       "      <td>3.243983</td>\n",
       "      <td>0.087774</td>\n",
       "      <td>0.061857</td>\n",
       "      <td>0.009021</td>\n",
       "      <td>50</td>\n",
       "      <td>25</td>\n",
       "      <td>{'max_depth': 50, 'n_estimators': 25}</td>\n",
       "      <td>0.992639</td>\n",
       "      <td>0.992635</td>\n",
       "      <td>0.994740</td>\n",
       "      <td>0.993161</td>\n",
       "      <td>0.994740</td>\n",
       "      <td>0.993583</td>\n",
       "      <td>0.000963</td>\n",
       "      <td>9</td>\n",
       "    </tr>\n",
       "    <tr>\n",
       "      <th>9</th>\n",
       "      <td>5.793231</td>\n",
       "      <td>0.223466</td>\n",
       "      <td>0.087741</td>\n",
       "      <td>0.002332</td>\n",
       "      <td>50</td>\n",
       "      <td>50</td>\n",
       "      <td>{'max_depth': 50, 'n_estimators': 50}</td>\n",
       "      <td>0.993165</td>\n",
       "      <td>0.993161</td>\n",
       "      <td>0.995792</td>\n",
       "      <td>0.993161</td>\n",
       "      <td>0.995792</td>\n",
       "      <td>0.994214</td>\n",
       "      <td>0.001288</td>\n",
       "      <td>7</td>\n",
       "    </tr>\n",
       "  </tbody>\n",
       "</table>\n",
       "</div>"
      ],
      "text/plain": [
       "   mean_fit_time  std_fit_time  mean_score_time  std_score_time  \\\n",
       "0       2.800458      0.052246         0.067967        0.010694   \n",
       "1       5.549346      0.103805         0.102421        0.013795   \n",
       "2       8.037367      0.098695         0.133539        0.034453   \n",
       "3      11.018060      0.253342         0.149029        0.006303   \n",
       "4       2.988028      0.092504         0.072169        0.015757   \n",
       "5       5.550464      0.103171         0.105080        0.023045   \n",
       "6       8.268209      0.178745         0.166062        0.055871   \n",
       "7      11.879041      0.674017         0.193256        0.036498   \n",
       "8       3.243983      0.087774         0.061857        0.009021   \n",
       "9       5.793231      0.223466         0.087741        0.002332   \n",
       "\n",
       "   param_max_depth  param_n_estimators  \\\n",
       "0               30                  25   \n",
       "1               30                  50   \n",
       "2               30                  75   \n",
       "3               30                 100   \n",
       "4               40                  25   \n",
       "5               40                  50   \n",
       "6               40                  75   \n",
       "7               40                 100   \n",
       "8               50                  25   \n",
       "9               50                  50   \n",
       "\n",
       "                                   params  split0_test_score  \\\n",
       "0   {'max_depth': 30, 'n_estimators': 25}           0.991588   \n",
       "1   {'max_depth': 30, 'n_estimators': 50}           0.993165   \n",
       "2   {'max_depth': 30, 'n_estimators': 75}           0.994217   \n",
       "3  {'max_depth': 30, 'n_estimators': 100}           0.994217   \n",
       "4   {'max_depth': 40, 'n_estimators': 25}           0.992639   \n",
       "5   {'max_depth': 40, 'n_estimators': 50}           0.993165   \n",
       "6   {'max_depth': 40, 'n_estimators': 75}           0.994217   \n",
       "7  {'max_depth': 40, 'n_estimators': 100}           0.994217   \n",
       "8   {'max_depth': 50, 'n_estimators': 25}           0.992639   \n",
       "9   {'max_depth': 50, 'n_estimators': 50}           0.993165   \n",
       "\n",
       "   split1_test_score  split2_test_score  split3_test_score  split4_test_score  \\\n",
       "0           0.992109           0.994214           0.993161           0.994740   \n",
       "1           0.991583           0.994214           0.993161           0.995792   \n",
       "2           0.993688           0.995266           0.993688           0.995266   \n",
       "3           0.993688           0.995792           0.993688           0.996844   \n",
       "4           0.992635           0.994740           0.993161           0.994740   \n",
       "5           0.993161           0.995792           0.993161           0.995792   \n",
       "6           0.993688           0.996318           0.993688           0.996318   \n",
       "7           0.993688           0.996318           0.993688           0.996844   \n",
       "8           0.992635           0.994740           0.993161           0.994740   \n",
       "9           0.993161           0.995792           0.993161           0.995792   \n",
       "\n",
       "   mean_test_score  std_test_score  rank_test_score  \n",
       "0         0.993162        0.001198               12  \n",
       "1         0.993583        0.001388               11  \n",
       "2         0.994425        0.000713                6  \n",
       "3         0.994845        0.001262                3  \n",
       "4         0.993583        0.000963                9  \n",
       "5         0.994214        0.001288                7  \n",
       "6         0.994845        0.001218                3  \n",
       "7         0.994951        0.001355                1  \n",
       "8         0.993583        0.000963                9  \n",
       "9         0.994214        0.001288                7  "
      ]
     },
     "execution_count": 38,
     "metadata": {},
     "output_type": "execute_result"
    }
   ],
   "source": [
    "cv_results = pd.DataFrame(model.cv_results_)\n",
    "cv_results.head(10)"
   ]
  },
  {
   "cell_type": "markdown",
   "id": "d140cde3-a5c1-49f6-b170-ba2bc3530f65",
   "metadata": {},
   "source": [
    "**Task 5.5.15** Extract the best hyperparameters from model and assign them to best_params."
   ]
  },
  {
   "cell_type": "code",
   "execution_count": 39,
   "id": "3caaaa81-e6d8-4c8c-9b88-ef827addafcf",
   "metadata": {},
   "outputs": [
    {
     "name": "stdout",
     "output_type": "stream",
     "text": [
      "{'max_depth': 40, 'n_estimators': 100}\n"
     ]
    }
   ],
   "source": [
    "best_params = model.best_params_\n",
    "print(best_params)"
   ]
  },
  {
   "cell_type": "markdown",
   "id": "3ab01291-ca43-4b11-93bf-8d643b082406",
   "metadata": {},
   "source": [
    "## Evaluate"
   ]
  },
  {
   "cell_type": "markdown",
   "id": "b4e20ebb-cc59-413c-809a-713124920962",
   "metadata": {},
   "source": [
    "Test the quality of your model by calculating accuracy scores for the training and test data."
   ]
  },
  {
   "cell_type": "code",
   "execution_count": 40,
   "id": "6fd9acc8-5b11-4572-9cb9-5f48a69cc879",
   "metadata": {},
   "outputs": [
    {
     "name": "stdout",
     "output_type": "stream",
     "text": [
      "Model Training Accuracy: 1.0\n",
      "Model Test Accuracy: 0.9634\n"
     ]
    }
   ],
   "source": [
    "acc_train = model.score(X_train_over, y_train_over)\n",
    "acc_test = model.score(X_test, y_test)\n",
    "\n",
    "print(\"Model Training Accuracy:\", round(acc_train, 4))\n",
    "print(\"Model Test Accuracy:\", round(acc_test, 4))"
   ]
  },
  {
   "cell_type": "markdown",
   "id": "53b949d1-f6d8-4ea8-8e3b-cd9b3e013792",
   "metadata": {},
   "source": [
    "**Task 5.5.16** Plot a confusion matrix to visualize your model's performance on the test set. Use fig, ax = plt.subplots() to define the plot."
   ]
  },
  {
   "cell_type": "code",
   "execution_count": 41,
   "id": "f7ee3f73-c9ef-4764-9806-9ef9c5b5dc76",
   "metadata": {},
   "outputs": [
    {
     "data": {
      "image/png": "[encoded data removed]",
      "text/plain": [
       "<Figure size 640x480 with 2 Axes>"
      ]
     },
     "metadata": {},
     "output_type": "display_data"
    }
   ],
   "source": [
    "fig, ax = plt.subplots()\n",
    "ConfusionMatrixDisplay.from_estimator(model, X_test, y_test, ax=ax);"
   ]
  },
  {
   "cell_type": "markdown",
   "id": "3c2ff51e-2e21-4e47-aad2-34d928b0eed0",
   "metadata": {},
   "source": [
    "**Task 5.5.17** Using the model's performance on test data, generate a classification report using classification_report and store it in variable called class_report."
   ]
  },
  {
   "cell_type": "code",
   "execution_count": 42,
   "id": "ad407bef-6331-45eb-8002-26c5cae617e0",
   "metadata": {},
   "outputs": [
    {
     "name": "stdout",
     "output_type": "stream",
     "text": [
      "              precision    recall  f1-score   support\n",
      "\n",
      "       False       0.98      0.99      0.98      1190\n",
      "        True       0.35      0.21      0.26        38\n",
      "\n",
      "    accuracy                           0.96      1228\n",
      "   macro avg       0.66      0.60      0.62      1228\n",
      "weighted avg       0.96      0.96      0.96      1228\n",
      "\n"
     ]
    }
   ],
   "source": [
    "class_report = classification_report(y_test, model.predict(X_test))\n",
    "print(class_report)"
   ]
  },
  {
   "cell_type": "markdown",
   "id": "e7405920-8d2e-4882-b48e-70bf52a933c0",
   "metadata": {},
   "source": [
    "# Communicate"
   ]
  },
  {
   "cell_type": "markdown",
   "id": "d7adebb0-6b0f-48d6-9c6f-1cee75638f50",
   "metadata": {},
   "source": [
    "**Task 5.5.18** Create a horizontal bar chart with the 10 most important features in the model. Add title and label your  axes. "
   ]
  },
  {
   "cell_type": "code",
   "execution_count": 43,
   "id": "dce52c99-ce2d-4d20-aafb-0fcaa26a4b37",
   "metadata": {},
   "outputs": [
    {
     "data": {
      "image/png": "[encoded data removed]",
      "text/plain": [
       "<Figure size 640x480 with 1 Axes>"
      ]
     },
     "metadata": {},
     "output_type": "display_data"
    }
   ],
   "source": [
    "importances = model.best_estimator_.feature_importances_\n",
    "feat_imp = pd.Series(importances, index=X.columns).sort_values()\n",
    "\n",
    "fig, ax = plt.subplots()\n",
    "feat_imp.tail(10).plot(kind=\"barh\",\n",
    "                    xlabel=\"Gini importances\",\n",
    "                    ylabel=\"Feature\",\n",
    "                    title=\"Feature importances\",\n",
    "                    ax=ax);"
   ]
  },
  {
   "cell_type": "markdown",
   "id": "74ee59cd-a6ac-4d17-871d-fb0f6d3fd1b8",
   "metadata": {},
   "source": [
    "**Task 5.5.19** Save your best-performing model to a file named \"model-5-5.pkl\""
   ]
  },
  {
   "cell_type": "code",
   "execution_count": 44,
   "id": "25b138ae-e3be-4dc0-9eab-173ef1a7139a",
   "metadata": {},
   "outputs": [],
   "source": [
    "# Save the model\n",
    "\n",
    "with open(\"model-5-5.pkl\", \"wb\") as f:\n",
    "    pickle.dump(model, f)\n"
   ]
  },
  {
   "cell_type": "markdown",
   "id": "15d68507-da7d-477d-823f-80765bc72ef3",
   "metadata": {},
   "source": [
    "**Task 5.5.20** Create a file named my_predictor_assignment.py. Add your wrangle function, and then create a make_predictions function that takes two arguments: data_filepath and model_filepath. Then use a separate cell to test your module on the test data named `taiwan-bankruptcy-data-test-features.json.gz`."
   ]
  },
  {
   "cell_type": "code",
   "execution_count": 45,
   "id": "82f5d587-4ae1-4f73-861a-79a454ae08be",
   "metadata": {},
   "outputs": [
    {
     "name": "stdout",
     "output_type": "stream",
     "text": [
      "predictions shape: (682,)\n"
     ]
    },
    {
     "data": {
      "text/plain": [
       "id\n",
       "10    False\n",
       "13    False\n",
       "40    False\n",
       "41    False\n",
       "71    False\n",
       "Name: bankrupt, dtype: bool"
      ]
     },
     "execution_count": 45,
     "metadata": {},
     "output_type": "execute_result"
    }
   ],
   "source": [
    "# Import the module\n",
    "from my_predictor_assignment import make_predictions\n",
    "\n",
    "# Generate predictions\n",
    "y_test_pred = make_predictions(\n",
    "    data_filepath = \"data/taiwan-bankruptcy-data-test-features.json.gz\",\n",
    "    model_filepath = \"model-5-5.pkl\")\n",
    "\n",
    "print(\"predictions shape:\", y_test_pred.shape)\n",
    "y_test_pred.head()"
   ]
  }
 ],
 "metadata": {
  "kernelspec": {
   "display_name": "Python 3 (ipykernel)",
   "language": "python",
   "name": "python3"
  },
  "language_info": {
   "codemirror_mode": {
    "name": "ipython",
    "version": 3
   },
   "file_extension": ".py",
   "mimetype": "text/x-python",
   "name": "python",
   "nbconvert_exporter": "python",
   "pygments_lexer": "ipython3",
   "version": "3.13.2"
  }
 },
 "nbformat": 4,
 "nbformat_minor": 5
}
