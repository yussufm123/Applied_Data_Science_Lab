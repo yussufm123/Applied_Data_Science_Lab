{
 "cells": [
  {
   "cell_type": "markdown",
   "id": "550fd85f-b77a-457b-926f-b44eafd9e51b",
   "metadata": {},
   "source": [
    "<font size=\"+3\"><strong>6.5. Small Business Owners in the United States🇺🇸</strong></font>"
   ]
  },
  {
   "cell_type": "markdown",
   "id": "f2ee36cc-6b75-4ed9-82de-48190f4732c3",
   "metadata": {},
   "source": [
    "### Welcome to the Clustering Credit-Challenged Households Using SCF 2019 Data Project!"
   ]
  },
  {
   "cell_type": "markdown",
   "id": "2809ef68-99e0-48d6-a8e7-2e135c553d23",
   "metadata": {},
   "source": [
    "This assignment is divided into two parts: Clustering small business owners by KMeans model, and Building an interactive Dash web.\n",
    "\n",
    "**1. KMeans model:** In here you'll to focus on business owners in the United States. You'll start by examining some demographic characteristics of the group, such as age, income category, and debt vs home value. Then you'll select high-variance features, and create a clustering model to divide small business owners into subgroups. Finally, you'll create some visualizations to highlight the differences between these subgroups.\n",
    "\n",
    "**2. Interactive Dash web:** You'll build a dash web by creating functions for each part of the model and use decorator to display it on your web.\n",
    "\n",
    "Good luck! 🍀"
   ]
  },
  {
   "cell_type": "markdown",
   "id": "220b1e77-7acc-4eb8-9074-ccd3ac43613d",
   "metadata": {},
   "source": [
    "#### 1. **KMeans model**"
   ]
  },
  {
   "cell_type": "code",
   "execution_count": 1,
   "id": "4195058f-0ad0-407e-96c5-dee0a5bac27c",
   "metadata": {},
   "outputs": [],
   "source": [
    "# Import libraries \n",
    "import pandas as pd\n",
    "import matplotlib.pyplot as plt\n",
    "import seaborn as sns\n",
    "import plotly.express as px\n",
    "\n",
    "from scipy.stats.mstats import trimmed_var\n",
    "from sklearn.cluster import KMeans\n",
    "from sklearn.decomposition import PCA\n",
    "from sklearn.metrics import silhouette_score\n",
    "from sklearn.pipeline import make_pipeline\n",
    "from sklearn.preprocessing import StandardScaler\n",
    "\n",
    "import warnings\n",
    "warnings.simplefilter(action=\"ignore\", category=FutureWarning)\n",
    "warnings.filterwarnings(\"ignore\", category=DeprecationWarning)"
   ]
  },
  {
   "cell_type": "markdown",
   "id": "d7368d1d-04c3-44f7-9d95-b4494b71e91e",
   "metadata": {},
   "source": [
    "# Prepare Data"
   ]
  },
  {
   "cell_type": "markdown",
   "id": "a3288bcc-fc84-4bbb-83c1-f5bb6c5ed745",
   "metadata": {},
   "source": [
    "## Import"
   ]
  },
  {
   "cell_type": "markdown",
   "id": "c9a0ad20-f2cc-4689-97fc-768d9d3a729f",
   "metadata": {},
   "source": [
    "#### Task 6.5.1 Read the contents of the file data/SCFP2019.csv.gz in a DataFrame df . "
   ]
  },
  {
   "cell_type": "code",
   "execution_count": 2,
   "id": "49d73f7e-b665-4506-8f36-bc8eaf023a1b",
   "metadata": {},
   "outputs": [
    {
     "name": "stdout",
     "output_type": "stream",
     "text": [
      "df shape: (28885, 357)\n"
     ]
    },
    {
     "data": {
      "text/html": [
       "<div>\n",
       "<style scoped>\n",
       "    .dataframe tbody tr th:only-of-type {\n",
       "        vertical-align: middle;\n",
       "    }\n",
       "\n",
       "    .dataframe tbody tr th {\n",
       "        vertical-align: top;\n",
       "    }\n",
       "\n",
       "    .dataframe thead th {\n",
       "        text-align: right;\n",
       "    }\n",
       "</style>\n",
       "<table border=\"1\" class=\"dataframe\">\n",
       "  <thead>\n",
       "    <tr style=\"text-align: right;\">\n",
       "      <th></th>\n",
       "      <th>YY1</th>\n",
       "      <th>Y1</th>\n",
       "      <th>WGT</th>\n",
       "      <th>HHSEX</th>\n",
       "      <th>AGE</th>\n",
       "      <th>AGECL</th>\n",
       "      <th>EDUC</th>\n",
       "      <th>EDCL</th>\n",
       "      <th>MARRIED</th>\n",
       "      <th>KIDS</th>\n",
       "      <th>...</th>\n",
       "      <th>NWCAT</th>\n",
       "      <th>INCCAT</th>\n",
       "      <th>ASSETCAT</th>\n",
       "      <th>NINCCAT</th>\n",
       "      <th>NINC2CAT</th>\n",
       "      <th>NWPCTLECAT</th>\n",
       "      <th>INCPCTLECAT</th>\n",
       "      <th>NINCPCTLECAT</th>\n",
       "      <th>INCQRTCAT</th>\n",
       "      <th>NINCQRTCAT</th>\n",
       "    </tr>\n",
       "  </thead>\n",
       "  <tbody>\n",
       "    <tr>\n",
       "      <th>0</th>\n",
       "      <td>1</td>\n",
       "      <td>11</td>\n",
       "      <td>6119.779308</td>\n",
       "      <td>2</td>\n",
       "      <td>75</td>\n",
       "      <td>6</td>\n",
       "      <td>12</td>\n",
       "      <td>4</td>\n",
       "      <td>2</td>\n",
       "      <td>0</td>\n",
       "      <td>...</td>\n",
       "      <td>5</td>\n",
       "      <td>3</td>\n",
       "      <td>6</td>\n",
       "      <td>3</td>\n",
       "      <td>2</td>\n",
       "      <td>10</td>\n",
       "      <td>6</td>\n",
       "      <td>6</td>\n",
       "      <td>3</td>\n",
       "      <td>3</td>\n",
       "    </tr>\n",
       "    <tr>\n",
       "      <th>1</th>\n",
       "      <td>1</td>\n",
       "      <td>12</td>\n",
       "      <td>4712.374912</td>\n",
       "      <td>2</td>\n",
       "      <td>75</td>\n",
       "      <td>6</td>\n",
       "      <td>12</td>\n",
       "      <td>4</td>\n",
       "      <td>2</td>\n",
       "      <td>0</td>\n",
       "      <td>...</td>\n",
       "      <td>5</td>\n",
       "      <td>3</td>\n",
       "      <td>6</td>\n",
       "      <td>3</td>\n",
       "      <td>1</td>\n",
       "      <td>10</td>\n",
       "      <td>5</td>\n",
       "      <td>5</td>\n",
       "      <td>2</td>\n",
       "      <td>2</td>\n",
       "    </tr>\n",
       "    <tr>\n",
       "      <th>2</th>\n",
       "      <td>1</td>\n",
       "      <td>13</td>\n",
       "      <td>5145.224455</td>\n",
       "      <td>2</td>\n",
       "      <td>75</td>\n",
       "      <td>6</td>\n",
       "      <td>12</td>\n",
       "      <td>4</td>\n",
       "      <td>2</td>\n",
       "      <td>0</td>\n",
       "      <td>...</td>\n",
       "      <td>5</td>\n",
       "      <td>3</td>\n",
       "      <td>6</td>\n",
       "      <td>3</td>\n",
       "      <td>1</td>\n",
       "      <td>10</td>\n",
       "      <td>5</td>\n",
       "      <td>5</td>\n",
       "      <td>2</td>\n",
       "      <td>2</td>\n",
       "    </tr>\n",
       "    <tr>\n",
       "      <th>3</th>\n",
       "      <td>1</td>\n",
       "      <td>14</td>\n",
       "      <td>5297.663412</td>\n",
       "      <td>2</td>\n",
       "      <td>75</td>\n",
       "      <td>6</td>\n",
       "      <td>12</td>\n",
       "      <td>4</td>\n",
       "      <td>2</td>\n",
       "      <td>0</td>\n",
       "      <td>...</td>\n",
       "      <td>5</td>\n",
       "      <td>2</td>\n",
       "      <td>6</td>\n",
       "      <td>2</td>\n",
       "      <td>1</td>\n",
       "      <td>10</td>\n",
       "      <td>4</td>\n",
       "      <td>4</td>\n",
       "      <td>2</td>\n",
       "      <td>2</td>\n",
       "    </tr>\n",
       "    <tr>\n",
       "      <th>4</th>\n",
       "      <td>1</td>\n",
       "      <td>15</td>\n",
       "      <td>4761.812371</td>\n",
       "      <td>2</td>\n",
       "      <td>75</td>\n",
       "      <td>6</td>\n",
       "      <td>12</td>\n",
       "      <td>4</td>\n",
       "      <td>2</td>\n",
       "      <td>0</td>\n",
       "      <td>...</td>\n",
       "      <td>5</td>\n",
       "      <td>3</td>\n",
       "      <td>6</td>\n",
       "      <td>3</td>\n",
       "      <td>1</td>\n",
       "      <td>10</td>\n",
       "      <td>5</td>\n",
       "      <td>5</td>\n",
       "      <td>2</td>\n",
       "      <td>2</td>\n",
       "    </tr>\n",
       "  </tbody>\n",
       "</table>\n",
       "<p>5 rows × 357 columns</p>\n",
       "</div>"
      ],
      "text/plain": [
       "   YY1  Y1          WGT  HHSEX  AGE  AGECL  EDUC  EDCL  MARRIED  KIDS  ...  \\\n",
       "0    1  11  6119.779308      2   75      6    12     4        2     0  ...   \n",
       "1    1  12  4712.374912      2   75      6    12     4        2     0  ...   \n",
       "2    1  13  5145.224455      2   75      6    12     4        2     0  ...   \n",
       "3    1  14  5297.663412      2   75      6    12     4        2     0  ...   \n",
       "4    1  15  4761.812371      2   75      6    12     4        2     0  ...   \n",
       "\n",
       "   NWCAT  INCCAT  ASSETCAT  NINCCAT  NINC2CAT  NWPCTLECAT  INCPCTLECAT  \\\n",
       "0      5       3         6        3         2          10            6   \n",
       "1      5       3         6        3         1          10            5   \n",
       "2      5       3         6        3         1          10            5   \n",
       "3      5       2         6        2         1          10            4   \n",
       "4      5       3         6        3         1          10            5   \n",
       "\n",
       "   NINCPCTLECAT  INCQRTCAT  NINCQRTCAT  \n",
       "0             6          3           3  \n",
       "1             5          2           2  \n",
       "2             5          2           2  \n",
       "3             4          2           2  \n",
       "4             5          2           2  \n",
       "\n",
       "[5 rows x 357 columns]"
      ]
     },
     "execution_count": 2,
     "metadata": {},
     "output_type": "execute_result"
    }
   ],
   "source": [
    "df = pd.read_csv(\"data/SCFP2019.csv.gz\")\n",
    "print(\"df shape:\", df.shape)\n",
    "df.head()"
   ]
  },
  {
   "cell_type": "markdown",
   "id": "5a842978-9ea6-43e2-81a3-8d81c6fe8d92",
   "metadata": {},
   "source": [
    "## Explore"
   ]
  },
  {
   "cell_type": "markdown",
   "id": "6b79fa16-00df-46a0-ad21-e5fd6e46e222",
   "metadata": {},
   "source": [
    "As mentioned at the start of this assignment, you're focusing on business owners. But what percentage of the respondents in `df` are business owners?"
   ]
  },
  {
   "cell_type": "markdown",
   "id": "e1d022c4-ba72-4ca3-8352-6d99bd49cb1c",
   "metadata": {},
   "source": [
    "#### Task 6.5.2 Determine the proportion of respondents in df who are business owners by analyzing the \"HBUS\" column."
   ]
  },
  {
   "cell_type": "code",
   "execution_count": 3,
   "id": "38733005-f3bc-48ef-8b46-03ce498bea56",
   "metadata": {},
   "outputs": [
    {
     "name": "stdout",
     "output_type": "stream",
     "text": [
      "proportion of business owners in df: 0.274\n"
     ]
    }
   ],
   "source": [
    "prop_biz_owners = df[\"HBUS\"].value_counts(normalize=True).get(1)\n",
    "print(\"proportion of business owners in df:\", round(prop_biz_owners, 4))"
   ]
  },
  {
   "cell_type": "markdown",
   "id": "a02d3427-c24c-4107-8f3d-352957413b83",
   "metadata": {},
   "source": [
    "Is the distribution of income different for business owners and non-business owners?"
   ]
  },
  {
   "cell_type": "markdown",
   "id": "6d856475-8512-4272-b227-660b4ea26baf",
   "metadata": {},
   "source": [
    "#### Task 6.5.3\n",
    "Create a DataFrame named df_inccat that shows the normalized frequency of income categories for both business owners and non-business owners using the \"INCCAT\" and \"HBUS\" columns. The data type in \"INCCAT\" column is categorical which represent income percentile groups, refer to the `Data dictionary`. Make sure to label the data type in this column appropiately as in the Data dictionary."
   ]
  },
  {
   "cell_type": "code",
   "execution_count": 4,
   "id": "c1736136-5397-4f39-9e10-d26a0c7b04ab",
   "metadata": {},
   "outputs": [
    {
     "data": {
      "text/html": [
       "<div>\n",
       "<style scoped>\n",
       "    .dataframe tbody tr th:only-of-type {\n",
       "        vertical-align: middle;\n",
       "    }\n",
       "\n",
       "    .dataframe tbody tr th {\n",
       "        vertical-align: top;\n",
       "    }\n",
       "\n",
       "    .dataframe thead th {\n",
       "        text-align: right;\n",
       "    }\n",
       "</style>\n",
       "<table border=\"1\" class=\"dataframe\">\n",
       "  <thead>\n",
       "    <tr style=\"text-align: right;\">\n",
       "      <th></th>\n",
       "      <th>HBUS</th>\n",
       "      <th>INCCAT</th>\n",
       "      <th>frequency</th>\n",
       "    </tr>\n",
       "  </thead>\n",
       "  <tbody>\n",
       "    <tr>\n",
       "      <th>0</th>\n",
       "      <td>0</td>\n",
       "      <td>0-20</td>\n",
       "      <td>0.210348</td>\n",
       "    </tr>\n",
       "    <tr>\n",
       "      <th>1</th>\n",
       "      <td>0</td>\n",
       "      <td>21-39.9</td>\n",
       "      <td>0.198140</td>\n",
       "    </tr>\n",
       "    <tr>\n",
       "      <th>2</th>\n",
       "      <td>0</td>\n",
       "      <td>40-59.9</td>\n",
       "      <td>0.189080</td>\n",
       "    </tr>\n",
       "    <tr>\n",
       "      <th>3</th>\n",
       "      <td>0</td>\n",
       "      <td>60-79.9</td>\n",
       "      <td>0.186600</td>\n",
       "    </tr>\n",
       "    <tr>\n",
       "      <th>4</th>\n",
       "      <td>0</td>\n",
       "      <td>90-100</td>\n",
       "      <td>0.117167</td>\n",
       "    </tr>\n",
       "    <tr>\n",
       "      <th>5</th>\n",
       "      <td>0</td>\n",
       "      <td>80-89.9</td>\n",
       "      <td>0.098665</td>\n",
       "    </tr>\n",
       "    <tr>\n",
       "      <th>6</th>\n",
       "      <td>1</td>\n",
       "      <td>90-100</td>\n",
       "      <td>0.629438</td>\n",
       "    </tr>\n",
       "    <tr>\n",
       "      <th>7</th>\n",
       "      <td>1</td>\n",
       "      <td>60-79.9</td>\n",
       "      <td>0.119015</td>\n",
       "    </tr>\n",
       "    <tr>\n",
       "      <th>8</th>\n",
       "      <td>1</td>\n",
       "      <td>80-89.9</td>\n",
       "      <td>0.097410</td>\n",
       "    </tr>\n",
       "    <tr>\n",
       "      <th>9</th>\n",
       "      <td>1</td>\n",
       "      <td>40-59.9</td>\n",
       "      <td>0.071510</td>\n",
       "    </tr>\n",
       "    <tr>\n",
       "      <th>10</th>\n",
       "      <td>1</td>\n",
       "      <td>21-39.9</td>\n",
       "      <td>0.041440</td>\n",
       "    </tr>\n",
       "    <tr>\n",
       "      <th>11</th>\n",
       "      <td>1</td>\n",
       "      <td>0-20</td>\n",
       "      <td>0.041188</td>\n",
       "    </tr>\n",
       "  </tbody>\n",
       "</table>\n",
       "</div>"
      ],
      "text/plain": [
       "    HBUS   INCCAT  frequency\n",
       "0      0     0-20   0.210348\n",
       "1      0  21-39.9   0.198140\n",
       "2      0  40-59.9   0.189080\n",
       "3      0  60-79.9   0.186600\n",
       "4      0   90-100   0.117167\n",
       "5      0  80-89.9   0.098665\n",
       "6      1   90-100   0.629438\n",
       "7      1  60-79.9   0.119015\n",
       "8      1  80-89.9   0.097410\n",
       "9      1  40-59.9   0.071510\n",
       "10     1  21-39.9   0.041440\n",
       "11     1     0-20   0.041188"
      ]
     },
     "execution_count": 4,
     "metadata": {},
     "output_type": "execute_result"
    }
   ],
   "source": [
    "# Labels from the data dictionary\n",
    "inccat_dict = {\n",
    "    1: \"0-20\",\n",
    "    2: \"21-39.9\",\n",
    "    3: \"40-59.9\",\n",
    "    4: \"60-79.9\",\n",
    "    5: \"80-89.9\",\n",
    "    6: \"90-100\"\n",
    "}\n",
    "\n",
    "# Grouping biz_owners by method chaining\n",
    "df_inccat = (\n",
    "    df[\"INCCAT\"].replace(inccat_dict)\n",
    "    .groupby(df[\"HBUS\"])\n",
    "    .value_counts(normalize=True)\n",
    "    .rename(\"frequency\")\n",
    "    .to_frame()\n",
    "    .reset_index()\n",
    ")\n",
    "\n",
    "df_inccat"
   ]
  },
  {
   "cell_type": "markdown",
   "id": "85bbe283-38c5-4138-848b-13ff7de1c6bd",
   "metadata": {},
   "source": [
    "#### Task 6.5.4\n",
    "\n",
    "Create a grouped bar chart that compares the income category distribution of business owners vs. non-business owners using the df_inccat DataFrame."
   ]
  },
  {
   "cell_type": "code",
   "execution_count": 5,
   "id": "63231d82-af0b-4ec4-a606-2a43482aac60",
   "metadata": {},
   "outputs": [
    {
     "name": "stderr",
     "output_type": "stream",
     "text": [
      "C:\\Users\\youke\\AppData\\Local\\Temp\\ipykernel_2856\\3339838121.py:14: UserWarning: FigureCanvasAgg is non-interactive, and thus cannot be shown\n",
      "  fig.show()\n"
     ]
    },
    {
     "data": {
      "image/png": "[encoded data removed]",
      "text/plain": [
       "<Figure size 640x480 with 1 Axes>"
      ]
     },
     "metadata": {},
     "output_type": "display_data"
    }
   ],
   "source": [
    "fig, ax = plt.subplots()\n",
    "\n",
    "sns.barplot(\n",
    "    data=df_inccat,\n",
    "    x=\"INCCAT\",\n",
    "    y=\"frequency\",\n",
    "    hue=\"HBUS\",\n",
    "    order=inccat_dict.values()\n",
    ")\n",
    "\n",
    "ax.set_xlabel(\"Income Category\")\n",
    "ax.set_ylabel(\"Frequency (%)\")\n",
    "ax.set_title(\"Income Distribution: Business Owners vs. Non-Business Owners\")\n",
    "fig.show()"
   ]
  },
  {
   "cell_type": "markdown",
   "id": "0b4add95-2c3b-44ef-8669-a4b7a121b44f",
   "metadata": {},
   "source": [
    "Are there notable differences between business owners and non-business owners?"
   ]
  },
  {
   "cell_type": "markdown",
   "id": "6099349e-60a7-4d25-bedb-6f18cc95a138",
   "metadata": {},
   "source": [
    "#### Task 6.5.5\n",
    "Create a scatter plot to examine the relationship between household debt and home value, distinguishing between business owners and non-business owners."
   ]
  },
  {
   "cell_type": "code",
   "execution_count": 6,
   "id": "07a62e40-0b7f-4ccc-82e3-ca5f40e2bd99",
   "metadata": {},
   "outputs": [
    {
     "name": "stderr",
     "output_type": "stream",
     "text": [
      "C:\\Users\\youke\\AppData\\Local\\Temp\\ipykernel_2856\\2960112532.py:15: UserWarning: FigureCanvasAgg is non-interactive, and thus cannot be shown\n",
      "  fig.show()\n"
     ]
    },
    {
     "data": {
      "image/png": "[encoded data removed]",
      "text/plain": [
       "<Figure size 800x500 with 1 Axes>"
      ]
     },
     "metadata": {},
     "output_type": "display_data"
    }
   ],
   "source": [
    "# Plot \"HOUSES\" vs \"DEBT\" with hue as business ownership\n",
    "fig, ax = plt.subplots(figsize=(8, 5))\n",
    "\n",
    "sns.scatterplot(\n",
    "    data=df,\n",
    "    x=\"DEBT\",\n",
    "    y=\"HOUSES\",\n",
    "    hue=\"HBUS\",\n",
    "    palette=\"deep\"\n",
    ")\n",
    "ax.set_xlabel(\"Household Debt\")\n",
    "ax.set_ylabel(\"Home Value\")\n",
    "ax.set_title(\"Home Value vs. Household Debt\")\n",
    "\n",
    "fig.show()"
   ]
  },
  {
   "cell_type": "markdown",
   "id": "68869121-38b0-4974-b892-9038e8c70998",
   "metadata": {},
   "source": [
    "For the model building part of the assignment, you're going to focus on small business owners, defined as respondents who have a business and whose income does not exceed $500,000."
   ]
  },
  {
   "cell_type": "markdown",
   "id": "fee3a131-1c7f-4d74-a2cc-1ef53a6e1e96",
   "metadata": {},
   "source": [
    "#### Task 6.5.6\n",
    "Create a new DataFrame named df_small_biz that includes only respondents who are business owners (HBUS) and have household income less than $500,000. Use a boolean mask to apply both conditions and filter the df DataFrame accordingly."
   ]
  },
  {
   "cell_type": "code",
   "execution_count": 7,
   "id": "22edd9a8-fe96-49d5-b289-3e4b3dd6a6c0",
   "metadata": {},
   "outputs": [
    {
     "name": "stdout",
     "output_type": "stream",
     "text": [
      "df_small_biz shape: (4161, 357)\n"
     ]
    },
    {
     "data": {
      "text/html": [
       "<div>\n",
       "<style scoped>\n",
       "    .dataframe tbody tr th:only-of-type {\n",
       "        vertical-align: middle;\n",
       "    }\n",
       "\n",
       "    .dataframe tbody tr th {\n",
       "        vertical-align: top;\n",
       "    }\n",
       "\n",
       "    .dataframe thead th {\n",
       "        text-align: right;\n",
       "    }\n",
       "</style>\n",
       "<table border=\"1\" class=\"dataframe\">\n",
       "  <thead>\n",
       "    <tr style=\"text-align: right;\">\n",
       "      <th></th>\n",
       "      <th>YY1</th>\n",
       "      <th>Y1</th>\n",
       "      <th>WGT</th>\n",
       "      <th>HHSEX</th>\n",
       "      <th>AGE</th>\n",
       "      <th>AGECL</th>\n",
       "      <th>EDUC</th>\n",
       "      <th>EDCL</th>\n",
       "      <th>MARRIED</th>\n",
       "      <th>KIDS</th>\n",
       "      <th>...</th>\n",
       "      <th>NWCAT</th>\n",
       "      <th>INCCAT</th>\n",
       "      <th>ASSETCAT</th>\n",
       "      <th>NINCCAT</th>\n",
       "      <th>NINC2CAT</th>\n",
       "      <th>NWPCTLECAT</th>\n",
       "      <th>INCPCTLECAT</th>\n",
       "      <th>NINCPCTLECAT</th>\n",
       "      <th>INCQRTCAT</th>\n",
       "      <th>NINCQRTCAT</th>\n",
       "    </tr>\n",
       "  </thead>\n",
       "  <tbody>\n",
       "    <tr>\n",
       "      <th>80</th>\n",
       "      <td>17</td>\n",
       "      <td>171</td>\n",
       "      <td>7802.265717</td>\n",
       "      <td>1</td>\n",
       "      <td>62</td>\n",
       "      <td>4</td>\n",
       "      <td>12</td>\n",
       "      <td>4</td>\n",
       "      <td>1</td>\n",
       "      <td>0</td>\n",
       "      <td>...</td>\n",
       "      <td>3</td>\n",
       "      <td>5</td>\n",
       "      <td>5</td>\n",
       "      <td>5</td>\n",
       "      <td>2</td>\n",
       "      <td>7</td>\n",
       "      <td>9</td>\n",
       "      <td>9</td>\n",
       "      <td>4</td>\n",
       "      <td>4</td>\n",
       "    </tr>\n",
       "    <tr>\n",
       "      <th>81</th>\n",
       "      <td>17</td>\n",
       "      <td>172</td>\n",
       "      <td>8247.536301</td>\n",
       "      <td>1</td>\n",
       "      <td>62</td>\n",
       "      <td>4</td>\n",
       "      <td>12</td>\n",
       "      <td>4</td>\n",
       "      <td>1</td>\n",
       "      <td>0</td>\n",
       "      <td>...</td>\n",
       "      <td>3</td>\n",
       "      <td>5</td>\n",
       "      <td>5</td>\n",
       "      <td>5</td>\n",
       "      <td>2</td>\n",
       "      <td>7</td>\n",
       "      <td>9</td>\n",
       "      <td>9</td>\n",
       "      <td>4</td>\n",
       "      <td>4</td>\n",
       "    </tr>\n",
       "    <tr>\n",
       "      <th>82</th>\n",
       "      <td>17</td>\n",
       "      <td>173</td>\n",
       "      <td>8169.562719</td>\n",
       "      <td>1</td>\n",
       "      <td>62</td>\n",
       "      <td>4</td>\n",
       "      <td>12</td>\n",
       "      <td>4</td>\n",
       "      <td>1</td>\n",
       "      <td>0</td>\n",
       "      <td>...</td>\n",
       "      <td>3</td>\n",
       "      <td>5</td>\n",
       "      <td>5</td>\n",
       "      <td>5</td>\n",
       "      <td>2</td>\n",
       "      <td>7</td>\n",
       "      <td>9</td>\n",
       "      <td>9</td>\n",
       "      <td>4</td>\n",
       "      <td>4</td>\n",
       "    </tr>\n",
       "    <tr>\n",
       "      <th>83</th>\n",
       "      <td>17</td>\n",
       "      <td>174</td>\n",
       "      <td>8087.704517</td>\n",
       "      <td>1</td>\n",
       "      <td>62</td>\n",
       "      <td>4</td>\n",
       "      <td>12</td>\n",
       "      <td>4</td>\n",
       "      <td>1</td>\n",
       "      <td>0</td>\n",
       "      <td>...</td>\n",
       "      <td>3</td>\n",
       "      <td>5</td>\n",
       "      <td>5</td>\n",
       "      <td>5</td>\n",
       "      <td>2</td>\n",
       "      <td>7</td>\n",
       "      <td>9</td>\n",
       "      <td>9</td>\n",
       "      <td>4</td>\n",
       "      <td>4</td>\n",
       "    </tr>\n",
       "    <tr>\n",
       "      <th>84</th>\n",
       "      <td>17</td>\n",
       "      <td>175</td>\n",
       "      <td>8276.510048</td>\n",
       "      <td>1</td>\n",
       "      <td>62</td>\n",
       "      <td>4</td>\n",
       "      <td>12</td>\n",
       "      <td>4</td>\n",
       "      <td>1</td>\n",
       "      <td>0</td>\n",
       "      <td>...</td>\n",
       "      <td>3</td>\n",
       "      <td>5</td>\n",
       "      <td>5</td>\n",
       "      <td>5</td>\n",
       "      <td>2</td>\n",
       "      <td>7</td>\n",
       "      <td>9</td>\n",
       "      <td>9</td>\n",
       "      <td>4</td>\n",
       "      <td>4</td>\n",
       "    </tr>\n",
       "  </tbody>\n",
       "</table>\n",
       "<p>5 rows × 357 columns</p>\n",
       "</div>"
      ],
      "text/plain": [
       "    YY1   Y1          WGT  HHSEX  AGE  AGECL  EDUC  EDCL  MARRIED  KIDS  ...  \\\n",
       "80   17  171  7802.265717      1   62      4    12     4        1     0  ...   \n",
       "81   17  172  8247.536301      1   62      4    12     4        1     0  ...   \n",
       "82   17  173  8169.562719      1   62      4    12     4        1     0  ...   \n",
       "83   17  174  8087.704517      1   62      4    12     4        1     0  ...   \n",
       "84   17  175  8276.510048      1   62      4    12     4        1     0  ...   \n",
       "\n",
       "    NWCAT  INCCAT  ASSETCAT  NINCCAT  NINC2CAT  NWPCTLECAT  INCPCTLECAT  \\\n",
       "80      3       5         5        5         2           7            9   \n",
       "81      3       5         5        5         2           7            9   \n",
       "82      3       5         5        5         2           7            9   \n",
       "83      3       5         5        5         2           7            9   \n",
       "84      3       5         5        5         2           7            9   \n",
       "\n",
       "    NINCPCTLECAT  INCQRTCAT  NINCQRTCAT  \n",
       "80             9          4           4  \n",
       "81             9          4           4  \n",
       "82             9          4           4  \n",
       "83             9          4           4  \n",
       "84             9          4           4  \n",
       "\n",
       "[5 rows x 357 columns]"
      ]
     },
     "execution_count": 7,
     "metadata": {},
     "output_type": "execute_result"
    }
   ],
   "source": [
    "mask = (df[\"HBUS\"] == 1) & (df[\"INCOME\"] < 5e5)\n",
    "df_small_biz = df[mask] \n",
    "print(\"df_small_biz shape:\", df_small_biz.shape)\n",
    "df_small_biz.head()"
   ]
  },
  {
   "cell_type": "markdown",
   "id": "e6650b5b-fae1-4e56-b6e5-c6441f1a1950",
   "metadata": {},
   "source": [
    "In the previous lecture, we saw that credit-fearful respondents were relatively young. Is the same true for small business owners?"
   ]
  },
  {
   "cell_type": "markdown",
   "id": "00b57995-2a97-4ddb-b994-dfe1f5b4df61",
   "metadata": {},
   "source": [
    "#### Task 6.5.7\n",
    "Create a histogram from the \"AGE\" column in df_small_biz with 10 bins."
   ]
  },
  {
   "cell_type": "code",
   "execution_count": 8,
   "id": "e7e09f5d-8a3c-4479-9f24-04163b57e792",
   "metadata": {},
   "outputs": [
    {
     "name": "stderr",
     "output_type": "stream",
     "text": [
      "C:\\Users\\youke\\AppData\\Local\\Temp\\ipykernel_2856\\4055044124.py:9: UserWarning: FigureCanvasAgg is non-interactive, and thus cannot be shown\n",
      "  fig.show()\n"
     ]
    },
    {
     "data": {
      "image/png": "[encoded data removed]",
      "text/plain": [
       "<Figure size 640x480 with 1 Axes>"
      ]
     },
     "metadata": {},
     "output_type": "display_data"
    }
   ],
   "source": [
    "# Plot histogram of \"AGE\"\n",
    "fig, ax = plt.subplots()\n",
    "df_small_biz[\"AGE\"].plot(kind=\"hist\", bins=10)\n",
    "\n",
    "ax.set_xlabel(\"Age\")\n",
    "ax.set_ylabel(\"Frequency (count)\")\n",
    "ax.set_title(\"Small Business Owners: Age Distribution\")\n",
    "\n",
    "fig.show()"
   ]
  },
  {
   "cell_type": "markdown",
   "id": "a725cd1a-7b15-4097-8fd0-cee1c55d9fc7",
   "metadata": {},
   "source": [
    "Let's take a look at the variance in the dataset."
   ]
  },
  {
   "cell_type": "markdown",
   "id": "15e65950-7bcf-4d2d-923d-6c30e20b0745",
   "metadata": {},
   "source": [
    "#### Task 6.5.8\n",
    "Calculate the variance for all the features in df_small_biz, and create a Series top_ten_var with the 10 features with the largest variance."
   ]
  },
  {
   "cell_type": "code",
   "execution_count": 9,
   "id": "04f6998d-d45d-4d68-a577-496667e094e9",
   "metadata": {},
   "outputs": [
    {
     "data": {
      "text/plain": [
       "EQUITY      1.336901e+13\n",
       "FIN         2.629518e+13\n",
       "KGBUS       6.053296e+13\n",
       "ACTBUS      6.432674e+13\n",
       "BUS         6.670909e+13\n",
       "KGTOTAL     7.454386e+13\n",
       "NFIN        1.149004e+14\n",
       "NHNFIN      1.196403e+14\n",
       "NETWORTH    1.796109e+14\n",
       "ASSET       1.928282e+14\n",
       "dtype: float64"
      ]
     },
     "execution_count": 9,
     "metadata": {},
     "output_type": "execute_result"
    }
   ],
   "source": [
    "# Calculate variance, get 10 largest features\n",
    "top_ten_var = df_small_biz.var().sort_values().tail(10)\n",
    "top_ten_var"
   ]
  },
  {
   "cell_type": "markdown",
   "id": "ec877612-c405-4375-8d54-4d03896d4772",
   "metadata": {},
   "source": [
    "#### Task 6.5.9\n",
    "The normal variance might be influenced by extreme outliers. Calculate the trimmed variance for the features in df_small_biz. Your calculations should not include the top and bottom 10% of observations. Then create a Series top_ten_trim_var with the 10 features with the largest variance."
   ]
  },
  {
   "cell_type": "code",
   "execution_count": 10,
   "id": "41b73b2e-3bb6-4c5a-8d83-60b5608d2a55",
   "metadata": {},
   "outputs": [
    {
     "data": {
      "text/plain": [
       "EQUITY      1.143799e+11\n",
       "KGBUS       1.906260e+11\n",
       "FIN         3.649923e+11\n",
       "KGTOTAL     5.790939e+11\n",
       "ACTBUS      6.173616e+11\n",
       "BUS         7.274641e+11\n",
       "NHNFIN      1.696410e+12\n",
       "NFIN        2.074082e+12\n",
       "NETWORTH    4.124869e+12\n",
       "ASSET       4.453857e+12\n",
       "dtype: float64"
      ]
     },
     "execution_count": 10,
     "metadata": {},
     "output_type": "execute_result"
    }
   ],
   "source": [
    "# Calculate trimmed variance\n",
    "top_ten_trim_var = (\n",
    "    df_small_biz.apply(trimmed_var).sort_values().tail(10)\n",
    ")\n",
    "\n",
    "top_ten_trim_var"
   ]
  },
  {
   "cell_type": "markdown",
   "id": "51851c26-934a-40e2-887f-c98c7acd4833",
   "metadata": {},
   "source": [
    "#### Task 6.5.10\n",
    "Create a horizontal bar chart showing the top 10 features with the highest trimmed variance among small business owners. Label your axes appropiately and add title."
   ]
  },
  {
   "cell_type": "code",
   "execution_count": 11,
   "id": "2cb11a9c-9c0b-4ade-a176-88e6c87a87b3",
   "metadata": {},
   "outputs": [
    {
     "data": {
      "application/vnd.plotly.v1+json": {
       "config": {
        "plotlyServerURL": "https://plot.ly"
       },
       "data": [
        {
         "hovertemplate": "x=%{x}<br>y=%{y}<extra></extra>",
         "legendgroup": "",
         "marker": {
          "color": "#636efa",
          "pattern": {
           "shape": ""
          }
         },
         "name": "",
         "orientation": "h",
         "showlegend": false,
         "textposition": "auto",
         "type": "bar",
         "x": {
          "bdata": "G4YBJpOhOkIEmLEoGTFGQguVJhvPPlVCT31HCJbaYEIPTNTAs/dhQln29JoHLGVCK1ux256veEL3mFoRjy5+Qjp/ipgqA45CD7O2RfozkEI=",
          "dtype": "f8"
         },
         "xaxis": "x",
         "y": [
          "EQUITY",
          "KGBUS",
          "FIN",
          "KGTOTAL",
          "ACTBUS",
          "BUS",
          "NHNFIN",
          "NFIN",
          "NETWORTH",
          "ASSET"
         ],
         "yaxis": "y"
        }
       ],
       "layout": {
        "barmode": "relative",
        "legend": {
         "tracegroupgap": 0
        },
        "template": {
         "data": {
          "bar": [
           {
            "error_x": {
             "color": "#2a3f5f"
            },
            "error_y": {
             "color": "#2a3f5f"
            },
            "marker": {
             "line": {
              "color": "#E5ECF6",
              "width": 0.5
             },
             "pattern": {
              "fillmode": "overlay",
              "size": 10,
              "solidity": 0.2
             }
            },
            "type": "bar"
           }
          ],
          "barpolar": [
           {
            "marker": {
             "line": {
              "color": "#E5ECF6",
              "width": 0.5
             },
             "pattern": {
              "fillmode": "overlay",
              "size": 10,
              "solidity": 0.2
             }
            },
            "type": "barpolar"
           }
          ],
          "carpet": [
           {
            "aaxis": {
             "endlinecolor": "#2a3f5f",
             "gridcolor": "white",
             "linecolor": "white",
             "minorgridcolor": "white",
             "startlinecolor": "#2a3f5f"
            },
            "baxis": {
             "endlinecolor": "#2a3f5f",
             "gridcolor": "white",
             "linecolor": "white",
             "minorgridcolor": "white",
             "startlinecolor": "#2a3f5f"
            },
            "type": "carpet"
           }
          ],
          "choropleth": [
           {
            "colorbar": {
             "outlinewidth": 0,
             "ticks": ""
            },
            "type": "choropleth"
           }
          ],
          "contour": [
           {
            "colorbar": {
             "outlinewidth": 0,
             "ticks": ""
            },
            "colorscale": [
             [
              0,
              "#0d0887"
             ],
             [
              0.1111111111111111,
              "#46039f"
             ],
             [
              0.2222222222222222,
              "#7201a8"
             ],
             [
              0.3333333333333333,
              "#9c179e"
             ],
             [
              0.4444444444444444,
              "#bd3786"
             ],
             [
              0.5555555555555556,
              "#d8576b"
             ],
             [
              0.6666666666666666,
              "#ed7953"
             ],
             [
              0.7777777777777778,
              "#fb9f3a"
             ],
             [
              0.8888888888888888,
              "#fdca26"
             ],
             [
              1,
              "#f0f921"
             ]
            ],
            "type": "contour"
           }
          ],
          "contourcarpet": [
           {
            "colorbar": {
             "outlinewidth": 0,
             "ticks": ""
            },
            "type": "contourcarpet"
           }
          ],
          "heatmap": [
           {
            "colorbar": {
             "outlinewidth": 0,
             "ticks": ""
            },
            "colorscale": [
             [
              0,
              "#0d0887"
             ],
             [
              0.1111111111111111,
              "#46039f"
             ],
             [
              0.2222222222222222,
              "#7201a8"
             ],
             [
              0.3333333333333333,
              "#9c179e"
             ],
             [
              0.4444444444444444,
              "#bd3786"
             ],
             [
              0.5555555555555556,
              "#d8576b"
             ],
             [
              0.6666666666666666,
              "#ed7953"
             ],
             [
              0.7777777777777778,
              "#fb9f3a"
             ],
             [
              0.8888888888888888,
              "#fdca26"
             ],
             [
              1,
              "#f0f921"
             ]
            ],
            "type": "heatmap"
           }
          ],
          "histogram": [
           {
            "marker": {
             "pattern": {
              "fillmode": "overlay",
              "size": 10,
              "solidity": 0.2
             }
            },
            "type": "histogram"
           }
          ],
          "histogram2d": [
           {
            "colorbar": {
             "outlinewidth": 0,
             "ticks": ""
            },
            "colorscale": [
             [
              0,
              "#0d0887"
             ],
             [
              0.1111111111111111,
              "#46039f"
             ],
             [
              0.2222222222222222,
              "#7201a8"
             ],
             [
              0.3333333333333333,
              "#9c179e"
             ],
             [
              0.4444444444444444,
              "#bd3786"
             ],
             [
              0.5555555555555556,
              "#d8576b"
             ],
             [
              0.6666666666666666,
              "#ed7953"
             ],
             [
              0.7777777777777778,
              "#fb9f3a"
             ],
             [
              0.8888888888888888,
              "#fdca26"
             ],
             [
              1,
              "#f0f921"
             ]
            ],
            "type": "histogram2d"
           }
          ],
          "histogram2dcontour": [
           {
            "colorbar": {
             "outlinewidth": 0,
             "ticks": ""
            },
            "colorscale": [
             [
              0,
              "#0d0887"
             ],
             [
              0.1111111111111111,
              "#46039f"
             ],
             [
              0.2222222222222222,
              "#7201a8"
             ],
             [
              0.3333333333333333,
              "#9c179e"
             ],
             [
              0.4444444444444444,
              "#bd3786"
             ],
             [
              0.5555555555555556,
              "#d8576b"
             ],
             [
              0.6666666666666666,
              "#ed7953"
             ],
             [
              0.7777777777777778,
              "#fb9f3a"
             ],
             [
              0.8888888888888888,
              "#fdca26"
             ],
             [
              1,
              "#f0f921"
             ]
            ],
            "type": "histogram2dcontour"
           }
          ],
          "mesh3d": [
           {
            "colorbar": {
             "outlinewidth": 0,
             "ticks": ""
            },
            "type": "mesh3d"
           }
          ],
          "parcoords": [
           {
            "line": {
             "colorbar": {
              "outlinewidth": 0,
              "ticks": ""
             }
            },
            "type": "parcoords"
           }
          ],
          "pie": [
           {
            "automargin": true,
            "type": "pie"
           }
          ],
          "scatter": [
           {
            "fillpattern": {
             "fillmode": "overlay",
             "size": 10,
             "solidity": 0.2
            },
            "type": "scatter"
           }
          ],
          "scatter3d": [
           {
            "line": {
             "colorbar": {
              "outlinewidth": 0,
              "ticks": ""
             }
            },
            "marker": {
             "colorbar": {
              "outlinewidth": 0,
              "ticks": ""
             }
            },
            "type": "scatter3d"
           }
          ],
          "scattercarpet": [
           {
            "marker": {
             "colorbar": {
              "outlinewidth": 0,
              "ticks": ""
             }
            },
            "type": "scattercarpet"
           }
          ],
          "scattergeo": [
           {
            "marker": {
             "colorbar": {
              "outlinewidth": 0,
              "ticks": ""
             }
            },
            "type": "scattergeo"
           }
          ],
          "scattergl": [
           {
            "marker": {
             "colorbar": {
              "outlinewidth": 0,
              "ticks": ""
             }
            },
            "type": "scattergl"
           }
          ],
          "scattermap": [
           {
            "marker": {
             "colorbar": {
              "outlinewidth": 0,
              "ticks": ""
             }
            },
            "type": "scattermap"
           }
          ],
          "scattermapbox": [
           {
            "marker": {
             "colorbar": {
              "outlinewidth": 0,
              "ticks": ""
             }
            },
            "type": "scattermapbox"
           }
          ],
          "scatterpolar": [
           {
            "marker": {
             "colorbar": {
              "outlinewidth": 0,
              "ticks": ""
             }
            },
            "type": "scatterpolar"
           }
          ],
          "scatterpolargl": [
           {
            "marker": {
             "colorbar": {
              "outlinewidth": 0,
              "ticks": ""
             }
            },
            "type": "scatterpolargl"
           }
          ],
          "scatterternary": [
           {
            "marker": {
             "colorbar": {
              "outlinewidth": 0,
              "ticks": ""
             }
            },
            "type": "scatterternary"
           }
          ],
          "surface": [
           {
            "colorbar": {
             "outlinewidth": 0,
             "ticks": ""
            },
            "colorscale": [
             [
              0,
              "#0d0887"
             ],
             [
              0.1111111111111111,
              "#46039f"
             ],
             [
              0.2222222222222222,
              "#7201a8"
             ],
             [
              0.3333333333333333,
              "#9c179e"
             ],
             [
              0.4444444444444444,
              "#bd3786"
             ],
             [
              0.5555555555555556,
              "#d8576b"
             ],
             [
              0.6666666666666666,
              "#ed7953"
             ],
             [
              0.7777777777777778,
              "#fb9f3a"
             ],
             [
              0.8888888888888888,
              "#fdca26"
             ],
             [
              1,
              "#f0f921"
             ]
            ],
            "type": "surface"
           }
          ],
          "table": [
           {
            "cells": {
             "fill": {
              "color": "#EBF0F8"
             },
             "line": {
              "color": "white"
             }
            },
            "header": {
             "fill": {
              "color": "#C8D4E3"
             },
             "line": {
              "color": "white"
             }
            },
            "type": "table"
           }
          ]
         },
         "layout": {
          "annotationdefaults": {
           "arrowcolor": "#2a3f5f",
           "arrowhead": 0,
           "arrowwidth": 1
          },
          "autotypenumbers": "strict",
          "coloraxis": {
           "colorbar": {
            "outlinewidth": 0,
            "ticks": ""
           }
          },
          "colorscale": {
           "diverging": [
            [
             0,
             "#8e0152"
            ],
            [
             0.1,
             "#c51b7d"
            ],
            [
             0.2,
             "#de77ae"
            ],
            [
             0.3,
             "#f1b6da"
            ],
            [
             0.4,
             "#fde0ef"
            ],
            [
             0.5,
             "#f7f7f7"
            ],
            [
             0.6,
             "#e6f5d0"
            ],
            [
             0.7,
             "#b8e186"
            ],
            [
             0.8,
             "#7fbc41"
            ],
            [
             0.9,
             "#4d9221"
            ],
            [
             1,
             "#276419"
            ]
           ],
           "sequential": [
            [
             0,
             "#0d0887"
            ],
            [
             0.1111111111111111,
             "#46039f"
            ],
            [
             0.2222222222222222,
             "#7201a8"
            ],
            [
             0.3333333333333333,
             "#9c179e"
            ],
            [
             0.4444444444444444,
             "#bd3786"
            ],
            [
             0.5555555555555556,
             "#d8576b"
            ],
            [
             0.6666666666666666,
             "#ed7953"
            ],
            [
             0.7777777777777778,
             "#fb9f3a"
            ],
            [
             0.8888888888888888,
             "#fdca26"
            ],
            [
             1,
             "#f0f921"
            ]
           ],
           "sequentialminus": [
            [
             0,
             "#0d0887"
            ],
            [
             0.1111111111111111,
             "#46039f"
            ],
            [
             0.2222222222222222,
             "#7201a8"
            ],
            [
             0.3333333333333333,
             "#9c179e"
            ],
            [
             0.4444444444444444,
             "#bd3786"
            ],
            [
             0.5555555555555556,
             "#d8576b"
            ],
            [
             0.6666666666666666,
             "#ed7953"
            ],
            [
             0.7777777777777778,
             "#fb9f3a"
            ],
            [
             0.8888888888888888,
             "#fdca26"
            ],
            [
             1,
             "#f0f921"
            ]
           ]
          },
          "colorway": [
           "#636efa",
           "#EF553B",
           "#00cc96",
           "#ab63fa",
           "#FFA15A",
           "#19d3f3",
           "#FF6692",
           "#B6E880",
           "#FF97FF",
           "#FECB52"
          ],
          "font": {
           "color": "#2a3f5f"
          },
          "geo": {
           "bgcolor": "white",
           "lakecolor": "white",
           "landcolor": "#E5ECF6",
           "showlakes": true,
           "showland": true,
           "subunitcolor": "white"
          },
          "hoverlabel": {
           "align": "left"
          },
          "hovermode": "closest",
          "mapbox": {
           "style": "light"
          },
          "paper_bgcolor": "white",
          "plot_bgcolor": "#E5ECF6",
          "polar": {
           "angularaxis": {
            "gridcolor": "white",
            "linecolor": "white",
            "ticks": ""
           },
           "bgcolor": "#E5ECF6",
           "radialaxis": {
            "gridcolor": "white",
            "linecolor": "white",
            "ticks": ""
           }
          },
          "scene": {
           "xaxis": {
            "backgroundcolor": "#E5ECF6",
            "gridcolor": "white",
            "gridwidth": 2,
            "linecolor": "white",
            "showbackground": true,
            "ticks": "",
            "zerolinecolor": "white"
           },
           "yaxis": {
            "backgroundcolor": "#E5ECF6",
            "gridcolor": "white",
            "gridwidth": 2,
            "linecolor": "white",
            "showbackground": true,
            "ticks": "",
            "zerolinecolor": "white"
           },
           "zaxis": {
            "backgroundcolor": "#E5ECF6",
            "gridcolor": "white",
            "gridwidth": 2,
            "linecolor": "white",
            "showbackground": true,
            "ticks": "",
            "zerolinecolor": "white"
           }
          },
          "shapedefaults": {
           "line": {
            "color": "#2a3f5f"
           }
          },
          "ternary": {
           "aaxis": {
            "gridcolor": "white",
            "linecolor": "white",
            "ticks": ""
           },
           "baxis": {
            "gridcolor": "white",
            "linecolor": "white",
            "ticks": ""
           },
           "bgcolor": "#E5ECF6",
           "caxis": {
            "gridcolor": "white",
            "linecolor": "white",
            "ticks": ""
           }
          },
          "title": {
           "x": 0.05
          },
          "xaxis": {
           "automargin": true,
           "gridcolor": "white",
           "linecolor": "white",
           "ticks": "",
           "title": {
            "standoff": 15
           },
           "zerolinecolor": "white",
           "zerolinewidth": 2
          },
          "yaxis": {
           "automargin": true,
           "gridcolor": "white",
           "linecolor": "white",
           "ticks": "",
           "title": {
            "standoff": 15
           },
           "zerolinecolor": "white",
           "zerolinewidth": 2
          }
         }
        },
        "title": {
         "text": "Small Business Owners: High Variance Features"
        },
        "xaxis": {
         "anchor": "y",
         "domain": [
          0,
          1
         ],
         "title": {
          "text": "Trimmed Variance [$]"
         }
        },
        "yaxis": {
         "anchor": "x",
         "domain": [
          0,
          1
         ],
         "title": {
          "text": "Feature"
         }
        }
       }
      }
     },
     "metadata": {},
     "output_type": "display_data"
    }
   ],
   "source": [
    "# Create horizontal bar chart of `top_ten_trim_var`\n",
    "fig = px.bar(x=top_ten_trim_var,\n",
    "            y=top_ten_trim_var.index,\n",
    "            title=\"Small Business Owners: High Variance Features\")\n",
    "\n",
    "fig.update_layout(xaxis_title=\"Trimmed Variance [$]\", yaxis_title=\"Feature\")\n",
    "\n",
    "fig.show()"
   ]
  },
  {
   "cell_type": "markdown",
   "id": "4cb7a57d-1596-4cea-ba32-8666363a72f7",
   "metadata": {},
   "source": [
    "#### Task 6.5.11\n",
    "Using top_ten_trim_var generate a list called high_var_cols with the column names of the five features with the highest trimmed variance."
   ]
  },
  {
   "cell_type": "code",
   "execution_count": 12,
   "id": "4f7ac3ed-d5fb-4d26-af8a-a2288c27da20",
   "metadata": {},
   "outputs": [
    {
     "data": {
      "text/plain": [
       "['BUS', 'NHNFIN', 'NFIN', 'NETWORTH', 'ASSET']"
      ]
     },
     "execution_count": 12,
     "metadata": {},
     "output_type": "execute_result"
    }
   ],
   "source": [
    "high_var_cols = top_ten_trim_var[5:].index.to_list()\n",
    "high_var_cols"
   ]
  },
  {
   "cell_type": "markdown",
   "id": "6d426f7d-ee4c-45ac-acbb-d8b6d930f62f",
   "metadata": {},
   "source": [
    "## Split"
   ]
  },
  {
   "cell_type": "markdown",
   "id": "5dd0da93-e4c9-4b0a-b7c4-d4f196fdb20d",
   "metadata": {},
   "source": [
    "Let's turn that list into a feature matrix."
   ]
  },
  {
   "cell_type": "markdown",
   "id": "10aea7cd-4589-480f-8b24-f9acde156f29",
   "metadata": {},
   "source": [
    "#### Task 6.5.12\n",
    "Define a feature matrix X from df_small_biz. It should contain the five columns in high_var_cols."
   ]
  },
  {
   "cell_type": "code",
   "execution_count": 13,
   "id": "01e6a86b-a156-452e-8943-4e2db2bd7407",
   "metadata": {},
   "outputs": [
    {
     "name": "stdout",
     "output_type": "stream",
     "text": [
      "X shape: (4161, 5)\n"
     ]
    },
    {
     "data": {
      "text/html": [
       "<div>\n",
       "<style scoped>\n",
       "    .dataframe tbody tr th:only-of-type {\n",
       "        vertical-align: middle;\n",
       "    }\n",
       "\n",
       "    .dataframe tbody tr th {\n",
       "        vertical-align: top;\n",
       "    }\n",
       "\n",
       "    .dataframe thead th {\n",
       "        text-align: right;\n",
       "    }\n",
       "</style>\n",
       "<table border=\"1\" class=\"dataframe\">\n",
       "  <thead>\n",
       "    <tr style=\"text-align: right;\">\n",
       "      <th></th>\n",
       "      <th>BUS</th>\n",
       "      <th>NHNFIN</th>\n",
       "      <th>NFIN</th>\n",
       "      <th>NETWORTH</th>\n",
       "      <th>ASSET</th>\n",
       "    </tr>\n",
       "  </thead>\n",
       "  <tbody>\n",
       "    <tr>\n",
       "      <th>80</th>\n",
       "      <td>0.0</td>\n",
       "      <td>301001.55074</td>\n",
       "      <td>839264.63576</td>\n",
       "      <td>275427.17881</td>\n",
       "      <td>939651.81457</td>\n",
       "    </tr>\n",
       "    <tr>\n",
       "      <th>81</th>\n",
       "      <td>0.0</td>\n",
       "      <td>299657.79382</td>\n",
       "      <td>838105.43046</td>\n",
       "      <td>274267.97351</td>\n",
       "      <td>938492.60927</td>\n",
       "    </tr>\n",
       "    <tr>\n",
       "      <th>82</th>\n",
       "      <td>0.0</td>\n",
       "      <td>301001.55074</td>\n",
       "      <td>839264.63576</td>\n",
       "      <td>275427.17881</td>\n",
       "      <td>939651.81457</td>\n",
       "    </tr>\n",
       "    <tr>\n",
       "      <th>83</th>\n",
       "      <td>0.0</td>\n",
       "      <td>298314.03689</td>\n",
       "      <td>836946.22517</td>\n",
       "      <td>271949.56291</td>\n",
       "      <td>937333.40397</td>\n",
       "    </tr>\n",
       "    <tr>\n",
       "      <th>84</th>\n",
       "      <td>0.0</td>\n",
       "      <td>299657.79382</td>\n",
       "      <td>838105.43046</td>\n",
       "      <td>275427.17881</td>\n",
       "      <td>938492.60927</td>\n",
       "    </tr>\n",
       "  </tbody>\n",
       "</table>\n",
       "</div>"
      ],
      "text/plain": [
       "    BUS        NHNFIN          NFIN      NETWORTH         ASSET\n",
       "80  0.0  301001.55074  839264.63576  275427.17881  939651.81457\n",
       "81  0.0  299657.79382  838105.43046  274267.97351  938492.60927\n",
       "82  0.0  301001.55074  839264.63576  275427.17881  939651.81457\n",
       "83  0.0  298314.03689  836946.22517  271949.56291  937333.40397\n",
       "84  0.0  299657.79382  838105.43046  275427.17881  938492.60927"
      ]
     },
     "execution_count": 13,
     "metadata": {},
     "output_type": "execute_result"
    }
   ],
   "source": [
    "X = df_small_biz[high_var_cols]\n",
    "print(\"X shape:\", X.shape)\n",
    "X.head()"
   ]
  },
  {
   "cell_type": "markdown",
   "id": "52ce6132-cf5d-4f4c-bc18-7e22e63a1024",
   "metadata": {},
   "source": [
    "# Build Model"
   ]
  },
  {
   "cell_type": "markdown",
   "id": "f137c13a-8661-47ef-be1e-8aa0df0711e9",
   "metadata": {},
   "source": [
    "## Iterate"
   ]
  },
  {
   "cell_type": "markdown",
   "id": "ca675d11-77d7-4b5d-9202-ba1f9665287e",
   "metadata": {},
   "source": [
    "#### Task 6.5.13\n",
    "Before building the actual KMeans model, you'll need to tune your hyperparamters for your model by iterating different values of n_clusters, ranging from 2 to 12.\n",
    "\n",
    "Then for each cluster, build model and fit a pipeline with StandardScaler and KMeans and add a random_state. Append model's inertia to empty inertia_errors list and silhouette score to empty silhouette_scores list throughout the iteration."
   ]
  },
  {
   "cell_type": "code",
   "execution_count": 14,
   "id": "eb1b080c-28aa-4f25-9012-7568a2720dd3",
   "metadata": {},
   "outputs": [
    {
     "name": "stdout",
     "output_type": "stream",
     "text": [
      "Inertia: [5419.0220308856005, 2902.1600402045915, 2082.5056428560547, 1550.8719011833057, 1436.0526578602821, 1114.3403633878006, 825.1316466474685, 710.312403324444, 630.8391328158656, 542.8434708617599, 490.04945404714505]\n",
      "\n",
      "Silhouette Scores: [np.float64(0.962230513495831), np.float64(0.852409870333528), np.float64(0.756703930205641)]\n"
     ]
    }
   ],
   "source": [
    "n_clusters = range(2, 13)\n",
    "inertia_errors = []\n",
    "silhouette_scores = []\n",
    "\n",
    "# Add `for` loop to train model and calculate inertia, silhouette score.\n",
    "for k in n_clusters:\n",
    "    model = make_pipeline(\n",
    "        StandardScaler(), KMeans(n_clusters=k, random_state=42))\n",
    "    model.fit(X)\n",
    "    inertia_errors.append(model.named_steps[\"kmeans\"].inertia_)\n",
    "    silhouette_scores.append(silhouette_score(X, model.named_steps[\"kmeans\"].labels_))\n",
    "\n",
    "print(\"Inertia:\", inertia_errors[:11])\n",
    "print()\n",
    "print(\"Silhouette Scores:\", silhouette_scores[:3])"
   ]
  },
  {
   "cell_type": "markdown",
   "id": "88f276cb-315d-4462-9109-085a88df080a",
   "metadata": {},
   "source": [
    "Next, try to figure out how many clusters you'll need with a line plot based on Inertia and Silhouette Scores."
   ]
  },
  {
   "cell_type": "markdown",
   "id": "7e089d35-1f41-4ade-9662-186226bcf720",
   "metadata": {},
   "source": [
    "#### Task 6.5.14\n",
    "Use plotly express to create a line plot that shows the values of inertia_errors as a function of n_clusters. "
   ]
  },
  {
   "cell_type": "code",
   "execution_count": 15,
   "id": "c8e0580d-7300-4ab2-b049-ec7d4b703fcc",
   "metadata": {},
   "outputs": [
    {
     "data": {
      "application/vnd.plotly.v1+json": {
       "config": {
        "plotlyServerURL": "https://plot.ly"
       },
       "data": [
        {
         "hovertemplate": "x=%{x}<br>y=%{y}<extra></extra>",
         "legendgroup": "",
         "line": {
          "color": "#636efa",
          "dash": "solid"
         },
         "marker": {
          "symbol": "circle"
         },
         "mode": "lines",
         "name": "",
         "orientation": "v",
         "showlegend": false,
         "type": "scatter",
         "x": {
          "bdata": "AgMEBQYHCAkKCww=",
          "dtype": "i1"
         },
         "xaxis": "x",
         "y": {
          "bdata": "KO3QowUrtUCIKcrwUaymQGzUnuMCRaBAke6p03w7mEAoL/HrNXCWQHBNOIhcaZFAC+zBnA3JiUAwbVDNfzKGQCUJRIu2toNAGrOmbb/2gEBJslOQyqB+QA==",
          "dtype": "f8"
         },
         "yaxis": "y"
        }
       ],
       "layout": {
        "legend": {
         "tracegroupgap": 0
        },
        "template": {
         "data": {
          "bar": [
           {
            "error_x": {
             "color": "#2a3f5f"
            },
            "error_y": {
             "color": "#2a3f5f"
            },
            "marker": {
             "line": {
              "color": "#E5ECF6",
              "width": 0.5
             },
             "pattern": {
              "fillmode": "overlay",
              "size": 10,
              "solidity": 0.2
             }
            },
            "type": "bar"
           }
          ],
          "barpolar": [
           {
            "marker": {
             "line": {
              "color": "#E5ECF6",
              "width": 0.5
             },
             "pattern": {
              "fillmode": "overlay",
              "size": 10,
              "solidity": 0.2
             }
            },
            "type": "barpolar"
           }
          ],
          "carpet": [
           {
            "aaxis": {
             "endlinecolor": "#2a3f5f",
             "gridcolor": "white",
             "linecolor": "white",
             "minorgridcolor": "white",
             "startlinecolor": "#2a3f5f"
            },
            "baxis": {
             "endlinecolor": "#2a3f5f",
             "gridcolor": "white",
             "linecolor": "white",
             "minorgridcolor": "white",
             "startlinecolor": "#2a3f5f"
            },
            "type": "carpet"
           }
          ],
          "choropleth": [
           {
            "colorbar": {
             "outlinewidth": 0,
             "ticks": ""
            },
            "type": "choropleth"
           }
          ],
          "contour": [
           {
            "colorbar": {
             "outlinewidth": 0,
             "ticks": ""
            },
            "colorscale": [
             [
              0,
              "#0d0887"
             ],
             [
              0.1111111111111111,
              "#46039f"
             ],
             [
              0.2222222222222222,
              "#7201a8"
             ],
             [
              0.3333333333333333,
              "#9c179e"
             ],
             [
              0.4444444444444444,
              "#bd3786"
             ],
             [
              0.5555555555555556,
              "#d8576b"
             ],
             [
              0.6666666666666666,
              "#ed7953"
             ],
             [
              0.7777777777777778,
              "#fb9f3a"
             ],
             [
              0.8888888888888888,
              "#fdca26"
             ],
             [
              1,
              "#f0f921"
             ]
            ],
            "type": "contour"
           }
          ],
          "contourcarpet": [
           {
            "colorbar": {
             "outlinewidth": 0,
             "ticks": ""
            },
            "type": "contourcarpet"
           }
          ],
          "heatmap": [
           {
            "colorbar": {
             "outlinewidth": 0,
             "ticks": ""
            },
            "colorscale": [
             [
              0,
              "#0d0887"
             ],
             [
              0.1111111111111111,
              "#46039f"
             ],
             [
              0.2222222222222222,
              "#7201a8"
             ],
             [
              0.3333333333333333,
              "#9c179e"
             ],
             [
              0.4444444444444444,
              "#bd3786"
             ],
             [
              0.5555555555555556,
              "#d8576b"
             ],
             [
              0.6666666666666666,
              "#ed7953"
             ],
             [
              0.7777777777777778,
              "#fb9f3a"
             ],
             [
              0.8888888888888888,
              "#fdca26"
             ],
             [
              1,
              "#f0f921"
             ]
            ],
            "type": "heatmap"
           }
          ],
          "histogram": [
           {
            "marker": {
             "pattern": {
              "fillmode": "overlay",
              "size": 10,
              "solidity": 0.2
             }
            },
            "type": "histogram"
           }
          ],
          "histogram2d": [
           {
            "colorbar": {
             "outlinewidth": 0,
             "ticks": ""
            },
            "colorscale": [
             [
              0,
              "#0d0887"
             ],
             [
              0.1111111111111111,
              "#46039f"
             ],
             [
              0.2222222222222222,
              "#7201a8"
             ],
             [
              0.3333333333333333,
              "#9c179e"
             ],
             [
              0.4444444444444444,
              "#bd3786"
             ],
             [
              0.5555555555555556,
              "#d8576b"
             ],
             [
              0.6666666666666666,
              "#ed7953"
             ],
             [
              0.7777777777777778,
              "#fb9f3a"
             ],
             [
              0.8888888888888888,
              "#fdca26"
             ],
             [
              1,
              "#f0f921"
             ]
            ],
            "type": "histogram2d"
           }
          ],
          "histogram2dcontour": [
           {
            "colorbar": {
             "outlinewidth": 0,
             "ticks": ""
            },
            "colorscale": [
             [
              0,
              "#0d0887"
             ],
             [
              0.1111111111111111,
              "#46039f"
             ],
             [
              0.2222222222222222,
              "#7201a8"
             ],
             [
              0.3333333333333333,
              "#9c179e"
             ],
             [
              0.4444444444444444,
              "#bd3786"
             ],
             [
              0.5555555555555556,
              "#d8576b"
             ],
             [
              0.6666666666666666,
              "#ed7953"
             ],
             [
              0.7777777777777778,
              "#fb9f3a"
             ],
             [
              0.8888888888888888,
              "#fdca26"
             ],
             [
              1,
              "#f0f921"
             ]
            ],
            "type": "histogram2dcontour"
           }
          ],
          "mesh3d": [
           {
            "colorbar": {
             "outlinewidth": 0,
             "ticks": ""
            },
            "type": "mesh3d"
           }
          ],
          "parcoords": [
           {
            "line": {
             "colorbar": {
              "outlinewidth": 0,
              "ticks": ""
             }
            },
            "type": "parcoords"
           }
          ],
          "pie": [
           {
            "automargin": true,
            "type": "pie"
           }
          ],
          "scatter": [
           {
            "fillpattern": {
             "fillmode": "overlay",
             "size": 10,
             "solidity": 0.2
            },
            "type": "scatter"
           }
          ],
          "scatter3d": [
           {
            "line": {
             "colorbar": {
              "outlinewidth": 0,
              "ticks": ""
             }
            },
            "marker": {
             "colorbar": {
              "outlinewidth": 0,
              "ticks": ""
             }
            },
            "type": "scatter3d"
           }
          ],
          "scattercarpet": [
           {
            "marker": {
             "colorbar": {
              "outlinewidth": 0,
              "ticks": ""
             }
            },
            "type": "scattercarpet"
           }
          ],
          "scattergeo": [
           {
            "marker": {
             "colorbar": {
              "outlinewidth": 0,
              "ticks": ""
             }
            },
            "type": "scattergeo"
           }
          ],
          "scattergl": [
           {
            "marker": {
             "colorbar": {
              "outlinewidth": 0,
              "ticks": ""
             }
            },
            "type": "scattergl"
           }
          ],
          "scattermap": [
           {
            "marker": {
             "colorbar": {
              "outlinewidth": 0,
              "ticks": ""
             }
            },
            "type": "scattermap"
           }
          ],
          "scattermapbox": [
           {
            "marker": {
             "colorbar": {
              "outlinewidth": 0,
              "ticks": ""
             }
            },
            "type": "scattermapbox"
           }
          ],
          "scatterpolar": [
           {
            "marker": {
             "colorbar": {
              "outlinewidth": 0,
              "ticks": ""
             }
            },
            "type": "scatterpolar"
           }
          ],
          "scatterpolargl": [
           {
            "marker": {
             "colorbar": {
              "outlinewidth": 0,
              "ticks": ""
             }
            },
            "type": "scatterpolargl"
           }
          ],
          "scatterternary": [
           {
            "marker": {
             "colorbar": {
              "outlinewidth": 0,
              "ticks": ""
             }
            },
            "type": "scatterternary"
           }
          ],
          "surface": [
           {
            "colorbar": {
             "outlinewidth": 0,
             "ticks": ""
            },
            "colorscale": [
             [
              0,
              "#0d0887"
             ],
             [
              0.1111111111111111,
              "#46039f"
             ],
             [
              0.2222222222222222,
              "#7201a8"
             ],
             [
              0.3333333333333333,
              "#9c179e"
             ],
             [
              0.4444444444444444,
              "#bd3786"
             ],
             [
              0.5555555555555556,
              "#d8576b"
             ],
             [
              0.6666666666666666,
              "#ed7953"
             ],
             [
              0.7777777777777778,
              "#fb9f3a"
             ],
             [
              0.8888888888888888,
              "#fdca26"
             ],
             [
              1,
              "#f0f921"
             ]
            ],
            "type": "surface"
           }
          ],
          "table": [
           {
            "cells": {
             "fill": {
              "color": "#EBF0F8"
             },
             "line": {
              "color": "white"
             }
            },
            "header": {
             "fill": {
              "color": "#C8D4E3"
             },
             "line": {
              "color": "white"
             }
            },
            "type": "table"
           }
          ]
         },
         "layout": {
          "annotationdefaults": {
           "arrowcolor": "#2a3f5f",
           "arrowhead": 0,
           "arrowwidth": 1
          },
          "autotypenumbers": "strict",
          "coloraxis": {
           "colorbar": {
            "outlinewidth": 0,
            "ticks": ""
           }
          },
          "colorscale": {
           "diverging": [
            [
             0,
             "#8e0152"
            ],
            [
             0.1,
             "#c51b7d"
            ],
            [
             0.2,
             "#de77ae"
            ],
            [
             0.3,
             "#f1b6da"
            ],
            [
             0.4,
             "#fde0ef"
            ],
            [
             0.5,
             "#f7f7f7"
            ],
            [
             0.6,
             "#e6f5d0"
            ],
            [
             0.7,
             "#b8e186"
            ],
            [
             0.8,
             "#7fbc41"
            ],
            [
             0.9,
             "#4d9221"
            ],
            [
             1,
             "#276419"
            ]
           ],
           "sequential": [
            [
             0,
             "#0d0887"
            ],
            [
             0.1111111111111111,
             "#46039f"
            ],
            [
             0.2222222222222222,
             "#7201a8"
            ],
            [
             0.3333333333333333,
             "#9c179e"
            ],
            [
             0.4444444444444444,
             "#bd3786"
            ],
            [
             0.5555555555555556,
             "#d8576b"
            ],
            [
             0.6666666666666666,
             "#ed7953"
            ],
            [
             0.7777777777777778,
             "#fb9f3a"
            ],
            [
             0.8888888888888888,
             "#fdca26"
            ],
            [
             1,
             "#f0f921"
            ]
           ],
           "sequentialminus": [
            [
             0,
             "#0d0887"
            ],
            [
             0.1111111111111111,
             "#46039f"
            ],
            [
             0.2222222222222222,
             "#7201a8"
            ],
            [
             0.3333333333333333,
             "#9c179e"
            ],
            [
             0.4444444444444444,
             "#bd3786"
            ],
            [
             0.5555555555555556,
             "#d8576b"
            ],
            [
             0.6666666666666666,
             "#ed7953"
            ],
            [
             0.7777777777777778,
             "#fb9f3a"
            ],
            [
             0.8888888888888888,
             "#fdca26"
            ],
            [
             1,
             "#f0f921"
            ]
           ]
          },
          "colorway": [
           "#636efa",
           "#EF553B",
           "#00cc96",
           "#ab63fa",
           "#FFA15A",
           "#19d3f3",
           "#FF6692",
           "#B6E880",
           "#FF97FF",
           "#FECB52"
          ],
          "font": {
           "color": "#2a3f5f"
          },
          "geo": {
           "bgcolor": "white",
           "lakecolor": "white",
           "landcolor": "#E5ECF6",
           "showlakes": true,
           "showland": true,
           "subunitcolor": "white"
          },
          "hoverlabel": {
           "align": "left"
          },
          "hovermode": "closest",
          "mapbox": {
           "style": "light"
          },
          "paper_bgcolor": "white",
          "plot_bgcolor": "#E5ECF6",
          "polar": {
           "angularaxis": {
            "gridcolor": "white",
            "linecolor": "white",
            "ticks": ""
           },
           "bgcolor": "#E5ECF6",
           "radialaxis": {
            "gridcolor": "white",
            "linecolor": "white",
            "ticks": ""
           }
          },
          "scene": {
           "xaxis": {
            "backgroundcolor": "#E5ECF6",
            "gridcolor": "white",
            "gridwidth": 2,
            "linecolor": "white",
            "showbackground": true,
            "ticks": "",
            "zerolinecolor": "white"
           },
           "yaxis": {
            "backgroundcolor": "#E5ECF6",
            "gridcolor": "white",
            "gridwidth": 2,
            "linecolor": "white",
            "showbackground": true,
            "ticks": "",
            "zerolinecolor": "white"
           },
           "zaxis": {
            "backgroundcolor": "#E5ECF6",
            "gridcolor": "white",
            "gridwidth": 2,
            "linecolor": "white",
            "showbackground": true,
            "ticks": "",
            "zerolinecolor": "white"
           }
          },
          "shapedefaults": {
           "line": {
            "color": "#2a3f5f"
           }
          },
          "ternary": {
           "aaxis": {
            "gridcolor": "white",
            "linecolor": "white",
            "ticks": ""
           },
           "baxis": {
            "gridcolor": "white",
            "linecolor": "white",
            "ticks": ""
           },
           "bgcolor": "#E5ECF6",
           "caxis": {
            "gridcolor": "white",
            "linecolor": "white",
            "ticks": ""
           }
          },
          "title": {
           "x": 0.05
          },
          "xaxis": {
           "automargin": true,
           "gridcolor": "white",
           "linecolor": "white",
           "ticks": "",
           "title": {
            "standoff": 15
           },
           "zerolinecolor": "white",
           "zerolinewidth": 2
          },
          "yaxis": {
           "automargin": true,
           "gridcolor": "white",
           "linecolor": "white",
           "ticks": "",
           "title": {
            "standoff": 15
           },
           "zerolinecolor": "white",
           "zerolinewidth": 2
          }
         }
        },
        "title": {
         "text": "K-Means Model: Inertia vs Number of Clusters"
        },
        "xaxis": {
         "anchor": "y",
         "domain": [
          0,
          1
         ],
         "title": {
          "text": "Number of Clusters"
         }
        },
        "yaxis": {
         "anchor": "x",
         "domain": [
          0,
          1
         ],
         "title": {
          "text": "Inertia"
         }
        }
       }
      }
     },
     "metadata": {},
     "output_type": "display_data"
    }
   ],
   "source": [
    "# Create line plot of `inertia_errors` vs `n_clusters`\n",
    "fig = px.line(\n",
    "    x=n_clusters, y=inertia_errors,\n",
    "    title=\"K-Means Model: Inertia vs Number of Clusters\"\n",
    ")\n",
    "\n",
    "fig.update_layout(xaxis_title=\"Number of Clusters\", yaxis_title=\"Inertia\")\n",
    "fig.show()"
   ]
  },
  {
   "cell_type": "markdown",
   "id": "b6e0c541-b381-403c-be1f-176f011d9fc0",
   "metadata": {},
   "source": [
    "#### Task 6.5.15\n",
    "Use plotly.express.line() to create a line plot that shows the values of silhouette_scores as a function of n_clusters."
   ]
  },
  {
   "cell_type": "code",
   "execution_count": 16,
   "id": "1706ec00-1e76-4db9-ab8e-6dfa888b5270",
   "metadata": {},
   "outputs": [
    {
     "data": {
      "application/vnd.plotly.v1+json": {
       "config": {
        "plotlyServerURL": "https://plot.ly"
       },
       "data": [
        {
         "hovertemplate": "x=%{x}<br>y=%{y}<extra></extra>",
         "legendgroup": "",
         "line": {
          "color": "#636efa",
          "dash": "solid"
         },
         "marker": {
          "symbol": "circle"
         },
         "mode": "lines",
         "name": "",
         "orientation": "v",
         "showlegend": false,
         "type": "scatter",
         "x": {
          "bdata": "AgMEBQYHCAkKCww=",
          "dtype": "i1"
         },
         "xaxis": "x",
         "y": {
          "bdata": "M7FVpZfK7j/j13sQ8UbrP9WcHynrNug/Vs2qFrws6D94v6SSNiroP+VV+TVbTeY/GlzYdTxx5D+xblI4Cm/kP1mn813ndOQ/FSMkEe9M5D+UfmWtEFHkPw==",
          "dtype": "f8"
         },
         "yaxis": "y"
        }
       ],
       "layout": {
        "legend": {
         "tracegroupgap": 0
        },
        "template": {
         "data": {
          "bar": [
           {
            "error_x": {
             "color": "#2a3f5f"
            },
            "error_y": {
             "color": "#2a3f5f"
            },
            "marker": {
             "line": {
              "color": "#E5ECF6",
              "width": 0.5
             },
             "pattern": {
              "fillmode": "overlay",
              "size": 10,
              "solidity": 0.2
             }
            },
            "type": "bar"
           }
          ],
          "barpolar": [
           {
            "marker": {
             "line": {
              "color": "#E5ECF6",
              "width": 0.5
             },
             "pattern": {
              "fillmode": "overlay",
              "size": 10,
              "solidity": 0.2
             }
            },
            "type": "barpolar"
           }
          ],
          "carpet": [
           {
            "aaxis": {
             "endlinecolor": "#2a3f5f",
             "gridcolor": "white",
             "linecolor": "white",
             "minorgridcolor": "white",
             "startlinecolor": "#2a3f5f"
            },
            "baxis": {
             "endlinecolor": "#2a3f5f",
             "gridcolor": "white",
             "linecolor": "white",
             "minorgridcolor": "white",
             "startlinecolor": "#2a3f5f"
            },
            "type": "carpet"
           }
          ],
          "choropleth": [
           {
            "colorbar": {
             "outlinewidth": 0,
             "ticks": ""
            },
            "type": "choropleth"
           }
          ],
          "contour": [
           {
            "colorbar": {
             "outlinewidth": 0,
             "ticks": ""
            },
            "colorscale": [
             [
              0,
              "#0d0887"
             ],
             [
              0.1111111111111111,
              "#46039f"
             ],
             [
              0.2222222222222222,
              "#7201a8"
             ],
             [
              0.3333333333333333,
              "#9c179e"
             ],
             [
              0.4444444444444444,
              "#bd3786"
             ],
             [
              0.5555555555555556,
              "#d8576b"
             ],
             [
              0.6666666666666666,
              "#ed7953"
             ],
             [
              0.7777777777777778,
              "#fb9f3a"
             ],
             [
              0.8888888888888888,
              "#fdca26"
             ],
             [
              1,
              "#f0f921"
             ]
            ],
            "type": "contour"
           }
          ],
          "contourcarpet": [
           {
            "colorbar": {
             "outlinewidth": 0,
             "ticks": ""
            },
            "type": "contourcarpet"
           }
          ],
          "heatmap": [
           {
            "colorbar": {
             "outlinewidth": 0,
             "ticks": ""
            },
            "colorscale": [
             [
              0,
              "#0d0887"
             ],
             [
              0.1111111111111111,
              "#46039f"
             ],
             [
              0.2222222222222222,
              "#7201a8"
             ],
             [
              0.3333333333333333,
              "#9c179e"
             ],
             [
              0.4444444444444444,
              "#bd3786"
             ],
             [
              0.5555555555555556,
              "#d8576b"
             ],
             [
              0.6666666666666666,
              "#ed7953"
             ],
             [
              0.7777777777777778,
              "#fb9f3a"
             ],
             [
              0.8888888888888888,
              "#fdca26"
             ],
             [
              1,
              "#f0f921"
             ]
            ],
            "type": "heatmap"
           }
          ],
          "histogram": [
           {
            "marker": {
             "pattern": {
              "fillmode": "overlay",
              "size": 10,
              "solidity": 0.2
             }
            },
            "type": "histogram"
           }
          ],
          "histogram2d": [
           {
            "colorbar": {
             "outlinewidth": 0,
             "ticks": ""
            },
            "colorscale": [
             [
              0,
              "#0d0887"
             ],
             [
              0.1111111111111111,
              "#46039f"
             ],
             [
              0.2222222222222222,
              "#7201a8"
             ],
             [
              0.3333333333333333,
              "#9c179e"
             ],
             [
              0.4444444444444444,
              "#bd3786"
             ],
             [
              0.5555555555555556,
              "#d8576b"
             ],
             [
              0.6666666666666666,
              "#ed7953"
             ],
             [
              0.7777777777777778,
              "#fb9f3a"
             ],
             [
              0.8888888888888888,
              "#fdca26"
             ],
             [
              1,
              "#f0f921"
             ]
            ],
            "type": "histogram2d"
           }
          ],
          "histogram2dcontour": [
           {
            "colorbar": {
             "outlinewidth": 0,
             "ticks": ""
            },
            "colorscale": [
             [
              0,
              "#0d0887"
             ],
             [
              0.1111111111111111,
              "#46039f"
             ],
             [
              0.2222222222222222,
              "#7201a8"
             ],
             [
              0.3333333333333333,
              "#9c179e"
             ],
             [
              0.4444444444444444,
              "#bd3786"
             ],
             [
              0.5555555555555556,
              "#d8576b"
             ],
             [
              0.6666666666666666,
              "#ed7953"
             ],
             [
              0.7777777777777778,
              "#fb9f3a"
             ],
             [
              0.8888888888888888,
              "#fdca26"
             ],
             [
              1,
              "#f0f921"
             ]
            ],
            "type": "histogram2dcontour"
           }
          ],
          "mesh3d": [
           {
            "colorbar": {
             "outlinewidth": 0,
             "ticks": ""
            },
            "type": "mesh3d"
           }
          ],
          "parcoords": [
           {
            "line": {
             "colorbar": {
              "outlinewidth": 0,
              "ticks": ""
             }
            },
            "type": "parcoords"
           }
          ],
          "pie": [
           {
            "automargin": true,
            "type": "pie"
           }
          ],
          "scatter": [
           {
            "fillpattern": {
             "fillmode": "overlay",
             "size": 10,
             "solidity": 0.2
            },
            "type": "scatter"
           }
          ],
          "scatter3d": [
           {
            "line": {
             "colorbar": {
              "outlinewidth": 0,
              "ticks": ""
             }
            },
            "marker": {
             "colorbar": {
              "outlinewidth": 0,
              "ticks": ""
             }
            },
            "type": "scatter3d"
           }
          ],
          "scattercarpet": [
           {
            "marker": {
             "colorbar": {
              "outlinewidth": 0,
              "ticks": ""
             }
            },
            "type": "scattercarpet"
           }
          ],
          "scattergeo": [
           {
            "marker": {
             "colorbar": {
              "outlinewidth": 0,
              "ticks": ""
             }
            },
            "type": "scattergeo"
           }
          ],
          "scattergl": [
           {
            "marker": {
             "colorbar": {
              "outlinewidth": 0,
              "ticks": ""
             }
            },
            "type": "scattergl"
           }
          ],
          "scattermap": [
           {
            "marker": {
             "colorbar": {
              "outlinewidth": 0,
              "ticks": ""
             }
            },
            "type": "scattermap"
           }
          ],
          "scattermapbox": [
           {
            "marker": {
             "colorbar": {
              "outlinewidth": 0,
              "ticks": ""
             }
            },
            "type": "scattermapbox"
           }
          ],
          "scatterpolar": [
           {
            "marker": {
             "colorbar": {
              "outlinewidth": 0,
              "ticks": ""
             }
            },
            "type": "scatterpolar"
           }
          ],
          "scatterpolargl": [
           {
            "marker": {
             "colorbar": {
              "outlinewidth": 0,
              "ticks": ""
             }
            },
            "type": "scatterpolargl"
           }
          ],
          "scatterternary": [
           {
            "marker": {
             "colorbar": {
              "outlinewidth": 0,
              "ticks": ""
             }
            },
            "type": "scatterternary"
           }
          ],
          "surface": [
           {
            "colorbar": {
             "outlinewidth": 0,
             "ticks": ""
            },
            "colorscale": [
             [
              0,
              "#0d0887"
             ],
             [
              0.1111111111111111,
              "#46039f"
             ],
             [
              0.2222222222222222,
              "#7201a8"
             ],
             [
              0.3333333333333333,
              "#9c179e"
             ],
             [
              0.4444444444444444,
              "#bd3786"
             ],
             [
              0.5555555555555556,
              "#d8576b"
             ],
             [
              0.6666666666666666,
              "#ed7953"
             ],
             [
              0.7777777777777778,
              "#fb9f3a"
             ],
             [
              0.8888888888888888,
              "#fdca26"
             ],
             [
              1,
              "#f0f921"
             ]
            ],
            "type": "surface"
           }
          ],
          "table": [
           {
            "cells": {
             "fill": {
              "color": "#EBF0F8"
             },
             "line": {
              "color": "white"
             }
            },
            "header": {
             "fill": {
              "color": "#C8D4E3"
             },
             "line": {
              "color": "white"
             }
            },
            "type": "table"
           }
          ]
         },
         "layout": {
          "annotationdefaults": {
           "arrowcolor": "#2a3f5f",
           "arrowhead": 0,
           "arrowwidth": 1
          },
          "autotypenumbers": "strict",
          "coloraxis": {
           "colorbar": {
            "outlinewidth": 0,
            "ticks": ""
           }
          },
          "colorscale": {
           "diverging": [
            [
             0,
             "#8e0152"
            ],
            [
             0.1,
             "#c51b7d"
            ],
            [
             0.2,
             "#de77ae"
            ],
            [
             0.3,
             "#f1b6da"
            ],
            [
             0.4,
             "#fde0ef"
            ],
            [
             0.5,
             "#f7f7f7"
            ],
            [
             0.6,
             "#e6f5d0"
            ],
            [
             0.7,
             "#b8e186"
            ],
            [
             0.8,
             "#7fbc41"
            ],
            [
             0.9,
             "#4d9221"
            ],
            [
             1,
             "#276419"
            ]
           ],
           "sequential": [
            [
             0,
             "#0d0887"
            ],
            [
             0.1111111111111111,
             "#46039f"
            ],
            [
             0.2222222222222222,
             "#7201a8"
            ],
            [
             0.3333333333333333,
             "#9c179e"
            ],
            [
             0.4444444444444444,
             "#bd3786"
            ],
            [
             0.5555555555555556,
             "#d8576b"
            ],
            [
             0.6666666666666666,
             "#ed7953"
            ],
            [
             0.7777777777777778,
             "#fb9f3a"
            ],
            [
             0.8888888888888888,
             "#fdca26"
            ],
            [
             1,
             "#f0f921"
            ]
           ],
           "sequentialminus": [
            [
             0,
             "#0d0887"
            ],
            [
             0.1111111111111111,
             "#46039f"
            ],
            [
             0.2222222222222222,
             "#7201a8"
            ],
            [
             0.3333333333333333,
             "#9c179e"
            ],
            [
             0.4444444444444444,
             "#bd3786"
            ],
            [
             0.5555555555555556,
             "#d8576b"
            ],
            [
             0.6666666666666666,
             "#ed7953"
            ],
            [
             0.7777777777777778,
             "#fb9f3a"
            ],
            [
             0.8888888888888888,
             "#fdca26"
            ],
            [
             1,
             "#f0f921"
            ]
           ]
          },
          "colorway": [
           "#636efa",
           "#EF553B",
           "#00cc96",
           "#ab63fa",
           "#FFA15A",
           "#19d3f3",
           "#FF6692",
           "#B6E880",
           "#FF97FF",
           "#FECB52"
          ],
          "font": {
           "color": "#2a3f5f"
          },
          "geo": {
           "bgcolor": "white",
           "lakecolor": "white",
           "landcolor": "#E5ECF6",
           "showlakes": true,
           "showland": true,
           "subunitcolor": "white"
          },
          "hoverlabel": {
           "align": "left"
          },
          "hovermode": "closest",
          "mapbox": {
           "style": "light"
          },
          "paper_bgcolor": "white",
          "plot_bgcolor": "#E5ECF6",
          "polar": {
           "angularaxis": {
            "gridcolor": "white",
            "linecolor": "white",
            "ticks": ""
           },
           "bgcolor": "#E5ECF6",
           "radialaxis": {
            "gridcolor": "white",
            "linecolor": "white",
            "ticks": ""
           }
          },
          "scene": {
           "xaxis": {
            "backgroundcolor": "#E5ECF6",
            "gridcolor": "white",
            "gridwidth": 2,
            "linecolor": "white",
            "showbackground": true,
            "ticks": "",
            "zerolinecolor": "white"
           },
           "yaxis": {
            "backgroundcolor": "#E5ECF6",
            "gridcolor": "white",
            "gridwidth": 2,
            "linecolor": "white",
            "showbackground": true,
            "ticks": "",
            "zerolinecolor": "white"
           },
           "zaxis": {
            "backgroundcolor": "#E5ECF6",
            "gridcolor": "white",
            "gridwidth": 2,
            "linecolor": "white",
            "showbackground": true,
            "ticks": "",
            "zerolinecolor": "white"
           }
          },
          "shapedefaults": {
           "line": {
            "color": "#2a3f5f"
           }
          },
          "ternary": {
           "aaxis": {
            "gridcolor": "white",
            "linecolor": "white",
            "ticks": ""
           },
           "baxis": {
            "gridcolor": "white",
            "linecolor": "white",
            "ticks": ""
           },
           "bgcolor": "#E5ECF6",
           "caxis": {
            "gridcolor": "white",
            "linecolor": "white",
            "ticks": ""
           }
          },
          "title": {
           "x": 0.05
          },
          "xaxis": {
           "automargin": true,
           "gridcolor": "white",
           "linecolor": "white",
           "ticks": "",
           "title": {
            "standoff": 15
           },
           "zerolinecolor": "white",
           "zerolinewidth": 2
          },
          "yaxis": {
           "automargin": true,
           "gridcolor": "white",
           "linecolor": "white",
           "ticks": "",
           "title": {
            "standoff": 15
           },
           "zerolinecolor": "white",
           "zerolinewidth": 2
          }
         }
        },
        "title": {
         "text": "K-Means Model: Silhouette Score vs Number of Clusters"
        },
        "xaxis": {
         "anchor": "y",
         "domain": [
          0,
          1
         ],
         "title": {
          "text": "Number of Clusters"
         }
        },
        "yaxis": {
         "anchor": "x",
         "domain": [
          0,
          1
         ],
         "title": {
          "text": "Silhouette Score"
         }
        }
       }
      }
     },
     "metadata": {},
     "output_type": "display_data"
    }
   ],
   "source": [
    "# Create a line plot of `silhouette_scores` vs `n_clusters`\n",
    "fig = px.line(\n",
    "    x=n_clusters, y=silhouette_scores,\n",
    "    title=\"K-Means Model: Silhouette Score vs Number of Clusters\"\n",
    ")\n",
    "\n",
    "fig.update_layout(xaxis_title=\"Number of Clusters\", yaxis_title=\"Silhouette Score\")\n",
    "fig.show()"
   ]
  },
  {
   "cell_type": "markdown",
   "id": "f8e6fa87-0f2e-4bfc-a975-6defff5adb51",
   "metadata": {},
   "source": [
    "How many clusters should you use? When you've made a decision about that, it's time to build the final model."
   ]
  },
  {
   "cell_type": "markdown",
   "id": "5d7013c8-8c34-4c00-84d3-8307d8f9cb27",
   "metadata": {},
   "source": [
    "#### Task 6.5.16\n",
    "Build and train a new k-means model named final_model. Using Standard Scaler and Kmeans clustering. For reproducibility, set the random state for your model to 42. "
   ]
  },
  {
   "cell_type": "code",
   "execution_count": 17,
   "id": "1195c509-c539-492f-8096-84c2e83e101f",
   "metadata": {},
   "outputs": [
    {
     "data": {
      "text/html": [
       "<style>#sk-container-id-1 {\n",
       "  /* Definition of color scheme common for light and dark mode */\n",
       "  --sklearn-color-text: #000;\n",
       "  --sklearn-color-text-muted: #666;\n",
       "  --sklearn-color-line: gray;\n",
       "  /* Definition of color scheme for unfitted estimators */\n",
       "  --sklearn-color-unfitted-level-0: #fff5e6;\n",
       "  --sklearn-color-unfitted-level-1: #f6e4d2;\n",
       "  --sklearn-color-unfitted-level-2: #ffe0b3;\n",
       "  --sklearn-color-unfitted-level-3: chocolate;\n",
       "  /* Definition of color scheme for fitted estimators */\n",
       "  --sklearn-color-fitted-level-0: #f0f8ff;\n",
       "  --sklearn-color-fitted-level-1: #d4ebff;\n",
       "  --sklearn-color-fitted-level-2: #b3dbfd;\n",
       "  --sklearn-color-fitted-level-3: cornflowerblue;\n",
       "\n",
       "  /* Specific color for light theme */\n",
       "  --sklearn-color-text-on-default-background: var(--sg-text-color, var(--theme-code-foreground, var(--jp-content-font-color1, black)));\n",
       "  --sklearn-color-background: var(--sg-background-color, var(--theme-background, var(--jp-layout-color0, white)));\n",
       "  --sklearn-color-border-box: var(--sg-text-color, var(--theme-code-foreground, var(--jp-content-font-color1, black)));\n",
       "  --sklearn-color-icon: #696969;\n",
       "\n",
       "  @media (prefers-color-scheme: dark) {\n",
       "    /* Redefinition of color scheme for dark theme */\n",
       "    --sklearn-color-text-on-default-background: var(--sg-text-color, var(--theme-code-foreground, var(--jp-content-font-color1, white)));\n",
       "    --sklearn-color-background: var(--sg-background-color, var(--theme-background, var(--jp-layout-color0, #111)));\n",
       "    --sklearn-color-border-box: var(--sg-text-color, var(--theme-code-foreground, var(--jp-content-font-color1, white)));\n",
       "    --sklearn-color-icon: #878787;\n",
       "  }\n",
       "}\n",
       "\n",
       "#sk-container-id-1 {\n",
       "  color: var(--sklearn-color-text);\n",
       "}\n",
       "\n",
       "#sk-container-id-1 pre {\n",
       "  padding: 0;\n",
       "}\n",
       "\n",
       "#sk-container-id-1 input.sk-hidden--visually {\n",
       "  border: 0;\n",
       "  clip: rect(1px 1px 1px 1px);\n",
       "  clip: rect(1px, 1px, 1px, 1px);\n",
       "  height: 1px;\n",
       "  margin: -1px;\n",
       "  overflow: hidden;\n",
       "  padding: 0;\n",
       "  position: absolute;\n",
       "  width: 1px;\n",
       "}\n",
       "\n",
       "#sk-container-id-1 div.sk-dashed-wrapped {\n",
       "  border: 1px dashed var(--sklearn-color-line);\n",
       "  margin: 0 0.4em 0.5em 0.4em;\n",
       "  box-sizing: border-box;\n",
       "  padding-bottom: 0.4em;\n",
       "  background-color: var(--sklearn-color-background);\n",
       "}\n",
       "\n",
       "#sk-container-id-1 div.sk-container {\n",
       "  /* jupyter's `normalize.less` sets `[hidden] { display: none; }`\n",
       "     but bootstrap.min.css set `[hidden] { display: none !important; }`\n",
       "     so we also need the `!important` here to be able to override the\n",
       "     default hidden behavior on the sphinx rendered scikit-learn.org.\n",
       "     See: https://github.com/scikit-learn/scikit-learn/issues/21755 */\n",
       "  display: inline-block !important;\n",
       "  position: relative;\n",
       "}\n",
       "\n",
       "#sk-container-id-1 div.sk-text-repr-fallback {\n",
       "  display: none;\n",
       "}\n",
       "\n",
       "div.sk-parallel-item,\n",
       "div.sk-serial,\n",
       "div.sk-item {\n",
       "  /* draw centered vertical line to link estimators */\n",
       "  background-image: linear-gradient(var(--sklearn-color-text-on-default-background), var(--sklearn-color-text-on-default-background));\n",
       "  background-size: 2px 100%;\n",
       "  background-repeat: no-repeat;\n",
       "  background-position: center center;\n",
       "}\n",
       "\n",
       "/* Parallel-specific style estimator block */\n",
       "\n",
       "#sk-container-id-1 div.sk-parallel-item::after {\n",
       "  content: \"\";\n",
       "  width: 100%;\n",
       "  border-bottom: 2px solid var(--sklearn-color-text-on-default-background);\n",
       "  flex-grow: 1;\n",
       "}\n",
       "\n",
       "#sk-container-id-1 div.sk-parallel {\n",
       "  display: flex;\n",
       "  align-items: stretch;\n",
       "  justify-content: center;\n",
       "  background-color: var(--sklearn-color-background);\n",
       "  position: relative;\n",
       "}\n",
       "\n",
       "#sk-container-id-1 div.sk-parallel-item {\n",
       "  display: flex;\n",
       "  flex-direction: column;\n",
       "}\n",
       "\n",
       "#sk-container-id-1 div.sk-parallel-item:first-child::after {\n",
       "  align-self: flex-end;\n",
       "  width: 50%;\n",
       "}\n",
       "\n",
       "#sk-container-id-1 div.sk-parallel-item:last-child::after {\n",
       "  align-self: flex-start;\n",
       "  width: 50%;\n",
       "}\n",
       "\n",
       "#sk-container-id-1 div.sk-parallel-item:only-child::after {\n",
       "  width: 0;\n",
       "}\n",
       "\n",
       "/* Serial-specific style estimator block */\n",
       "\n",
       "#sk-container-id-1 div.sk-serial {\n",
       "  display: flex;\n",
       "  flex-direction: column;\n",
       "  align-items: center;\n",
       "  background-color: var(--sklearn-color-background);\n",
       "  padding-right: 1em;\n",
       "  padding-left: 1em;\n",
       "}\n",
       "\n",
       "\n",
       "/* Toggleable style: style used for estimator/Pipeline/ColumnTransformer box that is\n",
       "clickable and can be expanded/collapsed.\n",
       "- Pipeline and ColumnTransformer use this feature and define the default style\n",
       "- Estimators will overwrite some part of the style using the `sk-estimator` class\n",
       "*/\n",
       "\n",
       "/* Pipeline and ColumnTransformer style (default) */\n",
       "\n",
       "#sk-container-id-1 div.sk-toggleable {\n",
       "  /* Default theme specific background. It is overwritten whether we have a\n",
       "  specific estimator or a Pipeline/ColumnTransformer */\n",
       "  background-color: var(--sklearn-color-background);\n",
       "}\n",
       "\n",
       "/* Toggleable label */\n",
       "#sk-container-id-1 label.sk-toggleable__label {\n",
       "  cursor: pointer;\n",
       "  display: flex;\n",
       "  width: 100%;\n",
       "  margin-bottom: 0;\n",
       "  padding: 0.5em;\n",
       "  box-sizing: border-box;\n",
       "  text-align: center;\n",
       "  align-items: start;\n",
       "  justify-content: space-between;\n",
       "  gap: 0.5em;\n",
       "}\n",
       "\n",
       "#sk-container-id-1 label.sk-toggleable__label .caption {\n",
       "  font-size: 0.6rem;\n",
       "  font-weight: lighter;\n",
       "  color: var(--sklearn-color-text-muted);\n",
       "}\n",
       "\n",
       "#sk-container-id-1 label.sk-toggleable__label-arrow:before {\n",
       "  /* Arrow on the left of the label */\n",
       "  content: \"▸\";\n",
       "  float: left;\n",
       "  margin-right: 0.25em;\n",
       "  color: var(--sklearn-color-icon);\n",
       "}\n",
       "\n",
       "#sk-container-id-1 label.sk-toggleable__label-arrow:hover:before {\n",
       "  color: var(--sklearn-color-text);\n",
       "}\n",
       "\n",
       "/* Toggleable content - dropdown */\n",
       "\n",
       "#sk-container-id-1 div.sk-toggleable__content {\n",
       "  max-height: 0;\n",
       "  max-width: 0;\n",
       "  overflow: hidden;\n",
       "  text-align: left;\n",
       "  /* unfitted */\n",
       "  background-color: var(--sklearn-color-unfitted-level-0);\n",
       "}\n",
       "\n",
       "#sk-container-id-1 div.sk-toggleable__content.fitted {\n",
       "  /* fitted */\n",
       "  background-color: var(--sklearn-color-fitted-level-0);\n",
       "}\n",
       "\n",
       "#sk-container-id-1 div.sk-toggleable__content pre {\n",
       "  margin: 0.2em;\n",
       "  border-radius: 0.25em;\n",
       "  color: var(--sklearn-color-text);\n",
       "  /* unfitted */\n",
       "  background-color: var(--sklearn-color-unfitted-level-0);\n",
       "}\n",
       "\n",
       "#sk-container-id-1 div.sk-toggleable__content.fitted pre {\n",
       "  /* unfitted */\n",
       "  background-color: var(--sklearn-color-fitted-level-0);\n",
       "}\n",
       "\n",
       "#sk-container-id-1 input.sk-toggleable__control:checked~div.sk-toggleable__content {\n",
       "  /* Expand drop-down */\n",
       "  max-height: 200px;\n",
       "  max-width: 100%;\n",
       "  overflow: auto;\n",
       "}\n",
       "\n",
       "#sk-container-id-1 input.sk-toggleable__control:checked~label.sk-toggleable__label-arrow:before {\n",
       "  content: \"▾\";\n",
       "}\n",
       "\n",
       "/* Pipeline/ColumnTransformer-specific style */\n",
       "\n",
       "#sk-container-id-1 div.sk-label input.sk-toggleable__control:checked~label.sk-toggleable__label {\n",
       "  color: var(--sklearn-color-text);\n",
       "  background-color: var(--sklearn-color-unfitted-level-2);\n",
       "}\n",
       "\n",
       "#sk-container-id-1 div.sk-label.fitted input.sk-toggleable__control:checked~label.sk-toggleable__label {\n",
       "  background-color: var(--sklearn-color-fitted-level-2);\n",
       "}\n",
       "\n",
       "/* Estimator-specific style */\n",
       "\n",
       "/* Colorize estimator box */\n",
       "#sk-container-id-1 div.sk-estimator input.sk-toggleable__control:checked~label.sk-toggleable__label {\n",
       "  /* unfitted */\n",
       "  background-color: var(--sklearn-color-unfitted-level-2);\n",
       "}\n",
       "\n",
       "#sk-container-id-1 div.sk-estimator.fitted input.sk-toggleable__control:checked~label.sk-toggleable__label {\n",
       "  /* fitted */\n",
       "  background-color: var(--sklearn-color-fitted-level-2);\n",
       "}\n",
       "\n",
       "#sk-container-id-1 div.sk-label label.sk-toggleable__label,\n",
       "#sk-container-id-1 div.sk-label label {\n",
       "  /* The background is the default theme color */\n",
       "  color: var(--sklearn-color-text-on-default-background);\n",
       "}\n",
       "\n",
       "/* On hover, darken the color of the background */\n",
       "#sk-container-id-1 div.sk-label:hover label.sk-toggleable__label {\n",
       "  color: var(--sklearn-color-text);\n",
       "  background-color: var(--sklearn-color-unfitted-level-2);\n",
       "}\n",
       "\n",
       "/* Label box, darken color on hover, fitted */\n",
       "#sk-container-id-1 div.sk-label.fitted:hover label.sk-toggleable__label.fitted {\n",
       "  color: var(--sklearn-color-text);\n",
       "  background-color: var(--sklearn-color-fitted-level-2);\n",
       "}\n",
       "\n",
       "/* Estimator label */\n",
       "\n",
       "#sk-container-id-1 div.sk-label label {\n",
       "  font-family: monospace;\n",
       "  font-weight: bold;\n",
       "  display: inline-block;\n",
       "  line-height: 1.2em;\n",
       "}\n",
       "\n",
       "#sk-container-id-1 div.sk-label-container {\n",
       "  text-align: center;\n",
       "}\n",
       "\n",
       "/* Estimator-specific */\n",
       "#sk-container-id-1 div.sk-estimator {\n",
       "  font-family: monospace;\n",
       "  border: 1px dotted var(--sklearn-color-border-box);\n",
       "  border-radius: 0.25em;\n",
       "  box-sizing: border-box;\n",
       "  margin-bottom: 0.5em;\n",
       "  /* unfitted */\n",
       "  background-color: var(--sklearn-color-unfitted-level-0);\n",
       "}\n",
       "\n",
       "#sk-container-id-1 div.sk-estimator.fitted {\n",
       "  /* fitted */\n",
       "  background-color: var(--sklearn-color-fitted-level-0);\n",
       "}\n",
       "\n",
       "/* on hover */\n",
       "#sk-container-id-1 div.sk-estimator:hover {\n",
       "  /* unfitted */\n",
       "  background-color: var(--sklearn-color-unfitted-level-2);\n",
       "}\n",
       "\n",
       "#sk-container-id-1 div.sk-estimator.fitted:hover {\n",
       "  /* fitted */\n",
       "  background-color: var(--sklearn-color-fitted-level-2);\n",
       "}\n",
       "\n",
       "/* Specification for estimator info (e.g. \"i\" and \"?\") */\n",
       "\n",
       "/* Common style for \"i\" and \"?\" */\n",
       "\n",
       ".sk-estimator-doc-link,\n",
       "a:link.sk-estimator-doc-link,\n",
       "a:visited.sk-estimator-doc-link {\n",
       "  float: right;\n",
       "  font-size: smaller;\n",
       "  line-height: 1em;\n",
       "  font-family: monospace;\n",
       "  background-color: var(--sklearn-color-background);\n",
       "  border-radius: 1em;\n",
       "  height: 1em;\n",
       "  width: 1em;\n",
       "  text-decoration: none !important;\n",
       "  margin-left: 0.5em;\n",
       "  text-align: center;\n",
       "  /* unfitted */\n",
       "  border: var(--sklearn-color-unfitted-level-1) 1pt solid;\n",
       "  color: var(--sklearn-color-unfitted-level-1);\n",
       "}\n",
       "\n",
       ".sk-estimator-doc-link.fitted,\n",
       "a:link.sk-estimator-doc-link.fitted,\n",
       "a:visited.sk-estimator-doc-link.fitted {\n",
       "  /* fitted */\n",
       "  border: var(--sklearn-color-fitted-level-1) 1pt solid;\n",
       "  color: var(--sklearn-color-fitted-level-1);\n",
       "}\n",
       "\n",
       "/* On hover */\n",
       "div.sk-estimator:hover .sk-estimator-doc-link:hover,\n",
       ".sk-estimator-doc-link:hover,\n",
       "div.sk-label-container:hover .sk-estimator-doc-link:hover,\n",
       ".sk-estimator-doc-link:hover {\n",
       "  /* unfitted */\n",
       "  background-color: var(--sklearn-color-unfitted-level-3);\n",
       "  color: var(--sklearn-color-background);\n",
       "  text-decoration: none;\n",
       "}\n",
       "\n",
       "div.sk-estimator.fitted:hover .sk-estimator-doc-link.fitted:hover,\n",
       ".sk-estimator-doc-link.fitted:hover,\n",
       "div.sk-label-container:hover .sk-estimator-doc-link.fitted:hover,\n",
       ".sk-estimator-doc-link.fitted:hover {\n",
       "  /* fitted */\n",
       "  background-color: var(--sklearn-color-fitted-level-3);\n",
       "  color: var(--sklearn-color-background);\n",
       "  text-decoration: none;\n",
       "}\n",
       "\n",
       "/* Span, style for the box shown on hovering the info icon */\n",
       ".sk-estimator-doc-link span {\n",
       "  display: none;\n",
       "  z-index: 9999;\n",
       "  position: relative;\n",
       "  font-weight: normal;\n",
       "  right: .2ex;\n",
       "  padding: .5ex;\n",
       "  margin: .5ex;\n",
       "  width: min-content;\n",
       "  min-width: 20ex;\n",
       "  max-width: 50ex;\n",
       "  color: var(--sklearn-color-text);\n",
       "  box-shadow: 2pt 2pt 4pt #999;\n",
       "  /* unfitted */\n",
       "  background: var(--sklearn-color-unfitted-level-0);\n",
       "  border: .5pt solid var(--sklearn-color-unfitted-level-3);\n",
       "}\n",
       "\n",
       ".sk-estimator-doc-link.fitted span {\n",
       "  /* fitted */\n",
       "  background: var(--sklearn-color-fitted-level-0);\n",
       "  border: var(--sklearn-color-fitted-level-3);\n",
       "}\n",
       "\n",
       ".sk-estimator-doc-link:hover span {\n",
       "  display: block;\n",
       "}\n",
       "\n",
       "/* \"?\"-specific style due to the `<a>` HTML tag */\n",
       "\n",
       "#sk-container-id-1 a.estimator_doc_link {\n",
       "  float: right;\n",
       "  font-size: 1rem;\n",
       "  line-height: 1em;\n",
       "  font-family: monospace;\n",
       "  background-color: var(--sklearn-color-background);\n",
       "  border-radius: 1rem;\n",
       "  height: 1rem;\n",
       "  width: 1rem;\n",
       "  text-decoration: none;\n",
       "  /* unfitted */\n",
       "  color: var(--sklearn-color-unfitted-level-1);\n",
       "  border: var(--sklearn-color-unfitted-level-1) 1pt solid;\n",
       "}\n",
       "\n",
       "#sk-container-id-1 a.estimator_doc_link.fitted {\n",
       "  /* fitted */\n",
       "  border: var(--sklearn-color-fitted-level-1) 1pt solid;\n",
       "  color: var(--sklearn-color-fitted-level-1);\n",
       "}\n",
       "\n",
       "/* On hover */\n",
       "#sk-container-id-1 a.estimator_doc_link:hover {\n",
       "  /* unfitted */\n",
       "  background-color: var(--sklearn-color-unfitted-level-3);\n",
       "  color: var(--sklearn-color-background);\n",
       "  text-decoration: none;\n",
       "}\n",
       "\n",
       "#sk-container-id-1 a.estimator_doc_link.fitted:hover {\n",
       "  /* fitted */\n",
       "  background-color: var(--sklearn-color-fitted-level-3);\n",
       "}\n",
       "</style><div id=\"sk-container-id-1\" class=\"sk-top-container\"><div class=\"sk-text-repr-fallback\"><pre>Pipeline(steps=[(&#x27;standardscaler&#x27;, StandardScaler()),\n",
       "                (&#x27;kmeans&#x27;, KMeans(n_clusters=4, random_state=42))])</pre><b>In a Jupyter environment, please rerun this cell to show the HTML representation or trust the notebook. <br />On GitHub, the HTML representation is unable to render, please try loading this page with nbviewer.org.</b></div><div class=\"sk-container\" hidden><div class=\"sk-item sk-dashed-wrapped\"><div class=\"sk-label-container\"><div class=\"sk-label fitted sk-toggleable\"><input class=\"sk-toggleable__control sk-hidden--visually\" id=\"sk-estimator-id-1\" type=\"checkbox\" ><label for=\"sk-estimator-id-1\" class=\"sk-toggleable__label fitted sk-toggleable__label-arrow\"><div><div>Pipeline</div></div><div><a class=\"sk-estimator-doc-link fitted\" rel=\"noreferrer\" target=\"_blank\" href=\"https://scikit-learn.org/1.6/modules/generated/sklearn.pipeline.Pipeline.html\">?<span>Documentation for Pipeline</span></a><span class=\"sk-estimator-doc-link fitted\">i<span>Fitted</span></span></div></label><div class=\"sk-toggleable__content fitted\"><pre>Pipeline(steps=[(&#x27;standardscaler&#x27;, StandardScaler()),\n",
       "                (&#x27;kmeans&#x27;, KMeans(n_clusters=4, random_state=42))])</pre></div> </div></div><div class=\"sk-serial\"><div class=\"sk-item\"><div class=\"sk-estimator fitted sk-toggleable\"><input class=\"sk-toggleable__control sk-hidden--visually\" id=\"sk-estimator-id-2\" type=\"checkbox\" ><label for=\"sk-estimator-id-2\" class=\"sk-toggleable__label fitted sk-toggleable__label-arrow\"><div><div>StandardScaler</div></div><div><a class=\"sk-estimator-doc-link fitted\" rel=\"noreferrer\" target=\"_blank\" href=\"https://scikit-learn.org/1.6/modules/generated/sklearn.preprocessing.StandardScaler.html\">?<span>Documentation for StandardScaler</span></a></div></label><div class=\"sk-toggleable__content fitted\"><pre>StandardScaler()</pre></div> </div></div><div class=\"sk-item\"><div class=\"sk-estimator fitted sk-toggleable\"><input class=\"sk-toggleable__control sk-hidden--visually\" id=\"sk-estimator-id-3\" type=\"checkbox\" ><label for=\"sk-estimator-id-3\" class=\"sk-toggleable__label fitted sk-toggleable__label-arrow\"><div><div>KMeans</div></div><div><a class=\"sk-estimator-doc-link fitted\" rel=\"noreferrer\" target=\"_blank\" href=\"https://scikit-learn.org/1.6/modules/generated/sklearn.cluster.KMeans.html\">?<span>Documentation for KMeans</span></a></div></label><div class=\"sk-toggleable__content fitted\"><pre>KMeans(n_clusters=4, random_state=42)</pre></div> </div></div></div></div></div></div>"
      ],
      "text/plain": [
       "Pipeline(steps=[('standardscaler', StandardScaler()),\n",
       "                ('kmeans', KMeans(n_clusters=4, random_state=42))])"
      ]
     },
     "execution_count": 17,
     "metadata": {},
     "output_type": "execute_result"
    }
   ],
   "source": [
    "final_model = make_pipeline(\n",
    "    StandardScaler(), KMeans(n_clusters=4, random_state=42))\n",
    "\n",
    "final_model.fit(X)"
   ]
  },
  {
   "cell_type": "markdown",
   "id": "75fb035b-5f7a-465c-9079-c2739a9bdf26",
   "metadata": {},
   "source": [
    "# Communicate"
   ]
  },
  {
   "cell_type": "markdown",
   "id": "ebaa27b4-4cb2-4f0f-a222-ab760168f6b2",
   "metadata": {},
   "source": [
    "Now it's the time share your work! "
   ]
  },
  {
   "cell_type": "markdown",
   "id": "ab139d09-4a48-44c7-9f6e-d55d9ecf672f",
   "metadata": {},
   "source": [
    "#### Task 6.5.17\n",
    "Access the cluster labels from your trained final_model pipeline. Then group the standardized feature set X by these labels and compute the mean of each feature for every cluster. Store the result in a DataFrame named xgb."
   ]
  },
  {
   "cell_type": "code",
   "execution_count": 18,
   "id": "86fb6130-b6d9-4c2f-9b4f-46204b100acd",
   "metadata": {},
   "outputs": [
    {
     "data": {
      "text/html": [
       "<div>\n",
       "<style scoped>\n",
       "    .dataframe tbody tr th:only-of-type {\n",
       "        vertical-align: middle;\n",
       "    }\n",
       "\n",
       "    .dataframe tbody tr th {\n",
       "        vertical-align: top;\n",
       "    }\n",
       "\n",
       "    .dataframe thead th {\n",
       "        text-align: right;\n",
       "    }\n",
       "</style>\n",
       "<table border=\"1\" class=\"dataframe\">\n",
       "  <thead>\n",
       "    <tr style=\"text-align: right;\">\n",
       "      <th></th>\n",
       "      <th>BUS</th>\n",
       "      <th>NHNFIN</th>\n",
       "      <th>NFIN</th>\n",
       "      <th>NETWORTH</th>\n",
       "      <th>ASSET</th>\n",
       "    </tr>\n",
       "  </thead>\n",
       "  <tbody>\n",
       "    <tr>\n",
       "      <th>0</th>\n",
       "      <td>4.497673e+05</td>\n",
       "      <td>7.647058e+05</td>\n",
       "      <td>1.117192e+06</td>\n",
       "      <td>1.572432e+06</td>\n",
       "      <td>1.785395e+06</td>\n",
       "    </tr>\n",
       "    <tr>\n",
       "      <th>1</th>\n",
       "      <td>7.903614e+07</td>\n",
       "      <td>1.107909e+08</td>\n",
       "      <td>1.086599e+08</td>\n",
       "      <td>1.364957e+08</td>\n",
       "      <td>1.409950e+08</td>\n",
       "    </tr>\n",
       "    <tr>\n",
       "      <th>2</th>\n",
       "      <td>5.899181e+06</td>\n",
       "      <td>9.129588e+06</td>\n",
       "      <td>9.828339e+06</td>\n",
       "      <td>1.199142e+07</td>\n",
       "      <td>1.266813e+07</td>\n",
       "    </tr>\n",
       "    <tr>\n",
       "      <th>3</th>\n",
       "      <td>2.659238e+07</td>\n",
       "      <td>3.384027e+07</td>\n",
       "      <td>3.196646e+07</td>\n",
       "      <td>4.376968e+07</td>\n",
       "      <td>4.515401e+07</td>\n",
       "    </tr>\n",
       "  </tbody>\n",
       "</table>\n",
       "</div>"
      ],
      "text/plain": [
       "            BUS        NHNFIN          NFIN      NETWORTH         ASSET\n",
       "0  4.497673e+05  7.647058e+05  1.117192e+06  1.572432e+06  1.785395e+06\n",
       "1  7.903614e+07  1.107909e+08  1.086599e+08  1.364957e+08  1.409950e+08\n",
       "2  5.899181e+06  9.129588e+06  9.828339e+06  1.199142e+07  1.266813e+07\n",
       "3  2.659238e+07  3.384027e+07  3.196646e+07  4.376968e+07  4.515401e+07"
      ]
     },
     "execution_count": 18,
     "metadata": {},
     "output_type": "execute_result"
    }
   ],
   "source": [
    "labels = final_model.named_steps[\"kmeans\"].labels_\n",
    "xgb = X.groupby(labels).mean()\n",
    "xgb"
   ]
  },
  {
   "cell_type": "markdown",
   "id": "a879a50d-6b93-4213-8cb0-daa6bc3ca8a7",
   "metadata": {},
   "source": [
    "As usual, make a visualization with the DataFrame."
   ]
  },
  {
   "cell_type": "markdown",
   "id": "906bdb83-06ac-4ccb-9588-e903cf6ab69d",
   "metadata": {},
   "source": [
    "#### Task 6.5.18\n",
    "Use plotly.express to create a side-by-side grouped bar chart that visualizes the values in the DataFrame xgb. Label your axes appropiately and add title."
   ]
  },
  {
   "cell_type": "code",
   "execution_count": 19,
   "id": "8a8569be-9de4-4bc0-9ad5-aa6e59ac7a4c",
   "metadata": {},
   "outputs": [
    {
     "data": {
      "application/vnd.plotly.v1+json": {
       "config": {
        "plotlyServerURL": "https://plot.ly"
       },
       "data": [
        {
         "alignmentgroup": "True",
         "hovertemplate": "variable=BUS<br>index=%{x}<br>value=%{y}<extra></extra>",
         "legendgroup": "BUS",
         "marker": {
          "color": "#636efa",
          "pattern": {
           "shape": ""
          }
         },
         "name": "BUS",
         "offsetgroup": "BUS",
         "orientation": "v",
         "showlegend": true,
         "textposition": "auto",
         "type": "bar",
         "x": {
          "bdata": "AAAAAAEAAAACAAAAAwAAAA==",
          "dtype": "i4"
         },
         "xaxis": "x",
         "y": {
          "bdata": "HOQmXJ1zG0GR7TC5+9eSQfV9pTbrgFZB96I550dceUE=",
          "dtype": "f8"
         },
         "yaxis": "y"
        },
        {
         "alignmentgroup": "True",
         "hovertemplate": "variable=NHNFIN<br>index=%{x}<br>value=%{y}<extra></extra>",
         "legendgroup": "NHNFIN",
         "marker": {
          "color": "#EF553B",
          "pattern": {
           "shape": ""
          }
         },
         "name": "NHNFIN",
         "offsetgroup": "NHNFIN",
         "orientation": "v",
         "showlegend": true,
         "textposition": "auto",
         "type": "bar",
         "x": {
          "bdata": "AAAAAAEAAAACAAAAAwAAAA==",
          "dtype": "i4"
         },
         "xaxis": "x",
         "y": {
          "bdata": "ug1HpENWJ0EOLU5fJGqaQWI+tY7OaWFBmC3yauQigEE=",
          "dtype": "f8"
         },
         "yaxis": "y"
        },
        {
         "alignmentgroup": "True",
         "hovertemplate": "variable=NFIN<br>index=%{x}<br>value=%{y}<extra></extra>",
         "legendgroup": "NFIN",
         "marker": {
          "color": "#00cc96",
          "pattern": {
           "shape": ""
          }
         },
         "name": "NFIN",
         "offsetgroup": "NFIN",
         "orientation": "v",
         "showlegend": true,
         "textposition": "auto",
         "type": "bar",
         "x": {
          "bdata": "AAAAAAEAAAACAAAAAwAAAA==",
          "dtype": "i4"
         },
         "xaxis": "x",
         "y": {
          "bdata": "WiaU+QcMMUFzaGmWE+iZQeglkVD+vmJBSTNpo098fkE=",
          "dtype": "f8"
         },
         "yaxis": "y"
        },
        {
         "alignmentgroup": "True",
         "hovertemplate": "variable=NETWORTH<br>index=%{x}<br>value=%{y}<extra></extra>",
         "legendgroup": "NETWORTH",
         "marker": {
          "color": "#ab63fa",
          "pattern": {
           "shape": ""
          }
         },
         "name": "NETWORTH",
         "offsetgroup": "NETWORTH",
         "orientation": "v",
         "showlegend": true,
         "textposition": "auto",
         "type": "bar",
         "x": {
          "bdata": "AAAAAAEAAAACAAAAAwAAAA==",
          "dtype": "i4"
         },
         "xaxis": "x",
         "y": {
          "bdata": "UrP/nE/+N0GsHJIJhUWgQVLFcJsv32ZBzYm7j/rehEE=",
          "dtype": "f8"
         },
         "yaxis": "y"
        },
        {
         "alignmentgroup": "True",
         "hovertemplate": "variable=ASSET<br>index=%{x}<br>value=%{y}<extra></extra>",
         "legendgroup": "ASSET",
         "marker": {
          "color": "#FFA15A",
          "pattern": {
           "shape": ""
          }
         },
         "name": "ASSET",
         "offsetgroup": "ASSET",
         "orientation": "v",
         "showlegend": true,
         "textposition": "auto",
         "type": "bar",
         "x": {
          "bdata": "AAAAAAEAAAACAAAAAwAAAA==",
          "dtype": "i4"
         },
         "xaxis": "x",
         "y": {
          "bdata": "I7bjQzM+O0EnMVCI086gQcxr6rmcKWhB76Y+4PaHhUE=",
          "dtype": "f8"
         },
         "yaxis": "y"
        }
       ],
       "layout": {
        "barmode": "group",
        "legend": {
         "title": {
          "text": "variable"
         },
         "tracegroupgap": 0
        },
        "template": {
         "data": {
          "bar": [
           {
            "error_x": {
             "color": "#2a3f5f"
            },
            "error_y": {
             "color": "#2a3f5f"
            },
            "marker": {
             "line": {
              "color": "#E5ECF6",
              "width": 0.5
             },
             "pattern": {
              "fillmode": "overlay",
              "size": 10,
              "solidity": 0.2
             }
            },
            "type": "bar"
           }
          ],
          "barpolar": [
           {
            "marker": {
             "line": {
              "color": "#E5ECF6",
              "width": 0.5
             },
             "pattern": {
              "fillmode": "overlay",
              "size": 10,
              "solidity": 0.2
             }
            },
            "type": "barpolar"
           }
          ],
          "carpet": [
           {
            "aaxis": {
             "endlinecolor": "#2a3f5f",
             "gridcolor": "white",
             "linecolor": "white",
             "minorgridcolor": "white",
             "startlinecolor": "#2a3f5f"
            },
            "baxis": {
             "endlinecolor": "#2a3f5f",
             "gridcolor": "white",
             "linecolor": "white",
             "minorgridcolor": "white",
             "startlinecolor": "#2a3f5f"
            },
            "type": "carpet"
           }
          ],
          "choropleth": [
           {
            "colorbar": {
             "outlinewidth": 0,
             "ticks": ""
            },
            "type": "choropleth"
           }
          ],
          "contour": [
           {
            "colorbar": {
             "outlinewidth": 0,
             "ticks": ""
            },
            "colorscale": [
             [
              0,
              "#0d0887"
             ],
             [
              0.1111111111111111,
              "#46039f"
             ],
             [
              0.2222222222222222,
              "#7201a8"
             ],
             [
              0.3333333333333333,
              "#9c179e"
             ],
             [
              0.4444444444444444,
              "#bd3786"
             ],
             [
              0.5555555555555556,
              "#d8576b"
             ],
             [
              0.6666666666666666,
              "#ed7953"
             ],
             [
              0.7777777777777778,
              "#fb9f3a"
             ],
             [
              0.8888888888888888,
              "#fdca26"
             ],
             [
              1,
              "#f0f921"
             ]
            ],
            "type": "contour"
           }
          ],
          "contourcarpet": [
           {
            "colorbar": {
             "outlinewidth": 0,
             "ticks": ""
            },
            "type": "contourcarpet"
           }
          ],
          "heatmap": [
           {
            "colorbar": {
             "outlinewidth": 0,
             "ticks": ""
            },
            "colorscale": [
             [
              0,
              "#0d0887"
             ],
             [
              0.1111111111111111,
              "#46039f"
             ],
             [
              0.2222222222222222,
              "#7201a8"
             ],
             [
              0.3333333333333333,
              "#9c179e"
             ],
             [
              0.4444444444444444,
              "#bd3786"
             ],
             [
              0.5555555555555556,
              "#d8576b"
             ],
             [
              0.6666666666666666,
              "#ed7953"
             ],
             [
              0.7777777777777778,
              "#fb9f3a"
             ],
             [
              0.8888888888888888,
              "#fdca26"
             ],
             [
              1,
              "#f0f921"
             ]
            ],
            "type": "heatmap"
           }
          ],
          "histogram": [
           {
            "marker": {
             "pattern": {
              "fillmode": "overlay",
              "size": 10,
              "solidity": 0.2
             }
            },
            "type": "histogram"
           }
          ],
          "histogram2d": [
           {
            "colorbar": {
             "outlinewidth": 0,
             "ticks": ""
            },
            "colorscale": [
             [
              0,
              "#0d0887"
             ],
             [
              0.1111111111111111,
              "#46039f"
             ],
             [
              0.2222222222222222,
              "#7201a8"
             ],
             [
              0.3333333333333333,
              "#9c179e"
             ],
             [
              0.4444444444444444,
              "#bd3786"
             ],
             [
              0.5555555555555556,
              "#d8576b"
             ],
             [
              0.6666666666666666,
              "#ed7953"
             ],
             [
              0.7777777777777778,
              "#fb9f3a"
             ],
             [
              0.8888888888888888,
              "#fdca26"
             ],
             [
              1,
              "#f0f921"
             ]
            ],
            "type": "histogram2d"
           }
          ],
          "histogram2dcontour": [
           {
            "colorbar": {
             "outlinewidth": 0,
             "ticks": ""
            },
            "colorscale": [
             [
              0,
              "#0d0887"
             ],
             [
              0.1111111111111111,
              "#46039f"
             ],
             [
              0.2222222222222222,
              "#7201a8"
             ],
             [
              0.3333333333333333,
              "#9c179e"
             ],
             [
              0.4444444444444444,
              "#bd3786"
             ],
             [
              0.5555555555555556,
              "#d8576b"
             ],
             [
              0.6666666666666666,
              "#ed7953"
             ],
             [
              0.7777777777777778,
              "#fb9f3a"
             ],
             [
              0.8888888888888888,
              "#fdca26"
             ],
             [
              1,
              "#f0f921"
             ]
            ],
            "type": "histogram2dcontour"
           }
          ],
          "mesh3d": [
           {
            "colorbar": {
             "outlinewidth": 0,
             "ticks": ""
            },
            "type": "mesh3d"
           }
          ],
          "parcoords": [
           {
            "line": {
             "colorbar": {
              "outlinewidth": 0,
              "ticks": ""
             }
            },
            "type": "parcoords"
           }
          ],
          "pie": [
           {
            "automargin": true,
            "type": "pie"
           }
          ],
          "scatter": [
           {
            "fillpattern": {
             "fillmode": "overlay",
             "size": 10,
             "solidity": 0.2
            },
            "type": "scatter"
           }
          ],
          "scatter3d": [
           {
            "line": {
             "colorbar": {
              "outlinewidth": 0,
              "ticks": ""
             }
            },
            "marker": {
             "colorbar": {
              "outlinewidth": 0,
              "ticks": ""
             }
            },
            "type": "scatter3d"
           }
          ],
          "scattercarpet": [
           {
            "marker": {
             "colorbar": {
              "outlinewidth": 0,
              "ticks": ""
             }
            },
            "type": "scattercarpet"
           }
          ],
          "scattergeo": [
           {
            "marker": {
             "colorbar": {
              "outlinewidth": 0,
              "ticks": ""
             }
            },
            "type": "scattergeo"
           }
          ],
          "scattergl": [
           {
            "marker": {
             "colorbar": {
              "outlinewidth": 0,
              "ticks": ""
             }
            },
            "type": "scattergl"
           }
          ],
          "scattermap": [
           {
            "marker": {
             "colorbar": {
              "outlinewidth": 0,
              "ticks": ""
             }
            },
            "type": "scattermap"
           }
          ],
          "scattermapbox": [
           {
            "marker": {
             "colorbar": {
              "outlinewidth": 0,
              "ticks": ""
             }
            },
            "type": "scattermapbox"
           }
          ],
          "scatterpolar": [
           {
            "marker": {
             "colorbar": {
              "outlinewidth": 0,
              "ticks": ""
             }
            },
            "type": "scatterpolar"
           }
          ],
          "scatterpolargl": [
           {
            "marker": {
             "colorbar": {
              "outlinewidth": 0,
              "ticks": ""
             }
            },
            "type": "scatterpolargl"
           }
          ],
          "scatterternary": [
           {
            "marker": {
             "colorbar": {
              "outlinewidth": 0,
              "ticks": ""
             }
            },
            "type": "scatterternary"
           }
          ],
          "surface": [
           {
            "colorbar": {
             "outlinewidth": 0,
             "ticks": ""
            },
            "colorscale": [
             [
              0,
              "#0d0887"
             ],
             [
              0.1111111111111111,
              "#46039f"
             ],
             [
              0.2222222222222222,
              "#7201a8"
             ],
             [
              0.3333333333333333,
              "#9c179e"
             ],
             [
              0.4444444444444444,
              "#bd3786"
             ],
             [
              0.5555555555555556,
              "#d8576b"
             ],
             [
              0.6666666666666666,
              "#ed7953"
             ],
             [
              0.7777777777777778,
              "#fb9f3a"
             ],
             [
              0.8888888888888888,
              "#fdca26"
             ],
             [
              1,
              "#f0f921"
             ]
            ],
            "type": "surface"
           }
          ],
          "table": [
           {
            "cells": {
             "fill": {
              "color": "#EBF0F8"
             },
             "line": {
              "color": "white"
             }
            },
            "header": {
             "fill": {
              "color": "#C8D4E3"
             },
             "line": {
              "color": "white"
             }
            },
            "type": "table"
           }
          ]
         },
         "layout": {
          "annotationdefaults": {
           "arrowcolor": "#2a3f5f",
           "arrowhead": 0,
           "arrowwidth": 1
          },
          "autotypenumbers": "strict",
          "coloraxis": {
           "colorbar": {
            "outlinewidth": 0,
            "ticks": ""
           }
          },
          "colorscale": {
           "diverging": [
            [
             0,
             "#8e0152"
            ],
            [
             0.1,
             "#c51b7d"
            ],
            [
             0.2,
             "#de77ae"
            ],
            [
             0.3,
             "#f1b6da"
            ],
            [
             0.4,
             "#fde0ef"
            ],
            [
             0.5,
             "#f7f7f7"
            ],
            [
             0.6,
             "#e6f5d0"
            ],
            [
             0.7,
             "#b8e186"
            ],
            [
             0.8,
             "#7fbc41"
            ],
            [
             0.9,
             "#4d9221"
            ],
            [
             1,
             "#276419"
            ]
           ],
           "sequential": [
            [
             0,
             "#0d0887"
            ],
            [
             0.1111111111111111,
             "#46039f"
            ],
            [
             0.2222222222222222,
             "#7201a8"
            ],
            [
             0.3333333333333333,
             "#9c179e"
            ],
            [
             0.4444444444444444,
             "#bd3786"
            ],
            [
             0.5555555555555556,
             "#d8576b"
            ],
            [
             0.6666666666666666,
             "#ed7953"
            ],
            [
             0.7777777777777778,
             "#fb9f3a"
            ],
            [
             0.8888888888888888,
             "#fdca26"
            ],
            [
             1,
             "#f0f921"
            ]
           ],
           "sequentialminus": [
            [
             0,
             "#0d0887"
            ],
            [
             0.1111111111111111,
             "#46039f"
            ],
            [
             0.2222222222222222,
             "#7201a8"
            ],
            [
             0.3333333333333333,
             "#9c179e"
            ],
            [
             0.4444444444444444,
             "#bd3786"
            ],
            [
             0.5555555555555556,
             "#d8576b"
            ],
            [
             0.6666666666666666,
             "#ed7953"
            ],
            [
             0.7777777777777778,
             "#fb9f3a"
            ],
            [
             0.8888888888888888,
             "#fdca26"
            ],
            [
             1,
             "#f0f921"
            ]
           ]
          },
          "colorway": [
           "#636efa",
           "#EF553B",
           "#00cc96",
           "#ab63fa",
           "#FFA15A",
           "#19d3f3",
           "#FF6692",
           "#B6E880",
           "#FF97FF",
           "#FECB52"
          ],
          "font": {
           "color": "#2a3f5f"
          },
          "geo": {
           "bgcolor": "white",
           "lakecolor": "white",
           "landcolor": "#E5ECF6",
           "showlakes": true,
           "showland": true,
           "subunitcolor": "white"
          },
          "hoverlabel": {
           "align": "left"
          },
          "hovermode": "closest",
          "mapbox": {
           "style": "light"
          },
          "paper_bgcolor": "white",
          "plot_bgcolor": "#E5ECF6",
          "polar": {
           "angularaxis": {
            "gridcolor": "white",
            "linecolor": "white",
            "ticks": ""
           },
           "bgcolor": "#E5ECF6",
           "radialaxis": {
            "gridcolor": "white",
            "linecolor": "white",
            "ticks": ""
           }
          },
          "scene": {
           "xaxis": {
            "backgroundcolor": "#E5ECF6",
            "gridcolor": "white",
            "gridwidth": 2,
            "linecolor": "white",
            "showbackground": true,
            "ticks": "",
            "zerolinecolor": "white"
           },
           "yaxis": {
            "backgroundcolor": "#E5ECF6",
            "gridcolor": "white",
            "gridwidth": 2,
            "linecolor": "white",
            "showbackground": true,
            "ticks": "",
            "zerolinecolor": "white"
           },
           "zaxis": {
            "backgroundcolor": "#E5ECF6",
            "gridcolor": "white",
            "gridwidth": 2,
            "linecolor": "white",
            "showbackground": true,
            "ticks": "",
            "zerolinecolor": "white"
           }
          },
          "shapedefaults": {
           "line": {
            "color": "#2a3f5f"
           }
          },
          "ternary": {
           "aaxis": {
            "gridcolor": "white",
            "linecolor": "white",
            "ticks": ""
           },
           "baxis": {
            "gridcolor": "white",
            "linecolor": "white",
            "ticks": ""
           },
           "bgcolor": "#E5ECF6",
           "caxis": {
            "gridcolor": "white",
            "linecolor": "white",
            "ticks": ""
           }
          },
          "title": {
           "x": 0.05
          },
          "xaxis": {
           "automargin": true,
           "gridcolor": "white",
           "linecolor": "white",
           "ticks": "",
           "title": {
            "standoff": 15
           },
           "zerolinecolor": "white",
           "zerolinewidth": 2
          },
          "yaxis": {
           "automargin": true,
           "gridcolor": "white",
           "linecolor": "white",
           "ticks": "",
           "title": {
            "standoff": 15
           },
           "zerolinecolor": "white",
           "zerolinewidth": 2
          }
         }
        },
        "title": {
         "text": "Small Business Owner Finances by Cluster"
        },
        "xaxis": {
         "anchor": "y",
         "domain": [
          0,
          1
         ],
         "title": {
          "text": "Cluster"
         }
        },
        "yaxis": {
         "anchor": "x",
         "domain": [
          0,
          1
         ],
         "title": {
          "text": "Value [$]"
         }
        }
       }
      }
     },
     "metadata": {},
     "output_type": "display_data"
    }
   ],
   "source": [
    "# Create side-by-side bar chart of `xgb`\n",
    "fig = px.bar(\n",
    "    data_frame=xgb,\n",
    "    barmode=\"group\",\n",
    "    title=\"Small Business Owner Finances by Cluster\"\n",
    ")\n",
    "\n",
    "fig.update_layout(xaxis_title=\"Cluster\", yaxis_title=\"Value [$]\")\n",
    "fig.show()"
   ]
  },
  {
   "cell_type": "markdown",
   "id": "e3a2e806-be1b-4f0e-9429-c5878ca0c9fd",
   "metadata": {},
   "source": [
    "Remember what we did with higher-dimension data last time? Apply the same thing here."
   ]
  },
  {
   "cell_type": "markdown",
   "id": "fc2536b8-f3a0-4969-a032-61390d600a20",
   "metadata": {},
   "source": [
    "#### Task 6.5.19\n",
    "Create a PCA transformer to reduce the dimensionality of the dataset X to 2 components. Apply this transformer to X and store the resulting transformed data in a DataFrame named X_pca. Name the columns of X_pca as \"PC1\" and \"PC2\"."
   ]
  },
  {
   "cell_type": "code",
   "execution_count": 20,
   "id": "9a9de6ae-2ebb-4cc8-aa98-bd7258af31bf",
   "metadata": {},
   "outputs": [
    {
     "name": "stdout",
     "output_type": "stream",
     "text": [
      "X_pca shape: (4161, 2)\n"
     ]
    },
    {
     "data": {
      "text/html": [
       "<div>\n",
       "<style scoped>\n",
       "    .dataframe tbody tr th:only-of-type {\n",
       "        vertical-align: middle;\n",
       "    }\n",
       "\n",
       "    .dataframe tbody tr th {\n",
       "        vertical-align: top;\n",
       "    }\n",
       "\n",
       "    .dataframe thead th {\n",
       "        text-align: right;\n",
       "    }\n",
       "</style>\n",
       "<table border=\"1\" class=\"dataframe\">\n",
       "  <thead>\n",
       "    <tr style=\"text-align: right;\">\n",
       "      <th></th>\n",
       "      <th>PC1</th>\n",
       "      <th>PC2</th>\n",
       "    </tr>\n",
       "  </thead>\n",
       "  <tbody>\n",
       "    <tr>\n",
       "      <th>0</th>\n",
       "      <td>-6.686449e+06</td>\n",
       "      <td>486521.529763</td>\n",
       "    </tr>\n",
       "    <tr>\n",
       "      <th>1</th>\n",
       "      <td>-6.688719e+06</td>\n",
       "      <td>486559.551389</td>\n",
       "    </tr>\n",
       "    <tr>\n",
       "      <th>2</th>\n",
       "      <td>-6.686449e+06</td>\n",
       "      <td>486521.529763</td>\n",
       "    </tr>\n",
       "    <tr>\n",
       "      <th>3</th>\n",
       "      <td>-6.691592e+06</td>\n",
       "      <td>487132.682567</td>\n",
       "    </tr>\n",
       "    <tr>\n",
       "      <th>4</th>\n",
       "      <td>-6.688117e+06</td>\n",
       "      <td>486024.441835</td>\n",
       "    </tr>\n",
       "  </tbody>\n",
       "</table>\n",
       "</div>"
      ],
      "text/plain": [
       "            PC1            PC2\n",
       "0 -6.686449e+06  486521.529763\n",
       "1 -6.688719e+06  486559.551389\n",
       "2 -6.686449e+06  486521.529763\n",
       "3 -6.691592e+06  487132.682567\n",
       "4 -6.688117e+06  486024.441835"
      ]
     },
     "execution_count": 20,
     "metadata": {},
     "output_type": "execute_result"
    }
   ],
   "source": [
    "# Instantiate transformer\n",
    "pca = PCA(n_components=2, random_state=42)\n",
    "\n",
    "# Transform `X`\n",
    "X_t = pca.fit_transform(X)\n",
    "\n",
    "# Put `X_t` into DataFrame\n",
    "X_pca = pd.DataFrame(X_t, columns=[\"PC1\", \"PC2\"])\n",
    "\n",
    "print(\"X_pca shape:\", X_pca.shape)\n",
    "X_pca.head()"
   ]
  },
  {
   "cell_type": "markdown",
   "id": "49035c41-22bd-481e-810c-4e2f3c64854c",
   "metadata": {},
   "source": [
    "#### Task 6.5.20\n",
    "Use plotly.express to create a scatter plot that visualizes the PCA-transformed data in X_pca. Color the points with labels from the model."
   ]
  },
  {
   "cell_type": "code",
   "execution_count": 21,
   "id": "81af4fb9-0340-48b4-92bb-4f0162bd08ba",
   "metadata": {},
   "outputs": [
    {
     "data": {
      "application/vnd.plotly.v1+json": {
       "config": {
        "plotlyServerURL": "https://plot.ly"
       },
       "data": [
        {
         "hovertemplate": "color=0<br>PC1=%{x}<br>PC2=%{y}<extra></extra>",
         "legendgroup": "0",
         "marker": {
          "color": "#636efa",
          "symbol": "circle"
         },
         "mode": "markers",
         "name": "0",
         "showlegend": true,
         "type": "scattergl",
         "x": {
          "bdata": "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",
          "dtype": "f8"
         },
         "xaxis": "x",
         "y": {
          "bdata": "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",
          "dtype": "f8"
         },
         "yaxis": "y"
        },
        {
         "hovertemplate": "color=2<br>PC1=%{x}<br>PC2=%{y}<extra></extra>",
         "legendgroup": "2",
         "marker": {
          "color": "#EF553B",
          "symbol": "circle"
         },
         "mode": "markers",
         "name": "2",
         "showlegend": true,
         "type": "scattergl",
         "x": {
          "bdata": "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",
          "dtype": "f8"
         },
         "xaxis": "x",
         "y": {
          "bdata": "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",
          "dtype": "f8"
         },
         "yaxis": "y"
        },
        {
         "hovertemplate": "color=1<br>PC1=%{x}<br>PC2=%{y}<extra></extra>",
         "legendgroup": "1",
         "marker": {
          "color": "#00cc96",
          "symbol": "circle"
         },
         "mode": "markers",
         "name": "1",
         "showlegend": true,
         "type": "scattergl",
         "x": {
          "bdata": "m4u4UNqCsUHydglbEsixQXD30a1BUbFBzMv/z/nNtUH+XDvzPWyzQeINJQbYUalB6A20l98WqUGYkTVRJBepQQqFKWT+5KhBnHmqtoMVqUFl4QRQ0piwQftwZsLK27FB46c4j4Q9sEGEpYLu39mlQTZKTJyAOLJBzgFHIkBwpUEWt+BTV4epQWZyON8JvatB1eZ8rTLarEFo0UY3eXisQeYJtfXPG61BHhZxqbQbrEF6o/kIHkqsQQjrOfvM3q9BgacSj2YmsEGOV8nxHBGwQYKKRqsO569BiO6ZiQuArkEykATH8H+uQdm4eNDafq5Bm0vhVZJ+rkEtajlwY4CuQQ==",
          "dtype": "f8"
         },
         "xaxis": "x",
         "y": {
          "bdata": "tMZvX35NgEHGIlo8WyyAQeO1bF7J9H5Bigm0tuH8hEGku+mAkW2BQVEXeJd54YTBVLB128fVg8FNy6XOgI6DwaPI+5NKc4PBb+n6UO0whMFCCgxc0WprwXM0D/moAVfB0qKFHU4fZcF5W41UK0d7wZMzh//ef1/BL5C1ML4lckFT+LbMzTl3QS3193lfNndBrcEhpbPNc8HN8s46/uR1wU2dyrTb1XXB0f7Jnl9Vc8HL8z+4zwRzwSXw/EuDFHrBvVdDObwIecFx2gU2aaB9wYWsSqd1lXfBTsazwnA7iUGJrK1saDmJQSRBhLFiOIlByc25eLg5iUGlekerJjeJQQ==",
          "dtype": "f8"
         },
         "yaxis": "y"
        },
        {
         "hovertemplate": "color=3<br>PC1=%{x}<br>PC2=%{y}<extra></extra>",
         "legendgroup": "3",
         "marker": {
          "color": "#ab63fa",
          "symbol": "circle"
         },
         "mode": "markers",
         "name": "3",
         "showlegend": true,
         "type": "scattergl",
         "x": {
          "bdata": "YGEOkWTUhkGwap8YvdWGQSyw7f+H04ZBS68W13/VhkEvXr/6C9SGQc3kDRnSBYhBw41MCxkGiEHuYs4miwWIQcONTAsZBohBzeQNGdIFiEGNxJflvHGJQWvnWPN1cYlB5fCtXiwCkEFrdNzq3zSQQR3uzf0p1pBBXwRcHIeJjEElYhmQOZqOQR4R9txycYlBK4OUVFY7jUGc5f7bNM+QQSDM3cNP9otBw1jbLJscjkEodj67q0eRQf9K5VgbHZBB/0rlWBsdkEG0LAXSPh2QQbQsBdI+HZBBtCwF0j4dkEHg2Zp6WPmDQaa7shrUI5hBtZ0g2RsQmEE1KcPxQxuYQRRqbrVLFphBlc+09b4VmEHozRWL6qKUQZeFNv0tjpRBWWtWuz+RlEEviDE01peUQauvLEWXlZRB1xJwi+8al0GTBJNy2xiXQRmwc/m3GJdBw6CMzS4cl0FT2BFXaRmXQUhDIjDIZZpBDi3CG+dbmkFtQuq+742aQd5hVhjedJpBLZu5D56hmkE=",
          "dtype": "f8"
         },
         "xaxis": "x",
         "y": {
          "bdata": "LbnKKNypUEFn1JO0qKBQQctLD53er1BBr4jsy1SiUEG/WuMZeKxQQRxkgDUMkD1BDKQEMOaPPUHsouQ6MpA9QQykBDDmjz1BHGSANQyQPUEXPAKw4e5fQWVAcDHr7l9BMo7CzECZY0GWW+90DudjQdRRFklY5mRBqo0SGs78YEFMo2p9iHViQX7v8zE5iWNBqhSX8XqzY0GyGKeNxI1lQSDydiEGXmNBDJTVfwozY0Ee2VQ41UtjQQCkHp7QumdBAKQentC6Z0HgY2vdy7pnQeBja93LumdB4GNr3cu6Z0GaIcKtjX5iQR25hTjQwZPBRovumorGk8E1KM609c6TwbEF3v4f15PBCkobUTLKk8HA0Wvi1MlkQaTyeYyVWmVBUOCYoChFZUHKm+4cLBdlQZzCXHjZJmVBthx1e1b+Q8Fec+lROf1DwU6TK08m/UPBjgVWlAH/Q8GWc/Nchf1DwdN1Qi9zHXZB+a/CEu0WdkHIkxm8ejN2QQ00+Xn8K3ZBpcpXsoeVckE=",
          "dtype": "f8"
         },
         "yaxis": "y"
        }
       ],
       "layout": {
        "legend": {
         "title": {
          "text": "Clusters"
         },
         "tracegroupgap": 0
        },
        "template": {
         "data": {
          "bar": [
           {
            "error_x": {
             "color": "#2a3f5f"
            },
            "error_y": {
             "color": "#2a3f5f"
            },
            "marker": {
             "line": {
              "color": "#E5ECF6",
              "width": 0.5
             },
             "pattern": {
              "fillmode": "overlay",
              "size": 10,
              "solidity": 0.2
             }
            },
            "type": "bar"
           }
          ],
          "barpolar": [
           {
            "marker": {
             "line": {
              "color": "#E5ECF6",
              "width": 0.5
             },
             "pattern": {
              "fillmode": "overlay",
              "size": 10,
              "solidity": 0.2
             }
            },
            "type": "barpolar"
           }
          ],
          "carpet": [
           {
            "aaxis": {
             "endlinecolor": "#2a3f5f",
             "gridcolor": "white",
             "linecolor": "white",
             "minorgridcolor": "white",
             "startlinecolor": "#2a3f5f"
            },
            "baxis": {
             "endlinecolor": "#2a3f5f",
             "gridcolor": "white",
             "linecolor": "white",
             "minorgridcolor": "white",
             "startlinecolor": "#2a3f5f"
            },
            "type": "carpet"
           }
          ],
          "choropleth": [
           {
            "colorbar": {
             "outlinewidth": 0,
             "ticks": ""
            },
            "type": "choropleth"
           }
          ],
          "contour": [
           {
            "colorbar": {
             "outlinewidth": 0,
             "ticks": ""
            },
            "colorscale": [
             [
              0,
              "#0d0887"
             ],
             [
              0.1111111111111111,
              "#46039f"
             ],
             [
              0.2222222222222222,
              "#7201a8"
             ],
             [
              0.3333333333333333,
              "#9c179e"
             ],
             [
              0.4444444444444444,
              "#bd3786"
             ],
             [
              0.5555555555555556,
              "#d8576b"
             ],
             [
              0.6666666666666666,
              "#ed7953"
             ],
             [
              0.7777777777777778,
              "#fb9f3a"
             ],
             [
              0.8888888888888888,
              "#fdca26"
             ],
             [
              1,
              "#f0f921"
             ]
            ],
            "type": "contour"
           }
          ],
          "contourcarpet": [
           {
            "colorbar": {
             "outlinewidth": 0,
             "ticks": ""
            },
            "type": "contourcarpet"
           }
          ],
          "heatmap": [
           {
            "colorbar": {
             "outlinewidth": 0,
             "ticks": ""
            },
            "colorscale": [
             [
              0,
              "#0d0887"
             ],
             [
              0.1111111111111111,
              "#46039f"
             ],
             [
              0.2222222222222222,
              "#7201a8"
             ],
             [
              0.3333333333333333,
              "#9c179e"
             ],
             [
              0.4444444444444444,
              "#bd3786"
             ],
             [
              0.5555555555555556,
              "#d8576b"
             ],
             [
              0.6666666666666666,
              "#ed7953"
             ],
             [
              0.7777777777777778,
              "#fb9f3a"
             ],
             [
              0.8888888888888888,
              "#fdca26"
             ],
             [
              1,
              "#f0f921"
             ]
            ],
            "type": "heatmap"
           }
          ],
          "histogram": [
           {
            "marker": {
             "pattern": {
              "fillmode": "overlay",
              "size": 10,
              "solidity": 0.2
             }
            },
            "type": "histogram"
           }
          ],
          "histogram2d": [
           {
            "colorbar": {
             "outlinewidth": 0,
             "ticks": ""
            },
            "colorscale": [
             [
              0,
              "#0d0887"
             ],
             [
              0.1111111111111111,
              "#46039f"
             ],
             [
              0.2222222222222222,
              "#7201a8"
             ],
             [
              0.3333333333333333,
              "#9c179e"
             ],
             [
              0.4444444444444444,
              "#bd3786"
             ],
             [
              0.5555555555555556,
              "#d8576b"
             ],
             [
              0.6666666666666666,
              "#ed7953"
             ],
             [
              0.7777777777777778,
              "#fb9f3a"
             ],
             [
              0.8888888888888888,
              "#fdca26"
             ],
             [
              1,
              "#f0f921"
             ]
            ],
            "type": "histogram2d"
           }
          ],
          "histogram2dcontour": [
           {
            "colorbar": {
             "outlinewidth": 0,
             "ticks": ""
            },
            "colorscale": [
             [
              0,
              "#0d0887"
             ],
             [
              0.1111111111111111,
              "#46039f"
             ],
             [
              0.2222222222222222,
              "#7201a8"
             ],
             [
              0.3333333333333333,
              "#9c179e"
             ],
             [
              0.4444444444444444,
              "#bd3786"
             ],
             [
              0.5555555555555556,
              "#d8576b"
             ],
             [
              0.6666666666666666,
              "#ed7953"
             ],
             [
              0.7777777777777778,
              "#fb9f3a"
             ],
             [
              0.8888888888888888,
              "#fdca26"
             ],
             [
              1,
              "#f0f921"
             ]
            ],
            "type": "histogram2dcontour"
           }
          ],
          "mesh3d": [
           {
            "colorbar": {
             "outlinewidth": 0,
             "ticks": ""
            },
            "type": "mesh3d"
           }
          ],
          "parcoords": [
           {
            "line": {
             "colorbar": {
              "outlinewidth": 0,
              "ticks": ""
             }
            },
            "type": "parcoords"
           }
          ],
          "pie": [
           {
            "automargin": true,
            "type": "pie"
           }
          ],
          "scatter": [
           {
            "fillpattern": {
             "fillmode": "overlay",
             "size": 10,
             "solidity": 0.2
            },
            "type": "scatter"
           }
          ],
          "scatter3d": [
           {
            "line": {
             "colorbar": {
              "outlinewidth": 0,
              "ticks": ""
             }
            },
            "marker": {
             "colorbar": {
              "outlinewidth": 0,
              "ticks": ""
             }
            },
            "type": "scatter3d"
           }
          ],
          "scattercarpet": [
           {
            "marker": {
             "colorbar": {
              "outlinewidth": 0,
              "ticks": ""
             }
            },
            "type": "scattercarpet"
           }
          ],
          "scattergeo": [
           {
            "marker": {
             "colorbar": {
              "outlinewidth": 0,
              "ticks": ""
             }
            },
            "type": "scattergeo"
           }
          ],
          "scattergl": [
           {
            "marker": {
             "colorbar": {
              "outlinewidth": 0,
              "ticks": ""
             }
            },
            "type": "scattergl"
           }
          ],
          "scattermap": [
           {
            "marker": {
             "colorbar": {
              "outlinewidth": 0,
              "ticks": ""
             }
            },
            "type": "scattermap"
           }
          ],
          "scattermapbox": [
           {
            "marker": {
             "colorbar": {
              "outlinewidth": 0,
              "ticks": ""
             }
            },
            "type": "scattermapbox"
           }
          ],
          "scatterpolar": [
           {
            "marker": {
             "colorbar": {
              "outlinewidth": 0,
              "ticks": ""
             }
            },
            "type": "scatterpolar"
           }
          ],
          "scatterpolargl": [
           {
            "marker": {
             "colorbar": {
              "outlinewidth": 0,
              "ticks": ""
             }
            },
            "type": "scatterpolargl"
           }
          ],
          "scatterternary": [
           {
            "marker": {
             "colorbar": {
              "outlinewidth": 0,
              "ticks": ""
             }
            },
            "type": "scatterternary"
           }
          ],
          "surface": [
           {
            "colorbar": {
             "outlinewidth": 0,
             "ticks": ""
            },
            "colorscale": [
             [
              0,
              "#0d0887"
             ],
             [
              0.1111111111111111,
              "#46039f"
             ],
             [
              0.2222222222222222,
              "#7201a8"
             ],
             [
              0.3333333333333333,
              "#9c179e"
             ],
             [
              0.4444444444444444,
              "#bd3786"
             ],
             [
              0.5555555555555556,
              "#d8576b"
             ],
             [
              0.6666666666666666,
              "#ed7953"
             ],
             [
              0.7777777777777778,
              "#fb9f3a"
             ],
             [
              0.8888888888888888,
              "#fdca26"
             ],
             [
              1,
              "#f0f921"
             ]
            ],
            "type": "surface"
           }
          ],
          "table": [
           {
            "cells": {
             "fill": {
              "color": "#EBF0F8"
             },
             "line": {
              "color": "white"
             }
            },
            "header": {
             "fill": {
              "color": "#C8D4E3"
             },
             "line": {
              "color": "white"
             }
            },
            "type": "table"
           }
          ]
         },
         "layout": {
          "annotationdefaults": {
           "arrowcolor": "#2a3f5f",
           "arrowhead": 0,
           "arrowwidth": 1
          },
          "autotypenumbers": "strict",
          "coloraxis": {
           "colorbar": {
            "outlinewidth": 0,
            "ticks": ""
           }
          },
          "colorscale": {
           "diverging": [
            [
             0,
             "#8e0152"
            ],
            [
             0.1,
             "#c51b7d"
            ],
            [
             0.2,
             "#de77ae"
            ],
            [
             0.3,
             "#f1b6da"
            ],
            [
             0.4,
             "#fde0ef"
            ],
            [
             0.5,
             "#f7f7f7"
            ],
            [
             0.6,
             "#e6f5d0"
            ],
            [
             0.7,
             "#b8e186"
            ],
            [
             0.8,
             "#7fbc41"
            ],
            [
             0.9,
             "#4d9221"
            ],
            [
             1,
             "#276419"
            ]
           ],
           "sequential": [
            [
             0,
             "#0d0887"
            ],
            [
             0.1111111111111111,
             "#46039f"
            ],
            [
             0.2222222222222222,
             "#7201a8"
            ],
            [
             0.3333333333333333,
             "#9c179e"
            ],
            [
             0.4444444444444444,
             "#bd3786"
            ],
            [
             0.5555555555555556,
             "#d8576b"
            ],
            [
             0.6666666666666666,
             "#ed7953"
            ],
            [
             0.7777777777777778,
             "#fb9f3a"
            ],
            [
             0.8888888888888888,
             "#fdca26"
            ],
            [
             1,
             "#f0f921"
            ]
           ],
           "sequentialminus": [
            [
             0,
             "#0d0887"
            ],
            [
             0.1111111111111111,
             "#46039f"
            ],
            [
             0.2222222222222222,
             "#7201a8"
            ],
            [
             0.3333333333333333,
             "#9c179e"
            ],
            [
             0.4444444444444444,
             "#bd3786"
            ],
            [
             0.5555555555555556,
             "#d8576b"
            ],
            [
             0.6666666666666666,
             "#ed7953"
            ],
            [
             0.7777777777777778,
             "#fb9f3a"
            ],
            [
             0.8888888888888888,
             "#fdca26"
            ],
            [
             1,
             "#f0f921"
            ]
           ]
          },
          "colorway": [
           "#636efa",
           "#EF553B",
           "#00cc96",
           "#ab63fa",
           "#FFA15A",
           "#19d3f3",
           "#FF6692",
           "#B6E880",
           "#FF97FF",
           "#FECB52"
          ],
          "font": {
           "color": "#2a3f5f"
          },
          "geo": {
           "bgcolor": "white",
           "lakecolor": "white",
           "landcolor": "#E5ECF6",
           "showlakes": true,
           "showland": true,
           "subunitcolor": "white"
          },
          "hoverlabel": {
           "align": "left"
          },
          "hovermode": "closest",
          "mapbox": {
           "style": "light"
          },
          "paper_bgcolor": "white",
          "plot_bgcolor": "#E5ECF6",
          "polar": {
           "angularaxis": {
            "gridcolor": "white",
            "linecolor": "white",
            "ticks": ""
           },
           "bgcolor": "#E5ECF6",
           "radialaxis": {
            "gridcolor": "white",
            "linecolor": "white",
            "ticks": ""
           }
          },
          "scene": {
           "xaxis": {
            "backgroundcolor": "#E5ECF6",
            "gridcolor": "white",
            "gridwidth": 2,
            "linecolor": "white",
            "showbackground": true,
            "ticks": "",
            "zerolinecolor": "white"
           },
           "yaxis": {
            "backgroundcolor": "#E5ECF6",
            "gridcolor": "white",
            "gridwidth": 2,
            "linecolor": "white",
            "showbackground": true,
            "ticks": "",
            "zerolinecolor": "white"
           },
           "zaxis": {
            "backgroundcolor": "#E5ECF6",
            "gridcolor": "white",
            "gridwidth": 2,
            "linecolor": "white",
            "showbackground": true,
            "ticks": "",
            "zerolinecolor": "white"
           }
          },
          "shapedefaults": {
           "line": {
            "color": "#2a3f5f"
           }
          },
          "ternary": {
           "aaxis": {
            "gridcolor": "white",
            "linecolor": "white",
            "ticks": ""
           },
           "baxis": {
            "gridcolor": "white",
            "linecolor": "white",
            "ticks": ""
           },
           "bgcolor": "#E5ECF6",
           "caxis": {
            "gridcolor": "white",
            "linecolor": "white",
            "ticks": ""
           }
          },
          "title": {
           "x": 0.05
          },
          "xaxis": {
           "automargin": true,
           "gridcolor": "white",
           "linecolor": "white",
           "ticks": "",
           "title": {
            "standoff": 15
           },
           "zerolinecolor": "white",
           "zerolinewidth": 2
          },
          "yaxis": {
           "automargin": true,
           "gridcolor": "white",
           "linecolor": "white",
           "ticks": "",
           "title": {
            "standoff": 15
           },
           "zerolinecolor": "white",
           "zerolinewidth": 2
          }
         }
        },
        "title": {
         "text": "PCA Representation of Clusters"
        },
        "xaxis": {
         "anchor": "y",
         "domain": [
          0,
          1
         ],
         "title": {
          "text": "PC1"
         }
        },
        "yaxis": {
         "anchor": "x",
         "domain": [
          0,
          1
         ],
         "title": {
          "text": "PC2"
         }
        }
       }
      }
     },
     "metadata": {},
     "output_type": "display_data"
    }
   ],
   "source": [
    "# Create scatter plot of `PC2` vs `PC1`\n",
    "fig = px.scatter(\n",
    "    data_frame=X_pca, x=\"PC1\", y=\"PC2\", \n",
    "    color=labels.astype(str),\n",
    "    title=\"PCA Representation of Clusters\"\n",
    ")\n",
    "\n",
    "fig.update_layout(xaxis_title=\"PC1\", yaxis_title=\"PC2\", legend_title_text=\"Clusters\")\n",
    "\n",
    "fig.show()"
   ]
  },
  {
   "cell_type": "markdown",
   "id": "ffabfc6d-ec1e-4de9-b40e-71339c887256",
   "metadata": {},
   "source": [
    "You've built your KMeans model, it's time to show and display it on an interactive Dash web. Now proceed to the next part of this project."
   ]
  }
 ],
 "metadata": {
  "kernelspec": {
   "display_name": "Python 3 (ipykernel)",
   "language": "python",
   "name": "python3"
  },
  "language_info": {
   "codemirror_mode": {
    "name": "ipython",
    "version": 3
   },
   "file_extension": ".py",
   "mimetype": "text/x-python",
   "name": "python",
   "nbconvert_exporter": "python",
   "pygments_lexer": "ipython3",
   "version": "3.13.2"
  }
 },
 "nbformat": 4,
 "nbformat_minor": 5
}
