{
 "cells": [
  {
   "cell_type": "markdown",
   "id": "550fd85f-b77a-457b-926f-b44eafd9e51b",
   "metadata": {},
   "source": [
    "<font size=\"+3\"><strong>6.5. Small Business Owners in the United States🇺🇸</strong></font>"
   ]
  },
  {
   "cell_type": "markdown",
   "id": "f2ee36cc-6b75-4ed9-82de-48190f4732c3",
   "metadata": {},
   "source": [
    "### Welcome to the Clustering Credit-Challenged Households Using SCF 2019 Data Project!"
   ]
  },
  {
   "cell_type": "markdown",
   "id": "5c4007b5-8e6d-4309-8ba2-da2593e7a16a",
   "metadata": {},
   "source": [
    "In the previous part, you built a model based on the highest-variance features of small business owners in the dataset and created several visualizations to communicate your results. In this part, you're going to combine all of these elements into a dynamic web application that will allow users to choose their own features, build a model, and evaluate its performance through a graphical user interface. In other words, you'll create a tool that will allow anyone to build a model without code. "
   ]
  },
  {
   "cell_type": "markdown",
   "id": "2809ef68-99e0-48d6-a8e7-2e135c553d23",
   "metadata": {},
   "source": [
    "**2. Interactive Dash web:** You'll build a dash web by creating functions for each part of the model and use decorator to display it on your web."
   ]
  },
  {
   "cell_type": "markdown",
   "id": "72025843-b4a1-4393-91e3-d6f18a596f78",
   "metadata": {},
   "source": [
    "`NOTE:` Each function have a docstring which will guide you what the function should contain."
   ]
  },
  {
   "cell_type": "code",
   "execution_count": 5,
   "id": "4195058f-0ad0-407e-96c5-dee0a5bac27c",
   "metadata": {},
   "outputs": [],
   "source": [
    "# Import libraries \n",
    "import pandas as pd\n",
    "import plotly.express as px\n",
    "\n",
    "from scipy.stats.mstats import trimmed_var\n",
    "from sklearn.cluster import KMeans\n",
    "from sklearn.decomposition import PCA\n",
    "from sklearn.metrics import silhouette_score\n",
    "from sklearn.pipeline import make_pipeline\n",
    "from sklearn.preprocessing import StandardScaler\n",
    "\n",
    "from dash import Dash, Input, Output, dcc, html\n",
    "\n",
    "import warnings\n",
    "warnings.simplefilter(action=\"ignore\", category=FutureWarning)\n",
    "warnings.filterwarnings(\"ignore\", category=DeprecationWarning)"
   ]
  },
  {
   "cell_type": "markdown",
   "id": "d7368d1d-04c3-44f7-9d95-b4494b71e91e",
   "metadata": {},
   "source": [
    "# Prepare Data"
   ]
  },
  {
   "cell_type": "markdown",
   "id": "a3288bcc-fc84-4bbb-83c1-f5bb6c5ed745",
   "metadata": {},
   "source": [
    "## Import"
   ]
  },
  {
   "cell_type": "markdown",
   "id": "c9a0ad20-f2cc-4689-97fc-768d9d3a729f",
   "metadata": {},
   "source": [
    "#### Task 6.5.1 \n",
    "Create wrangle function using the docstring as a guide. Then use your function to read the file \"SCFP2019.csv.gz\" into a DataFrame. "
   ]
  },
  {
   "cell_type": "code",
   "execution_count": 6,
   "id": "bddad8a1-2b5b-4ba6-9fd4-8a9bbd5fd877",
   "metadata": {},
   "outputs": [],
   "source": [
    "def wrangle(filepath):  \n",
    "    \"\"\"Read SCF data file into ``DataFrame``.\n",
    "\n",
    "    Returns only small business owners whose income is less than $500_000.\n",
    "\n",
    "    Parameters\n",
    "    ----------\n",
    "    filepath : str\n",
    "        Location of CSV file.\n",
    "    \"\"\"\n",
    "\n",
    "    # read the compressed csv into a dataframe\n",
    "    df = pd.read_csv(filepath)\n",
    "\n",
    "    mask = (df[\"HBUS\"] == 1 ) & (df[\"INCOME\"] < 5e5 )\n",
    "\n",
    "    #  subset the dataframe\n",
    "    df = df[mask]\n",
    "    \n",
    "    return df"
   ]
  },
  {
   "cell_type": "code",
   "execution_count": 7,
   "id": "49d73f7e-b665-4506-8f36-bc8eaf023a1b",
   "metadata": {},
   "outputs": [
    {
     "name": "stdout",
     "output_type": "stream",
     "text": [
      "df type: <class 'pandas.core.frame.DataFrame'>\n",
      "df shape: (4161, 357)\n"
     ]
    },
    {
     "data": {
      "text/html": [
       "<div>\n",
       "<style scoped>\n",
       "    .dataframe tbody tr th:only-of-type {\n",
       "        vertical-align: middle;\n",
       "    }\n",
       "\n",
       "    .dataframe tbody tr th {\n",
       "        vertical-align: top;\n",
       "    }\n",
       "\n",
       "    .dataframe thead th {\n",
       "        text-align: right;\n",
       "    }\n",
       "</style>\n",
       "<table border=\"1\" class=\"dataframe\">\n",
       "  <thead>\n",
       "    <tr style=\"text-align: right;\">\n",
       "      <th></th>\n",
       "      <th>YY1</th>\n",
       "      <th>Y1</th>\n",
       "      <th>WGT</th>\n",
       "      <th>HHSEX</th>\n",
       "      <th>AGE</th>\n",
       "      <th>AGECL</th>\n",
       "      <th>EDUC</th>\n",
       "      <th>EDCL</th>\n",
       "      <th>MARRIED</th>\n",
       "      <th>KIDS</th>\n",
       "      <th>...</th>\n",
       "      <th>NWCAT</th>\n",
       "      <th>INCCAT</th>\n",
       "      <th>ASSETCAT</th>\n",
       "      <th>NINCCAT</th>\n",
       "      <th>NINC2CAT</th>\n",
       "      <th>NWPCTLECAT</th>\n",
       "      <th>INCPCTLECAT</th>\n",
       "      <th>NINCPCTLECAT</th>\n",
       "      <th>INCQRTCAT</th>\n",
       "      <th>NINCQRTCAT</th>\n",
       "    </tr>\n",
       "  </thead>\n",
       "  <tbody>\n",
       "    <tr>\n",
       "      <th>80</th>\n",
       "      <td>17</td>\n",
       "      <td>171</td>\n",
       "      <td>7802.265717</td>\n",
       "      <td>1</td>\n",
       "      <td>62</td>\n",
       "      <td>4</td>\n",
       "      <td>12</td>\n",
       "      <td>4</td>\n",
       "      <td>1</td>\n",
       "      <td>0</td>\n",
       "      <td>...</td>\n",
       "      <td>3</td>\n",
       "      <td>5</td>\n",
       "      <td>5</td>\n",
       "      <td>5</td>\n",
       "      <td>2</td>\n",
       "      <td>7</td>\n",
       "      <td>9</td>\n",
       "      <td>9</td>\n",
       "      <td>4</td>\n",
       "      <td>4</td>\n",
       "    </tr>\n",
       "    <tr>\n",
       "      <th>81</th>\n",
       "      <td>17</td>\n",
       "      <td>172</td>\n",
       "      <td>8247.536301</td>\n",
       "      <td>1</td>\n",
       "      <td>62</td>\n",
       "      <td>4</td>\n",
       "      <td>12</td>\n",
       "      <td>4</td>\n",
       "      <td>1</td>\n",
       "      <td>0</td>\n",
       "      <td>...</td>\n",
       "      <td>3</td>\n",
       "      <td>5</td>\n",
       "      <td>5</td>\n",
       "      <td>5</td>\n",
       "      <td>2</td>\n",
       "      <td>7</td>\n",
       "      <td>9</td>\n",
       "      <td>9</td>\n",
       "      <td>4</td>\n",
       "      <td>4</td>\n",
       "    </tr>\n",
       "    <tr>\n",
       "      <th>82</th>\n",
       "      <td>17</td>\n",
       "      <td>173</td>\n",
       "      <td>8169.562719</td>\n",
       "      <td>1</td>\n",
       "      <td>62</td>\n",
       "      <td>4</td>\n",
       "      <td>12</td>\n",
       "      <td>4</td>\n",
       "      <td>1</td>\n",
       "      <td>0</td>\n",
       "      <td>...</td>\n",
       "      <td>3</td>\n",
       "      <td>5</td>\n",
       "      <td>5</td>\n",
       "      <td>5</td>\n",
       "      <td>2</td>\n",
       "      <td>7</td>\n",
       "      <td>9</td>\n",
       "      <td>9</td>\n",
       "      <td>4</td>\n",
       "      <td>4</td>\n",
       "    </tr>\n",
       "    <tr>\n",
       "      <th>83</th>\n",
       "      <td>17</td>\n",
       "      <td>174</td>\n",
       "      <td>8087.704517</td>\n",
       "      <td>1</td>\n",
       "      <td>62</td>\n",
       "      <td>4</td>\n",
       "      <td>12</td>\n",
       "      <td>4</td>\n",
       "      <td>1</td>\n",
       "      <td>0</td>\n",
       "      <td>...</td>\n",
       "      <td>3</td>\n",
       "      <td>5</td>\n",
       "      <td>5</td>\n",
       "      <td>5</td>\n",
       "      <td>2</td>\n",
       "      <td>7</td>\n",
       "      <td>9</td>\n",
       "      <td>9</td>\n",
       "      <td>4</td>\n",
       "      <td>4</td>\n",
       "    </tr>\n",
       "    <tr>\n",
       "      <th>84</th>\n",
       "      <td>17</td>\n",
       "      <td>175</td>\n",
       "      <td>8276.510048</td>\n",
       "      <td>1</td>\n",
       "      <td>62</td>\n",
       "      <td>4</td>\n",
       "      <td>12</td>\n",
       "      <td>4</td>\n",
       "      <td>1</td>\n",
       "      <td>0</td>\n",
       "      <td>...</td>\n",
       "      <td>3</td>\n",
       "      <td>5</td>\n",
       "      <td>5</td>\n",
       "      <td>5</td>\n",
       "      <td>2</td>\n",
       "      <td>7</td>\n",
       "      <td>9</td>\n",
       "      <td>9</td>\n",
       "      <td>4</td>\n",
       "      <td>4</td>\n",
       "    </tr>\n",
       "  </tbody>\n",
       "</table>\n",
       "<p>5 rows × 357 columns</p>\n",
       "</div>"
      ],
      "text/plain": [
       "    YY1   Y1          WGT  HHSEX  AGE  AGECL  EDUC  EDCL  MARRIED  KIDS  ...  \\\n",
       "80   17  171  7802.265717      1   62      4    12     4        1     0  ...   \n",
       "81   17  172  8247.536301      1   62      4    12     4        1     0  ...   \n",
       "82   17  173  8169.562719      1   62      4    12     4        1     0  ...   \n",
       "83   17  174  8087.704517      1   62      4    12     4        1     0  ...   \n",
       "84   17  175  8276.510048      1   62      4    12     4        1     0  ...   \n",
       "\n",
       "    NWCAT  INCCAT  ASSETCAT  NINCCAT  NINC2CAT  NWPCTLECAT  INCPCTLECAT  \\\n",
       "80      3       5         5        5         2           7            9   \n",
       "81      3       5         5        5         2           7            9   \n",
       "82      3       5         5        5         2           7            9   \n",
       "83      3       5         5        5         2           7            9   \n",
       "84      3       5         5        5         2           7            9   \n",
       "\n",
       "    NINCPCTLECAT  INCQRTCAT  NINCQRTCAT  \n",
       "80             9          4           4  \n",
       "81             9          4           4  \n",
       "82             9          4           4  \n",
       "83             9          4           4  \n",
       "84             9          4           4  \n",
       "\n",
       "[5 rows x 357 columns]"
      ]
     },
     "execution_count": 7,
     "metadata": {},
     "output_type": "execute_result"
    }
   ],
   "source": [
    "df = wrangle(\"data/SCFP2019.csv.gz\")\n",
    "\n",
    "print(\"df type:\", type(df))\n",
    "print(\"df shape:\", df.shape)\n",
    "df.head()"
   ]
  },
  {
   "cell_type": "markdown",
   "id": "9cd4a6f2-465b-4e6d-9688-4b698373c359",
   "metadata": {},
   "source": [
    "# Build Dashboard"
   ]
  },
  {
   "cell_type": "markdown",
   "id": "e014d2e8-65d9-4fdf-9b2c-0d97c8a64c37",
   "metadata": {},
   "source": [
    "## Application Layout"
   ]
  },
  {
   "cell_type": "markdown",
   "id": "01cd37ce-2bc1-440b-8b30-0112f79c557b",
   "metadata": {},
   "source": [
    "#### Task 6.5.2 \n",
    "Instantiate a Dash application and assign it to the variable name app."
   ]
  },
  {
   "cell_type": "code",
   "execution_count": 8,
   "id": "5264592e-3bff-445e-b979-3ac4a17925e0",
   "metadata": {},
   "outputs": [
    {
     "name": "stdout",
     "output_type": "stream",
     "text": [
      "app type: <class 'dash.dash.Dash'>\n"
     ]
    }
   ],
   "source": [
    "app = Dash(__name__)\n",
    "\n",
    "print(\"app type:\", type(app))"
   ]
  },
  {
   "cell_type": "markdown",
   "id": "37fa0b32-fe09-4de2-ae17-4529ef60b4c2",
   "metadata": {},
   "source": [
    "#### Task 6.5.3 \n",
    "Start building the layout of your app by creating a Div object that has two child objects: an H1 header that reads \"Small Business Owners\" and an H2 header that reads \"High Variance Features\"."
   ]
  },
  {
   "cell_type": "code",
   "execution_count": 9,
   "id": "927d5513-a02e-40aa-8270-fa36377d1d62",
   "metadata": {},
   "outputs": [],
   "source": [
    "app.layout = html.Div(\n",
    "    [\n",
    "        # Application title\n",
    "        html.H1(\"Small Business Owners\"),\n",
    "        # Bar chart elements\n",
    "        html.H2(\"High Variance Features\"),\n",
    "\n",
    "        # Add bar chart\n",
    "        dcc.Graph(id=\"bar-chart\"),\n",
    "        dcc.RadioItems(\n",
    "            options=[\n",
    "                {\"label\": \"trimmed\", \"value\":True},\n",
    "                {\"label\": \"not trimmed\", \"value\": False}\n",
    "            ],\n",
    "            value=True,\n",
    "            id=\"trim-button\"\n",
    "        ),\n",
    "        html.H2(\"K-means Clustering\"),\n",
    "        html.H3(\"Number of clusters (k)\"),\n",
    "        dcc.Slider(min=2, max=12, step=1, value=2, id=\"k-slider\"),\n",
    "        html.Div(id=\"metrics\"),\n",
    "        # PCA scatter plot\n",
    "        dcc.Graph(id=\"pca_scatter\")\n",
    "        \n",
    "    ]\n",
    ")"
   ]
  },
  {
   "cell_type": "markdown",
   "id": "3633c170-a608-4578-a05f-e50f1c33619c",
   "metadata": {},
   "source": [
    "## Variance Bar Chart"
   ]
  },
  {
   "cell_type": "markdown",
   "id": "f9bfb144-379c-473d-a713-c5af9f35eac5",
   "metadata": {},
   "source": [
    "#### Task 6.5.4 \n",
    "Add a Graph object to your application's layout. Be sure to give it the id \"bar-chart\" \n",
    "\n",
    "Create a get_high_var_features function that returns the five highest-variance features in a DataFrame. Use the docstring for guidance. "
   ]
  },
  {
   "cell_type": "code",
   "execution_count": 10,
   "id": "111693b7-a7e1-4113-92f2-a20c121edee3",
   "metadata": {},
   "outputs": [],
   "source": [
    "def get_high_var_features(trimmed=True, return_feat_names=True): \n",
    "    \"\"\"Returns the five highest-variance features of ``df``.\n",
    "\n",
    "    Parameters\n",
    "    ----------\n",
    "    trimmed : bool, default=True\n",
    "        If ``True``, calculates trimmed variance, removing bottom and top 10%\n",
    "        of observations.\n",
    "\n",
    "    return_feat_names : bool, default=False\n",
    "        If ``True``, returns feature names as a ``list``. If ``False``\n",
    "        returns ``Series``, where index is feature names and values are\n",
    "        variances.\n",
    "    \"\"\"\n",
    "\n",
    "    # calculate the variance\n",
    "    if trimmed:\n",
    "        top_five_features = df.apply(trimmed_var).sort_values().tail(5)\n",
    "\n",
    "    else:\n",
    "        top_five_features = df.var().sort_values().tail(5)\n",
    "\n",
    "    # Extract feature names\n",
    "    if return_feat_names:\n",
    "        top_five_features = top_five_features.index.tolist()\n",
    "    \n",
    "    return top_five_features"
   ]
  },
  {
   "cell_type": "code",
   "execution_count": 11,
   "id": "4356cfd1-a576-460c-991d-39e35a41ea14",
   "metadata": {},
   "outputs": [
    {
     "data": {
      "text/plain": [
       "KGTOTAL     7.454386e+13\n",
       "NFIN        1.149004e+14\n",
       "NHNFIN      1.196403e+14\n",
       "NETWORTH    1.796109e+14\n",
       "ASSET       1.928282e+14\n",
       "dtype: float64"
      ]
     },
     "execution_count": 11,
     "metadata": {},
     "output_type": "execute_result"
    }
   ],
   "source": [
    "get_high_var_features(return_feat_names=False, trimmed=False)"
   ]
  },
  {
   "cell_type": "markdown",
   "id": "80e93f9e-bbd1-4e3b-80b8-6d207d55f6e3",
   "metadata": {},
   "source": [
    "Now that you have the top five features, use a function to return them in a bar chart."
   ]
  },
  {
   "cell_type": "markdown",
   "id": "430c2324-1c3f-47b4-99f5-b5719e639e16",
   "metadata": {},
   "source": [
    "#### Task 6.5.5\n",
    "Create a serve_bar_chart function that returns a plotly express bar chart of the five highest-variance features. You should use get_high_var_features as a helper function. Follow the docstring for guidance."
   ]
  },
  {
   "cell_type": "code",
   "execution_count": 12,
   "id": "224cf46c-f1bc-4263-9f95-575c156302a0",
   "metadata": {},
   "outputs": [],
   "source": [
    "@app.callback(\n",
    "    Output(\"bar-chart\", \"figure\"), Input(\"trim-button\", \"value\")\n",
    ")\n",
    "\n",
    "def serve_bar_chart(trimmed=True): \n",
    "    \"\"\"Returns a horizontal bar chart of five highest-variance features.\n",
    "\n",
    "    Parameters\n",
    "    ----------\n",
    "    trimmed : bool, default=True\n",
    "        If ``True``, calculates trimmed variance, removing bottom and top 10%\n",
    "        of observations.\n",
    "    \"\"\"\n",
    "\n",
    "    # Get features\n",
    "    top_five_feature = get_high_var_features(trimmed=trimmed, return_feat_names=False)\n",
    "\n",
    "    # Build bar chart\n",
    "    fig = px.bar(x=top_five_feature, y=top_five_feature.index, orientation=\"h\")\n",
    "    fig.update_layout(xaxis_title=\"Variance\", yaxis_title=\"Feature\")\n",
    "    \n",
    "    return fig"
   ]
  },
  {
   "cell_type": "code",
   "execution_count": 13,
   "id": "b708e763-08a7-4e5e-a3df-816cf84cb393",
   "metadata": {},
   "outputs": [
    {
     "data": {
      "application/vnd.plotly.v1+json": {
       "config": {
        "plotlyServerURL": "https://plot.ly"
       },
       "data": [
        {
         "hovertemplate": "x=%{x}<br>y=%{y}<extra></extra>",
         "legendgroup": "",
         "marker": {
          "color": "#636efa",
          "pattern": {
           "shape": ""
          }
         },
         "name": "",
         "orientation": "h",
         "showlegend": false,
         "textposition": "auto",
         "type": "bar",
         "x": {
          "bdata": "Wfb0mgcsZUIrW7Hbnq94QveYWhGPLn5COn+KmCoDjkIPs7ZF+jOQQg==",
          "dtype": "f8"
         },
         "xaxis": "x",
         "y": [
          "BUS",
          "NHNFIN",
          "NFIN",
          "NETWORTH",
          "ASSET"
         ],
         "yaxis": "y"
        }
       ],
       "layout": {
        "barmode": "relative",
        "legend": {
         "tracegroupgap": 0
        },
        "margin": {
         "t": 60
        },
        "template": {
         "data": {
          "bar": [
           {
            "error_x": {
             "color": "#2a3f5f"
            },
            "error_y": {
             "color": "#2a3f5f"
            },
            "marker": {
             "line": {
              "color": "#E5ECF6",
              "width": 0.5
             },
             "pattern": {
              "fillmode": "overlay",
              "size": 10,
              "solidity": 0.2
             }
            },
            "type": "bar"
           }
          ],
          "barpolar": [
           {
            "marker": {
             "line": {
              "color": "#E5ECF6",
              "width": 0.5
             },
             "pattern": {
              "fillmode": "overlay",
              "size": 10,
              "solidity": 0.2
             }
            },
            "type": "barpolar"
           }
          ],
          "carpet": [
           {
            "aaxis": {
             "endlinecolor": "#2a3f5f",
             "gridcolor": "white",
             "linecolor": "white",
             "minorgridcolor": "white",
             "startlinecolor": "#2a3f5f"
            },
            "baxis": {
             "endlinecolor": "#2a3f5f",
             "gridcolor": "white",
             "linecolor": "white",
             "minorgridcolor": "white",
             "startlinecolor": "#2a3f5f"
            },
            "type": "carpet"
           }
          ],
          "choropleth": [
           {
            "colorbar": {
             "outlinewidth": 0,
             "ticks": ""
            },
            "type": "choropleth"
           }
          ],
          "contour": [
           {
            "colorbar": {
             "outlinewidth": 0,
             "ticks": ""
            },
            "colorscale": [
             [
              0,
              "#0d0887"
             ],
             [
              0.1111111111111111,
              "#46039f"
             ],
             [
              0.2222222222222222,
              "#7201a8"
             ],
             [
              0.3333333333333333,
              "#9c179e"
             ],
             [
              0.4444444444444444,
              "#bd3786"
             ],
             [
              0.5555555555555556,
              "#d8576b"
             ],
             [
              0.6666666666666666,
              "#ed7953"
             ],
             [
              0.7777777777777778,
              "#fb9f3a"
             ],
             [
              0.8888888888888888,
              "#fdca26"
             ],
             [
              1,
              "#f0f921"
             ]
            ],
            "type": "contour"
           }
          ],
          "contourcarpet": [
           {
            "colorbar": {
             "outlinewidth": 0,
             "ticks": ""
            },
            "type": "contourcarpet"
           }
          ],
          "heatmap": [
           {
            "colorbar": {
             "outlinewidth": 0,
             "ticks": ""
            },
            "colorscale": [
             [
              0,
              "#0d0887"
             ],
             [
              0.1111111111111111,
              "#46039f"
             ],
             [
              0.2222222222222222,
              "#7201a8"
             ],
             [
              0.3333333333333333,
              "#9c179e"
             ],
             [
              0.4444444444444444,
              "#bd3786"
             ],
             [
              0.5555555555555556,
              "#d8576b"
             ],
             [
              0.6666666666666666,
              "#ed7953"
             ],
             [
              0.7777777777777778,
              "#fb9f3a"
             ],
             [
              0.8888888888888888,
              "#fdca26"
             ],
             [
              1,
              "#f0f921"
             ]
            ],
            "type": "heatmap"
           }
          ],
          "histogram": [
           {
            "marker": {
             "pattern": {
              "fillmode": "overlay",
              "size": 10,
              "solidity": 0.2
             }
            },
            "type": "histogram"
           }
          ],
          "histogram2d": [
           {
            "colorbar": {
             "outlinewidth": 0,
             "ticks": ""
            },
            "colorscale": [
             [
              0,
              "#0d0887"
             ],
             [
              0.1111111111111111,
              "#46039f"
             ],
             [
              0.2222222222222222,
              "#7201a8"
             ],
             [
              0.3333333333333333,
              "#9c179e"
             ],
             [
              0.4444444444444444,
              "#bd3786"
             ],
             [
              0.5555555555555556,
              "#d8576b"
             ],
             [
              0.6666666666666666,
              "#ed7953"
             ],
             [
              0.7777777777777778,
              "#fb9f3a"
             ],
             [
              0.8888888888888888,
              "#fdca26"
             ],
             [
              1,
              "#f0f921"
             ]
            ],
            "type": "histogram2d"
           }
          ],
          "histogram2dcontour": [
           {
            "colorbar": {
             "outlinewidth": 0,
             "ticks": ""
            },
            "colorscale": [
             [
              0,
              "#0d0887"
             ],
             [
              0.1111111111111111,
              "#46039f"
             ],
             [
              0.2222222222222222,
              "#7201a8"
             ],
             [
              0.3333333333333333,
              "#9c179e"
             ],
             [
              0.4444444444444444,
              "#bd3786"
             ],
             [
              0.5555555555555556,
              "#d8576b"
             ],
             [
              0.6666666666666666,
              "#ed7953"
             ],
             [
              0.7777777777777778,
              "#fb9f3a"
             ],
             [
              0.8888888888888888,
              "#fdca26"
             ],
             [
              1,
              "#f0f921"
             ]
            ],
            "type": "histogram2dcontour"
           }
          ],
          "mesh3d": [
           {
            "colorbar": {
             "outlinewidth": 0,
             "ticks": ""
            },
            "type": "mesh3d"
           }
          ],
          "parcoords": [
           {
            "line": {
             "colorbar": {
              "outlinewidth": 0,
              "ticks": ""
             }
            },
            "type": "parcoords"
           }
          ],
          "pie": [
           {
            "automargin": true,
            "type": "pie"
           }
          ],
          "scatter": [
           {
            "fillpattern": {
             "fillmode": "overlay",
             "size": 10,
             "solidity": 0.2
            },
            "type": "scatter"
           }
          ],
          "scatter3d": [
           {
            "line": {
             "colorbar": {
              "outlinewidth": 0,
              "ticks": ""
             }
            },
            "marker": {
             "colorbar": {
              "outlinewidth": 0,
              "ticks": ""
             }
            },
            "type": "scatter3d"
           }
          ],
          "scattercarpet": [
           {
            "marker": {
             "colorbar": {
              "outlinewidth": 0,
              "ticks": ""
             }
            },
            "type": "scattercarpet"
           }
          ],
          "scattergeo": [
           {
            "marker": {
             "colorbar": {
              "outlinewidth": 0,
              "ticks": ""
             }
            },
            "type": "scattergeo"
           }
          ],
          "scattergl": [
           {
            "marker": {
             "colorbar": {
              "outlinewidth": 0,
              "ticks": ""
             }
            },
            "type": "scattergl"
           }
          ],
          "scattermap": [
           {
            "marker": {
             "colorbar": {
              "outlinewidth": 0,
              "ticks": ""
             }
            },
            "type": "scattermap"
           }
          ],
          "scattermapbox": [
           {
            "marker": {
             "colorbar": {
              "outlinewidth": 0,
              "ticks": ""
             }
            },
            "type": "scattermapbox"
           }
          ],
          "scatterpolar": [
           {
            "marker": {
             "colorbar": {
              "outlinewidth": 0,
              "ticks": ""
             }
            },
            "type": "scatterpolar"
           }
          ],
          "scatterpolargl": [
           {
            "marker": {
             "colorbar": {
              "outlinewidth": 0,
              "ticks": ""
             }
            },
            "type": "scatterpolargl"
           }
          ],
          "scatterternary": [
           {
            "marker": {
             "colorbar": {
              "outlinewidth": 0,
              "ticks": ""
             }
            },
            "type": "scatterternary"
           }
          ],
          "surface": [
           {
            "colorbar": {
             "outlinewidth": 0,
             "ticks": ""
            },
            "colorscale": [
             [
              0,
              "#0d0887"
             ],
             [
              0.1111111111111111,
              "#46039f"
             ],
             [
              0.2222222222222222,
              "#7201a8"
             ],
             [
              0.3333333333333333,
              "#9c179e"
             ],
             [
              0.4444444444444444,
              "#bd3786"
             ],
             [
              0.5555555555555556,
              "#d8576b"
             ],
             [
              0.6666666666666666,
              "#ed7953"
             ],
             [
              0.7777777777777778,
              "#fb9f3a"
             ],
             [
              0.8888888888888888,
              "#fdca26"
             ],
             [
              1,
              "#f0f921"
             ]
            ],
            "type": "surface"
           }
          ],
          "table": [
           {
            "cells": {
             "fill": {
              "color": "#EBF0F8"
             },
             "line": {
              "color": "white"
             }
            },
            "header": {
             "fill": {
              "color": "#C8D4E3"
             },
             "line": {
              "color": "white"
             }
            },
            "type": "table"
           }
          ]
         },
         "layout": {
          "annotationdefaults": {
           "arrowcolor": "#2a3f5f",
           "arrowhead": 0,
           "arrowwidth": 1
          },
          "autotypenumbers": "strict",
          "coloraxis": {
           "colorbar": {
            "outlinewidth": 0,
            "ticks": ""
           }
          },
          "colorscale": {
           "diverging": [
            [
             0,
             "#8e0152"
            ],
            [
             0.1,
             "#c51b7d"
            ],
            [
             0.2,
             "#de77ae"
            ],
            [
             0.3,
             "#f1b6da"
            ],
            [
             0.4,
             "#fde0ef"
            ],
            [
             0.5,
             "#f7f7f7"
            ],
            [
             0.6,
             "#e6f5d0"
            ],
            [
             0.7,
             "#b8e186"
            ],
            [
             0.8,
             "#7fbc41"
            ],
            [
             0.9,
             "#4d9221"
            ],
            [
             1,
             "#276419"
            ]
           ],
           "sequential": [
            [
             0,
             "#0d0887"
            ],
            [
             0.1111111111111111,
             "#46039f"
            ],
            [
             0.2222222222222222,
             "#7201a8"
            ],
            [
             0.3333333333333333,
             "#9c179e"
            ],
            [
             0.4444444444444444,
             "#bd3786"
            ],
            [
             0.5555555555555556,
             "#d8576b"
            ],
            [
             0.6666666666666666,
             "#ed7953"
            ],
            [
             0.7777777777777778,
             "#fb9f3a"
            ],
            [
             0.8888888888888888,
             "#fdca26"
            ],
            [
             1,
             "#f0f921"
            ]
           ],
           "sequentialminus": [
            [
             0,
             "#0d0887"
            ],
            [
             0.1111111111111111,
             "#46039f"
            ],
            [
             0.2222222222222222,
             "#7201a8"
            ],
            [
             0.3333333333333333,
             "#9c179e"
            ],
            [
             0.4444444444444444,
             "#bd3786"
            ],
            [
             0.5555555555555556,
             "#d8576b"
            ],
            [
             0.6666666666666666,
             "#ed7953"
            ],
            [
             0.7777777777777778,
             "#fb9f3a"
            ],
            [
             0.8888888888888888,
             "#fdca26"
            ],
            [
             1,
             "#f0f921"
            ]
           ]
          },
          "colorway": [
           "#636efa",
           "#EF553B",
           "#00cc96",
           "#ab63fa",
           "#FFA15A",
           "#19d3f3",
           "#FF6692",
           "#B6E880",
           "#FF97FF",
           "#FECB52"
          ],
          "font": {
           "color": "#2a3f5f"
          },
          "geo": {
           "bgcolor": "white",
           "lakecolor": "white",
           "landcolor": "#E5ECF6",
           "showlakes": true,
           "showland": true,
           "subunitcolor": "white"
          },
          "hoverlabel": {
           "align": "left"
          },
          "hovermode": "closest",
          "mapbox": {
           "style": "light"
          },
          "paper_bgcolor": "white",
          "plot_bgcolor": "#E5ECF6",
          "polar": {
           "angularaxis": {
            "gridcolor": "white",
            "linecolor": "white",
            "ticks": ""
           },
           "bgcolor": "#E5ECF6",
           "radialaxis": {
            "gridcolor": "white",
            "linecolor": "white",
            "ticks": ""
           }
          },
          "scene": {
           "xaxis": {
            "backgroundcolor": "#E5ECF6",
            "gridcolor": "white",
            "gridwidth": 2,
            "linecolor": "white",
            "showbackground": true,
            "ticks": "",
            "zerolinecolor": "white"
           },
           "yaxis": {
            "backgroundcolor": "#E5ECF6",
            "gridcolor": "white",
            "gridwidth": 2,
            "linecolor": "white",
            "showbackground": true,
            "ticks": "",
            "zerolinecolor": "white"
           },
           "zaxis": {
            "backgroundcolor": "#E5ECF6",
            "gridcolor": "white",
            "gridwidth": 2,
            "linecolor": "white",
            "showbackground": true,
            "ticks": "",
            "zerolinecolor": "white"
           }
          },
          "shapedefaults": {
           "line": {
            "color": "#2a3f5f"
           }
          },
          "ternary": {
           "aaxis": {
            "gridcolor": "white",
            "linecolor": "white",
            "ticks": ""
           },
           "baxis": {
            "gridcolor": "white",
            "linecolor": "white",
            "ticks": ""
           },
           "bgcolor": "#E5ECF6",
           "caxis": {
            "gridcolor": "white",
            "linecolor": "white",
            "ticks": ""
           }
          },
          "title": {
           "x": 0.05
          },
          "xaxis": {
           "automargin": true,
           "gridcolor": "white",
           "linecolor": "white",
           "ticks": "",
           "title": {
            "standoff": 15
           },
           "zerolinecolor": "white",
           "zerolinewidth": 2
          },
          "yaxis": {
           "automargin": true,
           "gridcolor": "white",
           "linecolor": "white",
           "ticks": "",
           "title": {
            "standoff": 15
           },
           "zerolinecolor": "white",
           "zerolinewidth": 2
          }
         }
        },
        "xaxis": {
         "anchor": "y",
         "domain": [
          0,
          1
         ],
         "title": {
          "text": "Variance"
         }
        },
        "yaxis": {
         "anchor": "x",
         "domain": [
          0,
          1
         ],
         "title": {
          "text": "Feature"
         }
        }
       }
      },
      "image/png": "[encoded data removed]"
     },
     "metadata": {},
     "output_type": "display_data"
    }
   ],
   "source": [
    "serve_bar_chart(trimmed=True)"
   ]
  },
  {
   "cell_type": "markdown",
   "id": "81195377-062f-43ad-a707-a90fc4c58550",
   "metadata": {},
   "source": [
    "#### Task 6.5.6\n"
   ]
  },
  {
   "cell_type": "markdown",
   "id": "69eef003-0875-4eb3-846d-8284edb7913a",
   "metadata": {},
   "source": [
    "Add a radio button to your application's layout. It should have two options: \"trimmed\" (which carries the value True) and \"not trimmed\" (which carries the value False). Be sure to give it the id \"trim-button\"."
   ]
  },
  {
   "cell_type": "markdown",
   "id": "6e5df078-7d2a-4f7c-b52b-d587fce7d5e1",
   "metadata": {},
   "source": [
    "#### Task 6.5.7 \n"
   ]
  },
  {
   "cell_type": "markdown",
   "id": "3e758f6b-0b26-4b9c-b474-b36f0c3cf99e",
   "metadata": {},
   "source": [
    "Add a callback decorator to your serve_bar_chart function to display the bar chart on the web. The callback input should be the value returned by \"trim-button\", and the output should be directed to \"bar-chart\"."
   ]
  },
  {
   "cell_type": "markdown",
   "id": "059cc288-cfcc-4fe8-9ceb-165b7b379e03",
   "metadata": {},
   "source": [
    "#### Task 6.5.8\n"
   ]
  },
  {
   "cell_type": "markdown",
   "id": "7bb2b5d5-4a7e-4e1a-9c78-93859b5484f4",
   "metadata": {},
   "source": [
    "## K-means Slider and Metrics"
   ]
  },
  {
   "cell_type": "markdown",
   "id": "53de35dc-3c09-45b7-aae6-21d9290ad1e2",
   "metadata": {},
   "source": [
    "Okay, so now your app has a radio button, add a slider to your  help users see what it means for the number of clusters to change. The slider should range from `2` to `12`. Be sure to give it the id `\"k-slider\"`.\n",
    "\n",
    "Again, add two text objects to your application's layout: an H2 header that reads \"K-means Clustering\" and an H3 header that reads \"Number of Clusters (k)\". "
   ]
  },
  {
   "cell_type": "markdown",
   "id": "31734b53-ac81-4747-a0ea-ad51edf510f9",
   "metadata": {},
   "source": [
    "#### Task 6.5.9\n",
    "Add a Div object to your applications layout. Be sure to give it the id \"metrics\".\n",
    "\n",
    "Create a `get_model_metrics` function that builds, trains, and evaluates `KMeans` model. Use the docstring for guidance. "
   ]
  },
  {
   "cell_type": "code",
   "execution_count": 14,
   "id": "9b7f696f-1079-48ef-9346-7f4a83f6ba42",
   "metadata": {},
   "outputs": [],
   "source": [
    "def get_model_metrics(trimmed=True, k=2, return_metrics=False):  \n",
    "    \"\"\"Build ``KMeans`` model based on five highest-variance features in ``df``.\n",
    "\n",
    "    Parameters\n",
    "    ----------\n",
    "    trimmed : bool, default=True\n",
    "        If ``True``, calculates trimmed variance, removing bottom and top 10%\n",
    "        of observations.\n",
    "\n",
    "    k : int, default=2\n",
    "        Number of clusters.\n",
    "\n",
    "    return_metrics : bool, default=False\n",
    "        If ``False`` returns ``KMeans`` model. If ``True`` returns ``dict``\n",
    "        with inertia and silhouette score.\n",
    "\n",
    "    \"\"\"\n",
    "    # Get top five variance features\n",
    "    features = get_high_var_features(trimmed=trimmed, return_feat_names=True)\n",
    "    # Create feature matrix\n",
    "    X = df[features]\n",
    "    # Build model\n",
    "    model = make_pipeline(StandardScaler(), KMeans(n_clusters=k, random_state=42))\n",
    "    model.fit(X)\n",
    "\n",
    "    if return_metrics:\n",
    "        # calculate inertia\n",
    "        i = model.named_steps[\"kmeans\"].inertia_\n",
    "        # calculate silhouette score\n",
    "        ss = silhouette_score(X, model.named_steps[\"kmeans\"].labels_)\n",
    "        # Put results into a dictionary\n",
    "        metrics = {\n",
    "            \"inertia\":round(i),\n",
    "            \"silhouette\": round(ss, 3)\n",
    "                  }\n",
    "        return metrics\n",
    "        \n",
    "    \n",
    "    return model"
   ]
  },
  {
   "cell_type": "code",
   "execution_count": 15,
   "id": "a613da35-0ba1-4e97-b619-9f2af1a86369",
   "metadata": {},
   "outputs": [
    {
     "data": {
      "text/plain": [
       "{'inertia': 2083, 'silhouette': np.float64(0.757)}"
      ]
     },
     "execution_count": 15,
     "metadata": {},
     "output_type": "execute_result"
    }
   ],
   "source": [
    "get_model_metrics(trimmed=True, k=4, return_metrics=True)"
   ]
  },
  {
   "cell_type": "markdown",
   "id": "d67d19d2-6f98-487b-b084-710c1aa97460",
   "metadata": {},
   "source": [
    "#### Task 6.5.10\n",
    "Create a `serve_metrics` function. It should use your `get_model_metrics` to build and get the metrics for a model, and then return two objects: An `H3` header with the model's inertia and another `H3` header with the silhouette score.\n",
    "\n",
    "Then add a callback decorator to your `serve_metrics` function. The callback inputs should be the values returned by `\"trim-button\"` and `\"k-slider\"`, and the output should be directed to `\"metrics\"`."
   ]
  },
  {
   "cell_type": "code",
   "execution_count": 16,
   "id": "7cbf696f-9604-4f95-9234-60b3f18f41d7",
   "metadata": {},
   "outputs": [],
   "source": [
    "# update the layout with the function\n",
    "@app.callback(\n",
    "    Output(\"metrics\", \"children\"),\n",
    "    Input(\"trim-button\", \"value\"),\n",
    "    Input(\"k-slider\", \"value\")\n",
    ")\n",
    "\n",
    "def serve_metrics(trimmed=True, k=2):  \n",
    "    \"\"\"Returns list of ``H3`` elements containing inertia and silhouette score\n",
    "    for ``KMeans`` model.\n",
    "\n",
    "    Parameters\n",
    "    ----------\n",
    "    trimmed : bool, default=True\n",
    "        If ``True``, calculates trimmed variance, removing bottom and top 10%\n",
    "        of observations.\n",
    "\n",
    "    k : int, default=2\n",
    "        Number of clusters.\n",
    "    \"\"\"\n",
    "    # Get metrics\n",
    "    metrics = get_model_metrics(trimmed=trimmed, k=k, return_metrics=True)\n",
    "\n",
    "    # Add metrics to HTML elements\n",
    "    text= [\n",
    "        html.H3(f\"Inertia: {metrics['inertia']}\"),\n",
    "        html.H3(f\"Silhouette Score: {metrics['silhouette']}\")\n",
    "    ]\n",
    "   \n",
    "    return text"
   ]
  },
  {
   "cell_type": "markdown",
   "id": "cd81ab17-bd83-4fca-a6d8-14b635ecaf8c",
   "metadata": {},
   "source": [
    "## PCA Scatter Plot"
   ]
  },
  {
   "cell_type": "markdown",
   "id": "5f4e061c-5ac6-40ba-8910-c7476316a68d",
   "metadata": {},
   "source": [
    "#### Task 6.5.11\n",
    "Add a `Graph` object to your application's layout. Be sure to give it the id `\"pca-scatter\"`.\n",
    "\n",
    "Create a function `get_pca_labels` that subsets a DataFrame to its five highest-variance features, reduces those features to two dimensions using `PCA`, and returns a new DataFrame with three columns: `\"PC1\"`, `\"PC2\"`, and `\"labels\"`. This last column should be the labels determined by a `KMeans` model. Refer to the docstring for guidance. "
   ]
  },
  {
   "cell_type": "code",
   "execution_count": 17,
   "id": "29934502-1361-481a-aff4-44faf9b6b18e",
   "metadata": {},
   "outputs": [],
   "source": [
    "def get_pca_labels(trimmed=True, k=2):  \n",
    "    \"\"\"\n",
    "    ``KMeans`` labels.\n",
    "\n",
    "    Parameters\n",
    "    ----------\n",
    "    trimmed : bool, default=True\n",
    "        If ``True``, calculates trimmed variance, removing bottom and top 10%\n",
    "        of observations.\n",
    "\n",
    "    k : int, default=2\n",
    "        Number of clusters.\n",
    "    \"\"\"\n",
    "    # Get features\n",
    "    features = get_high_var_features(trimmed=trimmed, return_feat_names=True)\n",
    "    X = df[features]\n",
    "\n",
    "    # Instantiate PCA\n",
    "    transformer = PCA(n_components=2, random_state=42)\n",
    "\n",
    "    # Transform the data\n",
    "    X_t = transformer.fit_transform(X)\n",
    "    X_pca = pd.DataFrame(X_t, columns=[\"PC1\", \"PC2\"])\n",
    "\n",
    "    # Add labels\n",
    "    model = get_model_metrics(trimmed=trimmed, k=k, return_metrics=False)\n",
    "    X_pca[\"labels\"] = model.named_steps[\"kmeans\"].labels_.astype(str)\n",
    "    X_pca.sort_values(\"labels\", inplace=True)\n",
    "    \n",
    "    return X_pca"
   ]
  },
  {
   "cell_type": "code",
   "execution_count": 18,
   "id": "09191d5b-0cf2-41f0-baf2-d44c2c38a944",
   "metadata": {},
   "outputs": [
    {
     "data": {
      "text/html": [
       "<div>\n",
       "<style scoped>\n",
       "    .dataframe tbody tr th:only-of-type {\n",
       "        vertical-align: middle;\n",
       "    }\n",
       "\n",
       "    .dataframe tbody tr th {\n",
       "        vertical-align: top;\n",
       "    }\n",
       "\n",
       "    .dataframe thead th {\n",
       "        text-align: right;\n",
       "    }\n",
       "</style>\n",
       "<table border=\"1\" class=\"dataframe\">\n",
       "  <thead>\n",
       "    <tr style=\"text-align: right;\">\n",
       "      <th></th>\n",
       "      <th>PC1</th>\n",
       "      <th>PC2</th>\n",
       "      <th>labels</th>\n",
       "    </tr>\n",
       "  </thead>\n",
       "  <tbody>\n",
       "    <tr>\n",
       "      <th>1228</th>\n",
       "      <td>6.417797e+07</td>\n",
       "      <td>9.677892e+06</td>\n",
       "      <td>3</td>\n",
       "    </tr>\n",
       "    <tr>\n",
       "      <th>3124</th>\n",
       "      <td>1.012503e+08</td>\n",
       "      <td>-8.286721e+07</td>\n",
       "      <td>3</td>\n",
       "    </tr>\n",
       "    <tr>\n",
       "      <th>3125</th>\n",
       "      <td>1.009272e+08</td>\n",
       "      <td>-8.294468e+07</td>\n",
       "      <td>3</td>\n",
       "    </tr>\n",
       "    <tr>\n",
       "      <th>1199</th>\n",
       "      <td>5.336054e+07</td>\n",
       "      <td>8.371079e+06</td>\n",
       "      <td>3</td>\n",
       "    </tr>\n",
       "    <tr>\n",
       "      <th>1322</th>\n",
       "      <td>5.864089e+07</td>\n",
       "      <td>1.015403e+07</td>\n",
       "      <td>3</td>\n",
       "    </tr>\n",
       "  </tbody>\n",
       "</table>\n",
       "</div>"
      ],
      "text/plain": [
       "               PC1           PC2 labels\n",
       "1228  6.417797e+07  9.677892e+06      3\n",
       "3124  1.012503e+08 -8.286721e+07      3\n",
       "3125  1.009272e+08 -8.294468e+07      3\n",
       "1199  5.336054e+07  8.371079e+06      3\n",
       "1322  5.864089e+07  1.015403e+07      3"
      ]
     },
     "execution_count": 18,
     "metadata": {},
     "output_type": "execute_result"
    }
   ],
   "source": [
    "get_pca_labels(trimmed=True, k=4).tail()"
   ]
  },
  {
   "cell_type": "markdown",
   "id": "f92b04b8-7ecb-46c7-a5b5-e72d176958f2",
   "metadata": {},
   "source": [
    "#### Task 6.5.12\n",
    "Create a function `serve_scatter_plot` that creates a 2D scatter plot of the data used to train a `KMeans` model, along with color-coded clusters. Use `get_pca_labels` as a helper. Refer to the docstring for guidance. \n",
    "\n",
    "Add a callback decorator to your `serve_scatter_plot` function. The callback inputs should be the values returned by `\"trim-button\"` and `\"k-slider\"`, and the output should be directed to `\"pca-scatter\"`."
   ]
  },
  {
   "cell_type": "code",
   "execution_count": 19,
   "id": "9e4b0b37-462b-4673-aa1c-483612200cab",
   "metadata": {},
   "outputs": [],
   "source": [
    "@app.callback(\n",
    "    Output(\"pca_scatter\", \"figure\"),\n",
    "    Input(\"trim-button\", \"value\"),\n",
    "    Input(\"k-slider\", \"value\")\n",
    ")\n",
    "\n",
    "def serve_scatter_plot(trimmed=True, k=2):\n",
    "    \"\"\"Build 2D scatter plot of ``df`` with ``KMeans`` labels.\n",
    "\n",
    "    Parameters\n",
    "    ----------\n",
    "    trimmed : bool, default=True\n",
    "        If ``True``, calculates trimmed variance, removing bottom and top 10%\n",
    "        of observations.\n",
    "\n",
    "    k : int, default=2\n",
    "        Number of clusters.\n",
    "    \"\"\"\n",
    "    # plot pca scatter\n",
    "    fig = px.scatter(\n",
    "        data_frame=get_pca_labels(trimmed=trimmed, k=k),\n",
    "        x=\"PC1\",\n",
    "        y=\"PC2\",\n",
    "        color=\"labels\",\n",
    "        title=\"PCA Representation of Clusters\"\n",
    "    )\n",
    "    fig.update_layout(xaxis_title=\"PC1\", yaxis_title=\"PC2\", legend_title_text=\"Clusters\")\n",
    "    \n",
    "    return fig"
   ]
  },
  {
   "cell_type": "code",
   "execution_count": 20,
   "id": "e7c32de7-2905-49e0-9217-e6b89ca725ec",
   "metadata": {},
   "outputs": [],
   "source": [
    "# serve_scatter_plot(trimmed=True, k=4)"
   ]
  },
  {
   "cell_type": "markdown",
   "id": "0e95f5b8-ba8f-4b2b-a7d7-3f8af0d71ae8",
   "metadata": {},
   "source": [
    "Run this code below and click the link to display the application."
   ]
  },
  {
   "cell_type": "code",
   "execution_count": 21,
   "id": "aa07d86a-b5e2-4abe-b0b1-05575e325d26",
   "metadata": {},
   "outputs": [
    {
     "name": "stdout",
     "output_type": "stream",
     "text": [
      "Dash app running on http://127.0.0.1:8050/\n"
     ]
    }
   ],
   "source": [
    "if __name__ == \"__main__\":\n",
    "    app.run(debug=True, jupyter_mode=\"external\")"
   ]
  }
 ],
 "metadata": {
  "kernelspec": {
   "display_name": "Python 3 (ipykernel)",
   "language": "python",
   "name": "python3"
  },
  "language_info": {
   "codemirror_mode": {
    "name": "ipython",
    "version": 3
   },
   "file_extension": ".py",
   "mimetype": "text/x-python",
   "name": "python",
   "nbconvert_exporter": "python",
   "pygments_lexer": "ipython3",
   "version": "3.13.2"
  }
 },
 "nbformat": 4,
 "nbformat_minor": 5
}
